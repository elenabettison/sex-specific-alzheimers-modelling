{
 "cells": [
  {
   "cell_type": "markdown",
   "id": "c071deca-c05e-42db-816d-310c2f9c3737",
   "metadata": {},
   "source": [
    "# Sex-Specific Alzheimer's Disease Modelling Experimentations"
   ]
  },
  {
   "cell_type": "markdown",
   "id": "95f7b7cc-ff22-48c4-8066-206ac908783a",
   "metadata": {},
   "source": [
    "## Set-up and Cleaning"
   ]
  },
  {
   "cell_type": "code",
   "execution_count": 189,
   "id": "7f7cdf5b-5163-4cc6-9788-c58bce00e581",
   "metadata": {},
   "outputs": [],
   "source": [
    "# === Load and clean data ===\n",
    "import pandas as pd\n",
    "import numpy as np\n",
    "from sklearn.svm import SVC\n",
    "from sklearn.model_selection import train_test_split\n",
    "from sklearn.linear_model import LogisticRegression\n",
    "from sklearn.preprocessing import StandardScaler\n",
    "from sklearn.ensemble import RandomForestClassifier, VotingClassifier\n",
    "from sklearn.model_selection import RepeatedStratifiedKFold\n",
    "from sklearn.model_selection import StratifiedGroupKFold\n",
    "from sklearn.metrics import accuracy_score, f1_score, precision_score, recall_score, roc_auc_score\n",
    "from sklearn.pipeline import Pipeline\n",
    "from xgboost import XGBClassifier\n",
    "import matplotlib.pyplot as plt\n",
    "import seaborn as sns\n",
    "\n",
    "\n"
   ]
  },
  {
   "cell_type": "code",
   "execution_count": 191,
   "id": "5dea7543-8ca4-42d3-8549-1dbe5410404d",
   "metadata": {},
   "outputs": [
    {
     "name": "stdout",
     "output_type": "stream",
     "text": [
      "    Subject ID         MRI ID        Group  Visit  MR Delay M/F Hand  Age  \\\n",
      "0    OAS2_0001  OAS2_0001_MR1  Nondemented      1         0   M    R   87   \n",
      "1    OAS2_0001  OAS2_0001_MR2  Nondemented      2       457   M    R   88   \n",
      "2    OAS2_0002  OAS2_0002_MR1     Demented      1         0   M    R   75   \n",
      "3    OAS2_0002  OAS2_0002_MR2     Demented      2       560   M    R   76   \n",
      "4    OAS2_0002  OAS2_0002_MR3     Demented      3      1895   M    R   80   \n",
      "..         ...            ...          ...    ...       ...  ..  ...  ...   \n",
      "368  OAS2_0185  OAS2_0185_MR2     Demented      2       842   M    R   82   \n",
      "369  OAS2_0185  OAS2_0185_MR3     Demented      3      2297   M    R   86   \n",
      "370  OAS2_0186  OAS2_0186_MR1  Nondemented      1         0   F    R   61   \n",
      "371  OAS2_0186  OAS2_0186_MR2  Nondemented      2       763   F    R   63   \n",
      "372  OAS2_0186  OAS2_0186_MR3  Nondemented      3      1608   F    R   65   \n",
      "\n",
      "     EDUC  SES  MMSE  CDR  eTIV   nWBV    ASF  \n",
      "0      14  2.0  27.0  0.0  1987  0.696  0.883  \n",
      "1      14  2.0  30.0  0.0  2004  0.681  0.876  \n",
      "2      12  NaN  23.0  0.5  1678  0.736  1.046  \n",
      "3      12  NaN  28.0  0.5  1738  0.713  1.010  \n",
      "4      12  NaN  22.0  0.5  1698  0.701  1.034  \n",
      "..    ...  ...   ...  ...   ...    ...    ...  \n",
      "368    16  1.0  28.0  0.5  1693  0.694  1.037  \n",
      "369    16  1.0  26.0  0.5  1688  0.675  1.040  \n",
      "370    13  2.0  30.0  0.0  1319  0.801  1.331  \n",
      "371    13  2.0  30.0  0.0  1327  0.796  1.323  \n",
      "372    13  2.0  30.0  0.0  1333  0.801  1.317  \n",
      "\n",
      "[373 rows x 15 columns]\n"
     ]
    }
   ],
   "source": [
    "# Load OASIS dataset\n",
    "df = pd.read_csv(\"oasis_longitudinal.csv\")\n",
    "print(df)"
   ]
  },
  {
   "cell_type": "code",
   "execution_count": 156,
   "id": "f5b689c9-5f03-4d70-9ec2-b09c179561ae",
   "metadata": {},
   "outputs": [],
   "source": [
    "# Fill missing SES and MMSE values\n",
    "df['SES'] = df['SES'].fillna(df['SES'].median())\n",
    "df['MMSE'] = df['MMSE'].fillna(df['MMSE'].mean())"
   ]
  },
  {
   "cell_type": "code",
   "execution_count": 157,
   "id": "d5713ea5-ba81-49c6-88b2-295ccad1928a",
   "metadata": {},
   "outputs": [],
   "source": [
    "# Convert labels to binary classification: demented = 1, nondemented = 0\n",
    "df['Group'] = df['Group'].replace(\"Converted\", \"Demented\")\n",
    "df['Group'] = df['Group'].map({\"Demented\": 1, \"Nondemented\": 0})"
   ]
  },
  {
   "cell_type": "code",
   "execution_count": 158,
   "id": "5ea231f3-353b-44b8-b7c7-a26592fb9889",
   "metadata": {},
   "outputs": [],
   "source": [
    "# Define features and dropping missing values\n",
    "my_features = ['Age', 'EDUC', 'SES', 'MMSE', 'CDR', 'eTIV', 'nWBV', 'ASF']\n",
    "df_clean = df.dropna(subset=my_features + ['Group', 'M/F'])"
   ]
  },
  {
   "cell_type": "markdown",
   "id": "8222a268-b78c-4ff4-b27d-e2856ca1da79",
   "metadata": {},
   "source": [
    "## Repeated Train/Test Evaluation Function"
   ]
  },
  {
   "cell_type": "code",
   "execution_count": 160,
   "id": "98d15d34-080b-49b3-8209-1c4025fda294",
   "metadata": {},
   "outputs": [],
   "source": [
    "\n",
    "# === REPEATED TRAIN/TEST EVALUATION ===\n",
    "\n",
    "def repeated_evaluation(model, X, y, label, sex=None, sex_filter=None, groups=None, n_splits=5, n_repeats=5):\n",
    "    metrics = []\n",
    "    for repeat in range(n_repeats):\n",
    "        sgkf = StratifiedGroupKFold(n_splits=n_splits, shuffle=True, random_state=42 + repeat)\n",
    "        for train_idx, test_idx in sgkf.split(X, y, groups):\n",
    "            X_train, X_test = X.iloc[train_idx], X.iloc[test_idx]\n",
    "            y_train, y_test = y.iloc[train_idx], y.iloc[test_idx]\n",
    "            scaler = StandardScaler() \n",
    "            X_train_scaled = scaler.fit_transform(X_train) \n",
    "            X_test_scaled = scaler.transform(X_test)\n",
    "            model.fit(X_train_scaled, y_train)\n",
    "            y_pred = model.predict(X_test_scaled)\n",
    "            y_proba = model.predict_proba(X_test_scaled) [:, 1]\n",
    "        if sex is not None and sex_filter is not None:\n",
    "            test_sex = sex.iloc[test_idx]\n",
    "            mask = test_sex == sex_filter\n",
    "            if not mask.any():\n",
    "                continue\n",
    "            y_test = y_test[mask]\n",
    "            y_pred = y_pred[mask]\n",
    "            y_proba = y_proba[mask]\n",
    "\n",
    "        metrics.append([\n",
    "            accuracy_score(y_test, y_pred),\n",
    "            f1_score(y_test, y_pred),\n",
    "            precision_score(y_test, y_pred),\n",
    "            recall_score(y_test, y_pred),\n",
    "            roc_auc_score(y_test, y_proba)\n",
    "\n",
    "        ])\n",
    "        \n",
    "    metrics = np.array(metrics)\n",
    "    means = metrics.mean(axis=0)\n",
    "    stds = metrics.std(axis=0)\n",
    "    return[label,\n",
    "           means[0], stds[0],\n",
    "           means[1], stds[1],\n",
    "           means[2], stds[2],\n",
    "           means[3], stds[3],\n",
    "           means[4], stds[4]\n",
    "          ]\n"
   ]
  },
  {
   "cell_type": "code",
   "execution_count": 161,
   "id": "ff68efce-8d76-4afc-b3c5-7239b0ef30c2",
   "metadata": {},
   "outputs": [],
   "source": [
    "results = []\n",
    "X_all = df_clean[my_features]\n",
    "y_all = df_clean['Group']\n",
    "sex_all = df_clean['M/F']\n",
    "groups_all = df_clean['Subject ID']"
   ]
  },
  {
   "cell_type": "markdown",
   "id": "2dd39d1c-e200-4b5a-9644-ca58c6fd173e",
   "metadata": {},
   "source": [
    "## Logistic Regression and Random Forest Classifier Models"
   ]
  },
  {
   "cell_type": "code",
   "execution_count": 163,
   "id": "beeae0a5-a338-484a-92f0-d5a65668ab9c",
   "metadata": {},
   "outputs": [],
   "source": [
    "\n",
    "# === General models ===\n",
    "results.append(repeated_evaluation(LogisticRegression(max_iter=1000), X_all, y_all, \"Gen-LR-All\", groups=groups_all))\n",
    "results.append(repeated_evaluation(RandomForestClassifier(n_estimators=100, random_state=42), X_all, y_all, \"Gen-RF-All\", groups=groups_all))\n",
    "results.append(repeated_evaluation(LogisticRegression(max_iter=1000), X_all, y_all, \"Gen-LR-M\", sex=sex_all, sex_filter='M', groups=groups_all))\n",
    "results.append(repeated_evaluation(LogisticRegression(max_iter=1000), X_all, y_all, \"Gen-LR-F\", sex=sex_all, sex_filter='F', groups=groups_all))\n",
    "results.append(repeated_evaluation(RandomForestClassifier(n_estimators=100, random_state=42), X_all, y_all, \"Gen-RF-M\", sex=sex_all, sex_filter='M', groups=groups_all))\n",
    "results.append(repeated_evaluation(RandomForestClassifier(n_estimators=100, random_state=42), X_all, y_all, \"Gen-RF-F\", sex=sex_all, sex_filter='F', groups=groups_all))\n"
   ]
  },
  {
   "cell_type": "code",
   "execution_count": 164,
   "id": "5d954c20-d3a9-4d14-8d34-8cfa090414be",
   "metadata": {},
   "outputs": [],
   "source": [
    "\n",
    "# === Sex specific models ===\n",
    "groups_f = df_female['Subject ID']\n",
    "groups_m = df_male['Subject ID']\n",
    "\n",
    "df_male = df_clean[df_clean['M/F'] == 'M']\n",
    "X_m, y_m = df_male[my_features], df_male['Group']\n",
    "results.append(repeated_evaluation(LogisticRegression(max_iter=1000), X_m, y_m, \"Male-LR-M\", groups=groups_m))\n",
    "results.append(repeated_evaluation(RandomForestClassifier(n_estimators=100, random_state=42), X_m, y_m, \"Male-RF-M\", groups=groups_m))\n",
    "\n",
    "df_female = df_clean[df_clean['M/F'] == 'F']\n",
    "X_f, y_f = df_female[my_features], df_female['Group']\n",
    "results.append(repeated_evaluation(LogisticRegression(max_iter=1000), X_f, y_f, \"Female-LR-F\", groups=groups_f))\n",
    "results.append(repeated_evaluation(RandomForestClassifier(n_estimators=100, random_state=42), X_f, y_f, \"Female-RF-F\", groups=groups_f))"
   ]
  },
  {
   "cell_type": "code",
   "execution_count": 165,
   "id": "4cb015c7-5b91-4e73-afc5-5d00f3aaa52d",
   "metadata": {},
   "outputs": [
    {
     "name": "stdout",
     "output_type": "stream",
     "text": [
      "         Model  Accuracy_mean  Accuracy_std   F1_mean    F1_std  \\\n",
      "0   Gen-LR-All       0.940433      0.013530  0.935406  0.016686   \n",
      "1   Gen-RF-All       0.945530      0.015396  0.941044  0.020566   \n",
      "2     Gen-LR-M       0.965453      0.011637  0.973939  0.009822   \n",
      "3     Gen-LR-F       0.918739      0.024582  0.858285  0.050277   \n",
      "4     Gen-RF-M       0.960190      0.012633  0.970433  0.009508   \n",
      "5     Gen-RF-F       0.932655      0.029246  0.879259  0.067712   \n",
      "6    Male-LR-M       0.970289      0.034285  0.976566  0.026787   \n",
      "7    Male-RF-M       0.930390      0.042489  0.944774  0.034610   \n",
      "8  Female-LR-F       0.959723      0.035108  0.921754  0.072858   \n",
      "9  Female-RF-F       0.936847      0.027467  0.891209  0.061842   \n",
      "\n",
      "   Precision_mean  Precision_std  Recall_mean  Recall_std  AUC_mean   AUC_std  \n",
      "0        0.986406       0.016686     0.889599    0.020809  0.971773  0.013940  \n",
      "1        0.981644       0.015480     0.903995    0.029399  0.959873  0.020312  \n",
      "2        0.982213       0.021793     0.966375    0.017141  0.994376  0.008161  \n",
      "3        1.000000       0.000000     0.755141    0.077018  0.954395  0.032869  \n",
      "4        0.975071       0.020614     0.966375    0.017141  0.974854  0.016120  \n",
      "5        1.000000       0.000000     0.791017    0.107367  0.933090  0.041749  \n",
      "6        0.990476       0.019048     0.965035    0.052842  0.989091  0.021818  \n",
      "7        0.932308       0.075588     0.965035    0.052842  0.976938  0.031094  \n",
      "8        1.000000       0.000000     0.863312    0.125075  0.936664  0.058115  \n",
      "9        0.934303       0.034038     0.863312    0.125075  0.945862  0.045425  \n"
     ]
    }
   ],
   "source": [
    "\n",
    "# === Results Table ===\n",
    "columns =['Model', 'Accuracy_mean', 'Accuracy_std', 'F1_mean', 'F1_std', 'Precision_mean', 'Precision_std', 'Recall_mean', 'Recall_std', 'AUC_mean', 'AUC_std']\n",
    "results_table = pd.DataFrame(results, columns=columns)\n",
    "print(results_table)\n"
   ]
  },
  {
   "cell_type": "code",
   "execution_count": null,
   "id": "b25f73ae-bbd7-4f40-b0a8-3a4c3e58af8e",
   "metadata": {},
   "outputs": [],
   "source": []
  },
  {
   "cell_type": "markdown",
   "id": "9d1ea2d3-703a-45d2-bcbc-cf74309ab0f4",
   "metadata": {},
   "source": [
    "## XGBOOST models"
   ]
  },
  {
   "cell_type": "code",
   "execution_count": 167,
   "id": "40d9a554-db5e-4640-a43e-d171a81223ec",
   "metadata": {},
   "outputs": [],
   "source": [
    "xgb_results = []\n",
    "xgb_results.append(repeated_evaluation(XGBClassifier(eval_metric='logloss'), X_all, y_all, 'Gen-XGB-All', groups=groups_all))\n",
    "xgb_results.append(repeated_evaluation(XGBClassifier(eval_metric='logloss'), X_all, y_all, 'Gen-XGB-M', sex=sex_all, sex_filter='M', groups=groups_all))\n",
    "xgb_results.append(repeated_evaluation(XGBClassifier(eval_metric='logloss'), X_all, y_all, 'Gen-XGB-F', sex=sex_all, sex_filter='F', groups=groups_all))\n",
    "xgb_results.append(repeated_evaluation(XGBClassifier(eval_metric='logloss'), X_m, y_m, 'Male-XGB-M', groups=groups_m))\n",
    "xgb_results.append(repeated_evaluation(XGBClassifier(eval_metric='logloss'), X_f, y_f, 'Female-XGB-F', groups=groups_f))\n"
   ]
  },
  {
   "cell_type": "code",
   "execution_count": 168,
   "id": "b79068ae-d5ea-4aa6-84f3-7fff9779ebbc",
   "metadata": {},
   "outputs": [
    {
     "name": "stdout",
     "output_type": "stream",
     "text": [
      "          Model  Accuracy_mean  Accuracy_std   F1_mean    F1_std  \\\n",
      "0   Gen-XGB-All       0.940637      0.029733  0.934190  0.039977   \n",
      "1     Gen-XGB-M       0.947964      0.033635  0.961388  0.025751   \n",
      "2     Gen-XGB-F       0.932364      0.048222  0.875929  0.103211   \n",
      "3    Male-XGB-M       0.958673      0.031574  0.966515  0.025021   \n",
      "4  Female-XGB-F       0.913392      0.029098  0.867011  0.025363   \n",
      "\n",
      "   Precision_mean  Precision_std  Recall_mean  Recall_std  AUC_mean   AUC_std  \n",
      "0        0.956288       0.048440     0.913946    0.041486  0.949987  0.020266  \n",
      "1        0.957609       0.045652     0.966375    0.017141  0.974155  0.016054  \n",
      "2        0.949206       0.063014     0.817803    0.136534  0.907991  0.056663  \n",
      "3        0.971292       0.037185     0.965035    0.052842  0.976713  0.036987  \n",
      "4        0.913621       0.078898     0.843312    0.108519  0.902926  0.067514  \n"
     ]
    }
   ],
   "source": [
    "xgb_results_table = pd.DataFrame(xgb_results, columns=columns)\n",
    "print(xgb_results_table)"
   ]
  },
  {
   "cell_type": "markdown",
   "id": "a5e96ef7-9266-4dab-a887-14096db08033",
   "metadata": {},
   "source": [
    "## Support Vector Machine and Voting Classifier Models "
   ]
  },
  {
   "cell_type": "code",
   "execution_count": 197,
   "id": "ebc0afe2-139f-4cbd-aa88-36435e124a2b",
   "metadata": {},
   "outputs": [],
   "source": [
    "svm_vote_results = []\n",
    "svm_model = SVC(kernel='rbf', probability=True, class_weight='balanced', random_state=42)\n",
    "\n",
    "# === SVM general models ===\n",
    "svm_vote_results.append(repeated_evaluation(svm_model, X_all, y_all, 'Gen-SVM-All', groups=groups_all))\n",
    "svm_vote_results.append(repeated_evaluation(svm_model, X_all, y_all, 'Gen-SVM-M', groups=groups_all))\n",
    "svm_vote_results.append(repeated_evaluation(svm_model, X_all, y_all, 'Gen-SVM-F', groups=groups_all))\n",
    "\n",
    "# === SVM sex-specific models ===\n",
    "svm_vote_results.append(repeated_evaluation(svm_model, X_m, y_m, 'Male-SVM-M', groups=groups_m))\n",
    "svm_vote_results.append(repeated_evaluation(svm_model, X_f, y_f, 'Female-SVM-F', groups=groups_f))"
   ]
  },
  {
   "cell_type": "code",
   "execution_count": 198,
   "id": "9b7a16b2-ba34-4965-98b0-0e3ab686ee29",
   "metadata": {},
   "outputs": [],
   "source": [
    "# === Voting Classifier Set-up ===\n",
    "\n",
    "voting_estimators =[\n",
    "    ('lr', LogisticRegression(max_iter=1000)),\n",
    "    ('rf', RandomForestClassifier(n_estimators=100, random_state=42)),\n",
    "    ('svm', SVC(kernel='rbf', probability=True, class_weight='balanced', random_state=42)),\n",
    "]\n",
    "voting_clf = VotingClassifier(estimators=voting_estimators, voting='soft')\n",
    "\n",
    "    "
   ]
  },
  {
   "cell_type": "code",
   "execution_count": 203,
   "id": "e57656fc-88b2-410e-8bf7-c9548acdf61f",
   "metadata": {},
   "outputs": [],
   "source": [
    "# === VC general models ===\n",
    "svm_vote_results.append(repeated_evaluation(voting_clf, X_all, y_all, 'Gen-VOTE-All', groups=groups_all))\n",
    "svm_vote_results.append(repeated_evaluation(voting_clf, X_all, y_all, 'Gen-VOTE-M', sex=sex_all, sex_filter='M', groups=groups_all))\n",
    "svm_vote_results.append(repeated_evaluation(voting_clf, X_all, y_all, 'Gen-VOTE-F', sex=sex_all, sex_filter='F', groups=groups_all))\n",
    "                                         \n",
    "# === VC sex-specific models\n",
    "svm_vote_results.append(repeated_evaluation(voting_clf, X_m, y_m, 'Male-VOTE-M', groups=groups_m))\n",
    "svm_vote_results.append(repeated_evaluation(voting_clf, X_f, y_f, 'Female-VOTE-F', groups=groups_f))                                          \n"
   ]
  },
  {
   "cell_type": "code",
   "execution_count": 205,
   "id": "db6d4d0a-fb6c-42cf-a40a-12187d2f3e84",
   "metadata": {},
   "outputs": [
    {
     "name": "stdout",
     "output_type": "stream",
     "text": [
      "            Model  Accuracy_mean  Accuracy_std   F1_mean    F1_std  \\\n",
      "0     Gen-SVM-All       0.937801      0.015605  0.932609  0.019460   \n",
      "1       Gen-SVM-M       0.937801      0.015605  0.932609  0.019460   \n",
      "2       Gen-SVM-F       0.937801      0.015605  0.932609  0.019460   \n",
      "3      Male-SVM-M       0.969595      0.048442  0.976078  0.038790   \n",
      "4    Female-SVM-F       0.954845      0.030574  0.911228  0.064064   \n",
      "5    Gen-VOTE-All       0.940433      0.013530  0.935406  0.016686   \n",
      "6      Gen-VOTE-M       0.965453      0.011637  0.973939  0.009822   \n",
      "7      Gen-VOTE-F       0.918739      0.024582  0.858285  0.050277   \n",
      "8    Gen-VOTE-All       0.940433      0.013530  0.935406  0.016686   \n",
      "9      Gen-VOTE-M       0.965453      0.011637  0.973939  0.009822   \n",
      "10     Gen-VOTE-F       0.918739      0.024582  0.858285  0.050277   \n",
      "11    Male-VOTE-M       0.975845      0.036338  0.981444  0.028344   \n",
      "12  Female-VOTE-F       0.954845      0.030574  0.912231  0.064658   \n",
      "\n",
      "    Precision_mean  Precision_std  Recall_mean  Recall_std  AUC_mean   AUC_std  \n",
      "0         0.980357       0.025505     0.889599    0.020809  0.956426  0.015875  \n",
      "1         0.980357       0.025505     0.889599    0.020809  0.956426  0.015875  \n",
      "2         0.980357       0.025505     0.889599    0.020809  0.956426  0.015875  \n",
      "3         1.000000       0.000000     0.955944    0.070473  0.990210  0.017884  \n",
      "4         1.000000       0.000000     0.843312    0.108519  0.917543  0.074529  \n",
      "5         0.986406       0.016686     0.889599    0.020809  0.964243  0.017336  \n",
      "6         0.982213       0.021793     0.966375    0.017141  0.981719  0.012707  \n",
      "7         1.000000       0.000000     0.755141    0.077018  0.938823  0.037858  \n",
      "8         0.986406       0.016686     0.889599    0.020809  0.964243  0.017336  \n",
      "9         0.982213       0.021793     0.966375    0.017141  0.981719  0.012707  \n",
      "10        1.000000       0.000000     0.755141    0.077018  0.938823  0.037858  \n",
      "11        1.000000       0.000000     0.965035    0.052842  0.988531  0.014865  \n",
      "12        0.981818       0.036364     0.863312    0.125075  0.926891  0.062902  \n"
     ]
    }
   ],
   "source": [
    "# === SVM and VC results ===\n",
    "\n",
    "svm_vote_results_table = pd.DataFrame(svm_vote_results, columns=columns)\n",
    "print(svm_vote_results_table)"
   ]
  },
  {
   "cell_type": "code",
   "execution_count": null,
   "id": "f8933517-a67e-4bf8-9f3a-497ebee6ff3a",
   "metadata": {},
   "outputs": [],
   "source": []
  },
  {
   "cell_type": "code",
   "execution_count": 170,
   "id": "9e343ef5-b9d6-4771-9db6-dd274908a8cc",
   "metadata": {},
   "outputs": [],
   "source": [
    "#### TODO\n",
    "#from scipy.stats import ttest_rel\n",
    "#import pandas as pd\n",
    "\n",
    "# Extract AUC scores for each model from the earlier results\n",
    "# Define model pairs to compare\n",
    "# Perform t-tests\n",
    "# Bonferroni correction\n",
    "\n",
    "# Evaluate all models with cross validation??"
   ]
  }
 ],
 "metadata": {
  "kernelspec": {
   "display_name": "Python (pymc_env)",
   "language": "python",
   "name": "pymc_env"
  },
  "language_info": {
   "codemirror_mode": {
    "name": "ipython",
    "version": 3
   },
   "file_extension": ".py",
   "mimetype": "text/x-python",
   "name": "python",
   "nbconvert_exporter": "python",
   "pygments_lexer": "ipython3",
   "version": "3.10.16"
  }
 },
 "nbformat": 4,
 "nbformat_minor": 5
}
