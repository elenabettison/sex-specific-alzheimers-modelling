{
 "cells": [
  {
   "cell_type": "markdown",
   "id": "c071deca-c05e-42db-816d-310c2f9c3737",
   "metadata": {},
   "source": [
    "# Sex-Specific Alzheimer's Disease Modelling Experimentations"
   ]
  },
  {
   "cell_type": "markdown",
   "id": "95f7b7cc-ff22-48c4-8066-206ac908783a",
   "metadata": {},
   "source": [
    "## Set-up and Cleaning"
   ]
  },
  {
   "cell_type": "code",
   "execution_count": 4,
   "id": "7f7cdf5b-5163-4cc6-9788-c58bce00e581",
   "metadata": {},
   "outputs": [],
   "source": [
    "# === Load and clean data ===\n",
    "import pandas as pd\n",
    "import numpy as np\n",
    "from sklearn.svm import SVC\n",
    "from sklearn.model_selection import train_test_split\n",
    "from sklearn.linear_model import LogisticRegression\n",
    "from sklearn.preprocessing import StandardScaler\n",
    "from sklearn.ensemble import RandomForestClassifier, VotingClassifier\n",
    "from sklearn.model_selection import RepeatedStratifiedKFold\n",
    "from sklearn.model_selection import StratifiedGroupKFold\n",
    "from sklearn.metrics import accuracy_score, f1_score, precision_score, recall_score, roc_auc_score\n",
    "from sklearn.pipeline import Pipeline\n",
    "from xgboost import XGBClassifier\n",
    "import matplotlib.pyplot as plt\n",
    "import seaborn as sns\n",
    "from scipy.stats import ttest_rel\n",
    "from scipy import stats\n",
    "import random\n"
   ]
  },
  {
   "cell_type": "code",
   "execution_count": 5,
   "id": "ee5dcc13-d1ba-4046-9b2c-b7241ecc32a7",
   "metadata": {},
   "outputs": [],
   "source": [
    "# set random seed\n",
    "RANDOM_SEED = 42\n",
    "np.random.seed(RANDOM_SEED)\n",
    "random.seed(RANDOM_SEED)"
   ]
  },
  {
   "cell_type": "code",
   "execution_count": 6,
   "id": "5dea7543-8ca4-42d3-8549-1dbe5410404d",
   "metadata": {},
   "outputs": [
    {
     "name": "stdout",
     "output_type": "stream",
     "text": [
      "    Subject ID         MRI ID        Group  Visit  MR Delay M/F Hand  Age  \\\n",
      "0    OAS2_0001  OAS2_0001_MR1  Nondemented      1         0   M    R   87   \n",
      "1    OAS2_0001  OAS2_0001_MR2  Nondemented      2       457   M    R   88   \n",
      "2    OAS2_0002  OAS2_0002_MR1     Demented      1         0   M    R   75   \n",
      "3    OAS2_0002  OAS2_0002_MR2     Demented      2       560   M    R   76   \n",
      "4    OAS2_0002  OAS2_0002_MR3     Demented      3      1895   M    R   80   \n",
      "..         ...            ...          ...    ...       ...  ..  ...  ...   \n",
      "368  OAS2_0185  OAS2_0185_MR2     Demented      2       842   M    R   82   \n",
      "369  OAS2_0185  OAS2_0185_MR3     Demented      3      2297   M    R   86   \n",
      "370  OAS2_0186  OAS2_0186_MR1  Nondemented      1         0   F    R   61   \n",
      "371  OAS2_0186  OAS2_0186_MR2  Nondemented      2       763   F    R   63   \n",
      "372  OAS2_0186  OAS2_0186_MR3  Nondemented      3      1608   F    R   65   \n",
      "\n",
      "     EDUC  SES  MMSE  CDR  eTIV   nWBV    ASF  \n",
      "0      14  2.0  27.0  0.0  1987  0.696  0.883  \n",
      "1      14  2.0  30.0  0.0  2004  0.681  0.876  \n",
      "2      12  NaN  23.0  0.5  1678  0.736  1.046  \n",
      "3      12  NaN  28.0  0.5  1738  0.713  1.010  \n",
      "4      12  NaN  22.0  0.5  1698  0.701  1.034  \n",
      "..    ...  ...   ...  ...   ...    ...    ...  \n",
      "368    16  1.0  28.0  0.5  1693  0.694  1.037  \n",
      "369    16  1.0  26.0  0.5  1688  0.675  1.040  \n",
      "370    13  2.0  30.0  0.0  1319  0.801  1.331  \n",
      "371    13  2.0  30.0  0.0  1327  0.796  1.323  \n",
      "372    13  2.0  30.0  0.0  1333  0.801  1.317  \n",
      "\n",
      "[373 rows x 15 columns]\n"
     ]
    }
   ],
   "source": [
    "# Load OASIS dataset\n",
    "df = pd.read_csv(\"oasis_longitudinal.csv\")\n",
    "print(df)"
   ]
  },
  {
   "cell_type": "code",
   "execution_count": 7,
   "id": "f5b689c9-5f03-4d70-9ec2-b09c179561ae",
   "metadata": {},
   "outputs": [],
   "source": [
    "# Fill missing SES and MMSE values\n",
    "df['SES'] = df['SES'].fillna(df['SES'].median())\n",
    "df['MMSE'] = df['MMSE'].fillna(df['MMSE'].mean())"
   ]
  },
  {
   "cell_type": "code",
   "execution_count": 8,
   "id": "d5713ea5-ba81-49c6-88b2-295ccad1928a",
   "metadata": {},
   "outputs": [],
   "source": [
    "# Convert labels to binary classification: demented = 1, nondemented = 0\n",
    "df['Group'] = df['Group'].replace(\"Converted\", \"Demented\")\n",
    "df['Group'] = df['Group'].map({\"Demented\": 1, \"Nondemented\": 0})"
   ]
  },
  {
   "cell_type": "code",
   "execution_count": 9,
   "id": "5ea231f3-353b-44b8-b7c7-a26592fb9889",
   "metadata": {},
   "outputs": [],
   "source": [
    "# Define features and dropping missing values\n",
    "my_features = ['Age', 'EDUC', 'SES', 'MMSE', 'CDR', 'eTIV', 'nWBV', 'ASF']\n",
    "df_clean = df.dropna(subset=my_features + ['Group', 'M/F'])"
   ]
  },
  {
   "cell_type": "markdown",
   "id": "8222a268-b78c-4ff4-b27d-e2856ca1da79",
   "metadata": {},
   "source": [
    "## Repeated Train/Test Evaluation Function"
   ]
  },
  {
   "cell_type": "code",
   "execution_count": 11,
   "id": "98d15d34-080b-49b3-8209-1c4025fda294",
   "metadata": {},
   "outputs": [],
   "source": [
    "\n",
    "# === REPEATED TRAIN/TEST EVALUATION ===\n",
    "\n",
    "def repeated_evaluation(model, X, y, label, splits, sex=None, sex_filter=None):\n",
    "    fold_metrics = []\n",
    "    for repeat, fold, train_idx, test_idx in splits:\n",
    "            X_train, X_test = X.iloc[train_idx], X.iloc[test_idx]\n",
    "            y_train, y_test = y.iloc[train_idx], y.iloc[test_idx]\n",
    "            if len(train_idx) == 0 or len(test_idx) == 0:\n",
    "                continue\n",
    "            scaler = StandardScaler() \n",
    "            X_train_scaled = scaler.fit_transform(X_train) \n",
    "            X_test_scaled = scaler.transform(X_test)\n",
    "            model.fit(X_train_scaled, y_train)\n",
    "            y_pred = model.predict(X_test_scaled)\n",
    "            y_proba = model.predict_proba(X_test_scaled)[:, 1]\n",
    "            if sex is not None and sex_filter is not None:\n",
    "                test_sex = sex.iloc[test_idx]\n",
    "                mask = test_sex == sex_filter\n",
    "                if not mask.any():\n",
    "                    continue\n",
    "                y_test = y_test[mask]\n",
    "                y_pred = y_pred[mask]\n",
    "                y_proba = y_proba[mask]\n",
    "\n",
    "            fold_metrics.append({\n",
    "                'repeat': repeat,\n",
    "                'fold': fold,\n",
    "                'accuracy': accuracy_score(y_test, y_pred),\n",
    "                'f1': f1_score(y_test, y_pred),\n",
    "                'precision': precision_score(y_test, y_pred),\n",
    "                'recall': recall_score(y_test, y_pred),\n",
    "                'roc_auc': roc_auc_score(y_test, y_proba)\n",
    "            })\n",
    "\n",
    "    metrics_df = pd.DataFrame(fold_metrics)\n",
    "    metrics = metrics_df[['accuracy', 'f1', 'precision', 'recall', 'roc_auc']]\n",
    "    means = metrics.mean()\n",
    "    stds = metrics.std()\n",
    "    summary = [\n",
    "        label,\n",
    "        means['accuracy'], stds['accuracy'],\n",
    "        means['f1'], stds['f1'],\n",
    "        means['precision'], stds['precision'],\n",
    "        means['recall'], stds['recall'],\n",
    "        means['roc_auc'], stds['roc_auc']\n",
    "    ]\n",
    "   \n",
    "    return summary, metrics_df"
   ]
  },
  {
   "cell_type": "code",
   "execution_count": 12,
   "id": "ff68efce-8d76-4afc-b3c5-7239b0ef30c2",
   "metadata": {},
   "outputs": [],
   "source": [
    "\n",
    "X_all = df_clean[my_features]\n",
    "y_all = df_clean['Group']\n",
    "sex_all = df_clean['M/F']\n",
    "groups_all = df_clean['Subject ID']"
   ]
  },
  {
   "cell_type": "code",
   "execution_count": 13,
   "id": "afc928a0-83ce-47ec-9b8e-e43f1a9332d7",
   "metadata": {},
   "outputs": [],
   "source": [
    "# Compute cross-validation splits\n",
    "splits_all = []\n",
    "for repeat in range(5):\n",
    "    sgkf = StratifiedGroupKFold(n_splits=5, shuffle=True, random_state=42 + repeat)\n",
    "    for fold, (train_idx, test_idx) in enumerate(sgkf.split(X_all, y_all, groups_all)):\n",
    "        splits_all.append((repeat, fold, train_idx, test_idx))\n",
    "male_idx = np.where(sex_all == 'M')[0]\n",
    "female_idx = np.where(sex_all == 'F')[0]\n",
    "splits_m, splits_f = [], []\n",
    "for repeat, fold, train_idx, test_idx in splits_all:\n",
    "    m_train = np.intersect1d(train_idx, male_idx)\n",
    "    m_test = np.intersect1d(test_idx, male_idx)\n",
    "    if len(m_train) and len(m_test):\n",
    "        splits_m.append((repeat, fold, m_train, m_test))\n",
    "    f_train = np.intersect1d(train_idx, female_idx)\n",
    "    f_test = np.intersect1d(test_idx, female_idx)\n",
    "    if len(f_train) and len(f_test):\n",
    "        splits_f.append((repeat, fold, f_train, f_test))"
   ]
  },
  {
   "cell_type": "markdown",
   "id": "2dd39d1c-e200-4b5a-9644-ca58c6fd173e",
   "metadata": {},
   "source": [
    "## Logistic Regression and Random Forest Classifier Models"
   ]
  },
  {
   "cell_type": "code",
   "execution_count": 15,
   "id": "beeae0a5-a338-484a-92f0-d5a65668ab9c",
   "metadata": {},
   "outputs": [],
   "source": [
    "\n",
    "# === General models ===\n",
    "LR_RF_results = []\n",
    "results_folds = {}\n",
    "\n",
    "summary, folds = repeated_evaluation(LogisticRegression(max_iter=1000), X_all, y_all, \"Gen-LR-All\", splits=splits_all)\n",
    "LR_RF_results.append(summary)\n",
    "results_folds[\"Gen-LR-All\"] = folds\n",
    "summary, folds = repeated_evaluation(RandomForestClassifier(n_estimators=100, random_state=RANDOM_SEED), X_all, y_all, \"Gen-RF-All\", splits=splits_all)\n",
    "LR_RF_results.append(summary)\n",
    "results_folds[\"Gen-RF-All\"] = folds\n",
    "summary, folds = repeated_evaluation(LogisticRegression(max_iter=1000), X_all, y_all, \"Gen-LR-M\", sex=sex_all, sex_filter='M', splits=splits_all)\n",
    "LR_RF_results.append(summary)\n",
    "results_folds[\"Gen-LR-M\"] = folds\n",
    "summary, folds = repeated_evaluation(LogisticRegression(max_iter=1000), X_all, y_all, \"Gen-LR-F\", sex=sex_all, sex_filter='F', splits=splits_all)\n",
    "LR_RF_results.append(summary)\n",
    "results_folds[\"Gen-LR-F\"] = folds\n",
    "summary, folds = repeated_evaluation(RandomForestClassifier(n_estimators=100, random_state=RANDOM_SEED), X_all, y_all, \"Gen-RF-M\", sex=sex_all, sex_filter='M', splits=splits_all)\n",
    "LR_RF_results.append(summary)\n",
    "results_folds[\"Gen-RF-M\"] = folds\n",
    "summary, fold = repeated_evaluation(RandomForestClassifier(n_estimators=100, random_state=RANDOM_SEED), X_all, y_all, \"Gen-RF-F\", sex=sex_all, sex_filter='F', splits=splits_all)\n",
    "LR_RF_results.append(summary)\n",
    "results_folds[\"Gen-RF-F\"] = folds\n"
   ]
  },
  {
   "cell_type": "code",
   "execution_count": 16,
   "id": "5d954c20-d3a9-4d14-8d34-8cfa090414be",
   "metadata": {},
   "outputs": [],
   "source": [
    "\n",
    "# === Sex specific models ===\n",
    "\n",
    "df_male = df_clean[df_clean['M/F'] == 'M']\n",
    "df_female = df_clean[df_clean['M/F'] == 'F']\n",
    "groups_f = df_female['Subject ID']\n",
    "groups_m = df_male['Subject ID']\n",
    "\n",
    "X_m, y_m = df_male[my_features], df_male['Group']\n",
    "\n",
    "summary, folds = repeated_evaluation(LogisticRegression(max_iter=1000), X_all, y_all, \"Male-LR-M\", splits=splits_m)\n",
    "LR_RF_results.append(summary)\n",
    "results_folds[\"Male-LR-M\"] = folds\n",
    "summary, folds = repeated_evaluation(RandomForestClassifier(n_estimators=100, random_state=RANDOM_SEED), X_all, y_all, \"Male-RF-M\", splits=splits_m)\n",
    "LR_RF_results.append(summary)\n",
    "results_folds[\"Male-RF-M\"] = folds\n",
    "\n",
    "X_f, y_f = df_female[my_features], df_female['Group']\n",
    "\n",
    "summary, folds = repeated_evaluation(LogisticRegression(max_iter=1000), X_all, y_all, \"Female-LR-F\", splits=splits_f)\n",
    "LR_RF_results.append(summary)\n",
    "results_folds[\"Female-LR-F\"] = folds\n",
    "summary, folds = repeated_evaluation(RandomForestClassifier(n_estimators=100, random_state=RANDOM_SEED), X_all, y_all, \"Female-RF-F\", splits=splits_f)\n",
    "LR_RF_results.append(summary)\n",
    "results_folds[\"Female-RF-F\"] = folds\n",
    "\n"
   ]
  },
  {
   "cell_type": "code",
   "execution_count": 17,
   "id": "4cb015c7-5b91-4e73-afc5-5d00f3aaa52d",
   "metadata": {},
   "outputs": [
    {
     "name": "stdout",
     "output_type": "stream",
     "text": [
      "         Model  Accuracy_mean  Accuracy_std   F1_mean    F1_std  \\\n",
      "0   Gen-LR-All       0.945927      0.021990  0.941873  0.021347   \n",
      "1   Gen-RF-All       0.936700      0.032105  0.931621  0.035378   \n",
      "2     Gen-LR-M       0.956230      0.034544  0.961849  0.031498   \n",
      "3     Gen-LR-F       0.936758      0.036278  0.910120  0.055254   \n",
      "4     Gen-RF-M       0.942454      0.041098  0.949057  0.036740   \n",
      "5     Gen-RF-F       0.930820      0.041843  0.904647  0.056916   \n",
      "6    Male-LR-M       0.932801      0.047855  0.941322  0.041442   \n",
      "7    Male-RF-M       0.892849      0.089267  0.906683  0.087400   \n",
      "8  Female-LR-F       0.939175      0.039311  0.915039  0.054250   \n",
      "9  Female-RF-F       0.924499      0.048661  0.896839  0.062320   \n",
      "\n",
      "   Precision_mean  Precision_std  Recall_mean  Recall_std  AUC_mean  ...  \\\n",
      "0        0.985003       0.016447     0.902982    0.034289  0.965200  ...   \n",
      "1        0.965845       0.044896     0.901622    0.046121  0.954898  ...   \n",
      "2        0.977290       0.032631     0.949365    0.056374  0.984996  ...   \n",
      "3        0.993895       0.022209     0.843675    0.089301  0.949478  ...   \n",
      "4        0.961591       0.052965     0.941365    0.062723  0.972531  ...   \n",
      "5        0.970998       0.054762     0.852745    0.089127  0.936780  ...   \n",
      "6        0.961219       0.052559     0.926952    0.070651  0.986130  ...   \n",
      "7        0.900480       0.145159     0.932603    0.069212  0.965165  ...   \n",
      "8        0.997333       0.013333     0.849381    0.089235  0.940140  ...   \n",
      "9        0.960882       0.062787     0.845675    0.087660  0.931496  ...   \n",
      "\n",
      "   Accuracy_ci_lower  Accuracy_ci_upper  F1_ci_lower  F1_ci_upper  \\\n",
      "0           0.940950           0.950904     0.937042     0.946704   \n",
      "1           0.929434           0.943966     0.923615     0.939628   \n",
      "2           0.948412           0.964048     0.954720     0.968978   \n",
      "3           0.928548           0.944969     0.897615     0.922625   \n",
      "4           0.933152           0.951755     0.940742     0.957373   \n",
      "5           0.921350           0.940290     0.891766     0.917528   \n",
      "6           0.921971           0.943632     0.931943     0.950701   \n",
      "7           0.872645           0.913052     0.886903     0.926464   \n",
      "8           0.930279           0.948072     0.902761     0.927317   \n",
      "9           0.913486           0.935512     0.882734     0.910943   \n",
      "\n",
      "   Precision_ci_lower  Precision_ci_upper  Recall_ci_lower  Recall_ci_upper  \\\n",
      "0            0.981281            0.988726         0.895222         0.910742   \n",
      "1            0.955684            0.976006         0.891183         0.912060   \n",
      "2            0.969905            0.984675         0.936606         0.962124   \n",
      "3            0.988868            0.998921         0.823465         0.863886   \n",
      "4            0.949604            0.973578         0.927170         0.955560   \n",
      "5            0.958605            0.983392         0.832574         0.872917   \n",
      "6            0.949324            0.973114         0.910962         0.942942   \n",
      "7            0.867627            0.933332         0.916939         0.948267   \n",
      "8            0.994316            1.000351         0.829185         0.869577   \n",
      "9            0.946672            0.975092         0.825836         0.865515   \n",
      "\n",
      "   AUC_ci_lower  AUC_ci_upper  \n",
      "0      0.959356      0.971044  \n",
      "1      0.950237      0.959559  \n",
      "2      0.979855      0.990136  \n",
      "3      0.939129      0.959826  \n",
      "4      0.965711      0.979351  \n",
      "5      0.927156      0.946404  \n",
      "6      0.981363      0.990897  \n",
      "7      0.957504      0.972825  \n",
      "8      0.929917      0.950363  \n",
      "9      0.921091      0.941902  \n",
      "\n",
      "[10 rows x 21 columns]\n"
     ]
    }
   ],
   "source": [
    "\n",
    "# === Results Table ===\n",
    "columns =['Model', 'Accuracy_mean', 'Accuracy_std', 'F1_mean', 'F1_std', 'Precision_mean', 'Precision_std', 'Recall_mean', 'Recall_std', 'AUC_mean', 'AUC_std']\n",
    "results_table = pd.DataFrame(LR_RF_results, columns=columns)\n",
    "n_splits, n_repeats = 5, 15\n",
    "metrics = ['Accuracy', 'F1', 'Precision', 'Recall', 'AUC']\n",
    "N = n_splits * n_repeats\n",
    "for metric in metrics:\n",
    "    se = results_table[f'{metric}_std'] / np.sqrt(N)\n",
    "    results_table[f'{metric}_ci_lower'] = results_table[f'{metric}_mean'] - 1.96 * se\n",
    "    results_table[f'{metric}_ci_upper'] = results_table[f'{metric}_mean'] + 1.96 * se\n",
    "print(results_table)\n"
   ]
  },
  {
   "cell_type": "code",
   "execution_count": null,
   "id": "b25f73ae-bbd7-4f40-b0a8-3a4c3e58af8e",
   "metadata": {},
   "outputs": [],
   "source": []
  },
  {
   "cell_type": "markdown",
   "id": "9d1ea2d3-703a-45d2-bcbc-cf74309ab0f4",
   "metadata": {},
   "source": [
    "## XGBOOST models"
   ]
  },
  {
   "cell_type": "code",
   "execution_count": 19,
   "id": "40d9a554-db5e-4640-a43e-d171a81223ec",
   "metadata": {},
   "outputs": [],
   "source": [
    "xgb_results = []\n",
    "xgb_fold_results = {}\n",
    "xgb_model = XGBClassifier(eval_metric='logloss', random_state=RANDOM_SEED)\n",
    "\n",
    "summary, folds = repeated_evaluation(xgb_model, X_all, y_all, 'Gen-XGB-All', splits=splits_all)\n",
    "xgb_results.append(summary)\n",
    "xgb_fold_results['Gen-XGB-All'] = folds\n",
    "summary, folds = repeated_evaluation(xgb_model, X_all, y_all, 'Gen-XGB-M', sex=sex_all, sex_filter='M', splits=splits_all)\n",
    "xgb_results.append(summary)\n",
    "xgb_fold_results['Gen-XGB-M'] = folds\n",
    "summary, folds = repeated_evaluation(xgb_model, X_all, y_all, 'Gen-XGB-F', sex=sex_all, sex_filter='F', splits=splits_all)\n",
    "xgb_results.append(summary)\n",
    "xgb_fold_results['Gen-XGB-F'] = folds\n",
    "\n",
    "summary, folds = repeated_evaluation(xgb_model, X_all, y_all, 'Male-XGB-M', splits=splits_m)\n",
    "xgb_results.append(summary)                  \n",
    "xgb_fold_results['Male-XGB-M'] = folds\n",
    "summary, folds = repeated_evaluation(xgb_model, X_all, y_all, 'Female-XGB-F', splits=splits_f)\n",
    "xgb_results.append(summary)                  \n",
    "xgb_fold_results['Female-XGB-F'] = folds\n",
    "\n"
   ]
  },
  {
   "cell_type": "code",
   "execution_count": 20,
   "id": "b79068ae-d5ea-4aa6-84f3-7fff9779ebbc",
   "metadata": {},
   "outputs": [
    {
     "name": "stdout",
     "output_type": "stream",
     "text": [
      "          Model  Accuracy_mean  Accuracy_std   F1_mean    F1_std  \\\n",
      "0   Gen-XGB-All       0.924207      0.032219  0.918348  0.038928   \n",
      "1     Gen-XGB-M       0.932946      0.040311  0.940016  0.043949   \n",
      "2     Gen-XGB-F       0.916102      0.051078  0.883848  0.079170   \n",
      "3    Male-XGB-M       0.931441      0.055527  0.940586  0.056575   \n",
      "4  Female-XGB-F       0.908645      0.053237  0.874307  0.077268   \n",
      "\n",
      "   Precision_mean  Precision_std  Recall_mean  Recall_std  AUC_mean  ...  \\\n",
      "0        0.931866       0.060328     0.907490    0.038961  0.949534  ...   \n",
      "1        0.936216       0.072513     0.949365    0.056374  0.973698  ...   \n",
      "2        0.921859       0.094487     0.855436    0.092823  0.923756  ...   \n",
      "3        0.934288       0.093433     0.955354    0.050944  0.971787  ...   \n",
      "4        0.913072       0.102838     0.846570    0.090464  0.931542  ...   \n",
      "\n",
      "   Accuracy_ci_lower  Accuracy_ci_upper  F1_ci_lower  F1_ci_upper  \\\n",
      "0           0.916915           0.931499     0.909538     0.927158   \n",
      "1           0.923822           0.942069     0.930069     0.949962   \n",
      "2           0.904542           0.927662     0.865930     0.901766   \n",
      "3           0.918874           0.944008     0.927782     0.953390   \n",
      "4           0.896596           0.920693     0.856819     0.891794   \n",
      "\n",
      "   Precision_ci_lower  Precision_ci_upper  Recall_ci_lower  Recall_ci_upper  \\\n",
      "0            0.918213            0.945520         0.898672         0.916308   \n",
      "1            0.919804            0.952627         0.936606         0.962124   \n",
      "2            0.900475            0.943244         0.834428         0.876444   \n",
      "3            0.913142            0.955434         0.943825         0.966884   \n",
      "4            0.889797            0.936346         0.826096         0.867044   \n",
      "\n",
      "   AUC_ci_lower  AUC_ci_upper  \n",
      "0      0.944946      0.954123  \n",
      "1      0.967487      0.979908  \n",
      "2      0.912333      0.935178  \n",
      "3      0.964846      0.978729  \n",
      "4      0.920695      0.942388  \n",
      "\n",
      "[5 rows x 21 columns]\n"
     ]
    }
   ],
   "source": [
    "xgb_results_table = pd.DataFrame(xgb_results, columns=columns)\n",
    "n_splits, n_repeats = 5, 15\n",
    "N = n_splits * n_repeats\n",
    "for metric in metrics:\n",
    "    se = xgb_results_table[f'{metric}_std'] / np.sqrt(N)\n",
    "    xgb_results_table[f'{metric}_ci_lower'] = xgb_results_table[f'{metric}_mean'] - 1.96 * se\n",
    "    xgb_results_table[f'{metric}_ci_upper'] = xgb_results_table[f'{metric}_mean'] + 1.96 * se\n",
    "print(xgb_results_table)"
   ]
  },
  {
   "cell_type": "markdown",
   "id": "a5e96ef7-9266-4dab-a887-14096db08033",
   "metadata": {},
   "source": [
    "## Support Vector Machine and Voting Classifier Models "
   ]
  },
  {
   "cell_type": "code",
   "execution_count": 22,
   "id": "ebc0afe2-139f-4cbd-aa88-36435e124a2b",
   "metadata": {},
   "outputs": [],
   "source": [
    "svm_vote_results = []\n",
    "svm_vote_fold_results = {}\n",
    "svm_model = SVC(kernel='rbf', probability=True, class_weight='balanced', random_state=RANDOM_SEED)\n",
    "\n",
    "# === SVM general models ===\n",
    "summary, folds = repeated_evaluation(svm_model, X_all, y_all, 'Gen-SVM-All', splits=splits_all)\n",
    "svm_vote_results.append(summary)\n",
    "svm_vote_fold_results['Gen-SVM-All'] = folds\n",
    "summary, folds = repeated_evaluation(svm_model, X_all, y_all, 'Gen-SVM-M', sex=sex_all, sex_filter='M', splits=splits_all)\n",
    "svm_vote_results.append(summary)\n",
    "svm_vote_fold_results['Gen-SVM-M'] = folds\n",
    "summary, folds = repeated_evaluation(svm_model, X_all, y_all, 'Gen-SVM-F', sex=sex_all, sex_filter='F', splits=splits_all)\n",
    "svm_vote_results.append(summary)\n",
    "svm_vote_fold_results['Gen-SVM-F'] = folds\n",
    "\n",
    "# === SVM sex-specific models ===\n",
    "summary, folds = repeated_evaluation(svm_model, X_all, y_all, 'Male-SVM-M', splits=splits_m)\n",
    "svm_vote_results.append(summary)\n",
    "svm_vote_fold_results['Male-SVM-M'] = folds\n",
    "\n",
    "summary, folds = repeated_evaluation(svm_model, X_all, y_all, 'Female-SVM-F', splits=splits_f)\n",
    "svm_vote_results.append(summary)\n",
    "svm_vote_fold_results['Female-SVM-F'] = folds"
   ]
  },
  {
   "cell_type": "code",
   "execution_count": 23,
   "id": "9b7a16b2-ba34-4965-98b0-0e3ab686ee29",
   "metadata": {},
   "outputs": [],
   "source": [
    "# === Voting Classifier Set-up ===\n",
    "\n",
    "voting_estimators =[\n",
    "    ('lr', LogisticRegression(max_iter=1000)),\n",
    "    ('rf', RandomForestClassifier(n_estimators=100, random_state=RANDOM_SEED)),\n",
    "    ('svm', SVC(kernel='rbf', probability=True, class_weight='balanced', random_state=RANDOM_SEED)),\n",
    "]\n",
    "voting_clf = VotingClassifier(estimators=voting_estimators, voting='soft')\n",
    "\n",
    "    "
   ]
  },
  {
   "cell_type": "code",
   "execution_count": 24,
   "id": "e57656fc-88b2-410e-8bf7-c9548acdf61f",
   "metadata": {},
   "outputs": [],
   "source": [
    "# === VC general models ===\n",
    "summary, folds = repeated_evaluation(voting_clf, X_all, y_all, 'Gen-VOTE-All', splits=splits_all)\n",
    "svm_vote_results.append(summary)\n",
    "svm_vote_fold_results['Gen-VOTE-All'] = folds\n",
    "summary, folds = repeated_evaluation(voting_clf, X_all, y_all, 'Gen-VOTE-M', sex=sex_all, sex_filter='M', splits=splits_all)\n",
    "svm_vote_results.append(summary)\n",
    "svm_vote_fold_results['Gen-VOTE-M'] = folds\n",
    "summary, folds = repeated_evaluation(voting_clf, X_all, y_all, 'Gen-VOTE-F', sex=sex_all, sex_filter='F', splits=splits_all)\n",
    "svm_vote_results.append(summary)\n",
    "svm_vote_fold_results['Gen-VOTE-F'] = folds\n",
    "                                         \n",
    "# === VC sex-specific models\n",
    "summary, folds = repeated_evaluation(voting_clf, X_all, y_all, 'Male-VOTE-M',  splits=splits_m)\n",
    "svm_vote_results.append(summary)\n",
    "svm_vote_fold_results['Male-VOTE-M'] = folds\n",
    "summary, folds = repeated_evaluation(voting_clf, X_all, y_all, 'Female-VOTE-F', splits=splits_f)\n",
    "svm_vote_results.append(summary)\n",
    "svm_vote_fold_results['Female-VOTE-F'] = folds\n"
   ]
  },
  {
   "cell_type": "code",
   "execution_count": 25,
   "id": "db6d4d0a-fb6c-42cf-a40a-12187d2f3e84",
   "metadata": {},
   "outputs": [
    {
     "name": "stdout",
     "output_type": "stream",
     "text": [
      "           Model  Accuracy_mean  Accuracy_std   F1_mean    F1_std  \\\n",
      "0    Gen-SVM-All       0.943812      0.023695  0.939531  0.024260   \n",
      "1      Gen-SVM-M       0.955054      0.034536  0.961033  0.031261   \n",
      "2      Gen-SVM-F       0.933638      0.040322  0.907225  0.058327   \n",
      "3     Male-SVM-M       0.934329      0.052239  0.939880  0.060057   \n",
      "4   Female-SVM-F       0.929825      0.048181  0.903188  0.061905   \n",
      "5   Gen-VOTE-All       0.946460      0.022453  0.942504  0.022020   \n",
      "6     Gen-VOTE-M       0.956230      0.034544  0.961849  0.031498   \n",
      "7     Gen-VOTE-F       0.937446      0.035808  0.911506  0.053398   \n",
      "8    Male-VOTE-M       0.926904      0.064754  0.932982  0.072988   \n",
      "9  Female-VOTE-F       0.932623      0.044831  0.906537  0.060104   \n",
      "\n",
      "   Precision_mean  Precision_std  Recall_mean  Recall_std  AUC_mean   AUC_std  \\\n",
      "0        0.982592       0.024459     0.900845    0.035707  0.942918  0.025436   \n",
      "1        0.977229       0.032664     0.947765    0.055437  0.956343  0.050652   \n",
      "2        0.989556       0.036582     0.841570    0.088665  0.925319  0.046138   \n",
      "3        0.955257       0.098258     0.934936    0.061941  0.972942  0.030679   \n",
      "4        0.985835       0.045491     0.837570    0.090505  0.923091  0.044923   \n",
      "5        0.987705       0.015650     0.901871    0.035202  0.956398  0.021813   \n",
      "6        0.977290       0.032631     0.949365    0.056374  0.971278  0.028068   \n",
      "7        1.000000       0.000000     0.841570    0.088665  0.936603  0.044732   \n",
      "8        0.942371       0.119620     0.936986    0.060783  0.978387  0.023407   \n",
      "9        0.975713       0.053180     0.851199    0.088064  0.933298  0.044234   \n",
      "\n",
      "   Accuracy_ci_lower  F1_ci_lower  Precision_ci_lower  Recall_ci_lower  \\\n",
      "0           0.949175     0.945021            0.988128         0.908926   \n",
      "1           0.962870     0.968108            0.984621         0.960312   \n",
      "2           0.942764     0.920426            0.997835         0.861637   \n",
      "3           0.946151     0.953472            0.977495         0.948955   \n",
      "4           0.940730     0.917198            0.996131         0.858053   \n",
      "5           0.951542     0.947487            0.991246         0.909838   \n",
      "6           0.964048     0.968978            0.984675         0.962124   \n",
      "7           0.945551     0.923591            1.000000         0.861637   \n",
      "8           0.941559     0.949501            0.969444         0.950742   \n",
      "9           0.942770     0.920140            0.987748         0.871130   \n",
      "\n",
      "   AUC_ci_lower  \n",
      "0      0.948675  \n",
      "1      0.967806  \n",
      "2      0.935761  \n",
      "3      0.979886  \n",
      "4      0.933258  \n",
      "5      0.961335  \n",
      "6      0.977631  \n",
      "7      0.946726  \n",
      "8      0.983685  \n",
      "9      0.943309  \n"
     ]
    }
   ],
   "source": [
    "# === SVM and VC results ===\n",
    "\n",
    "svm_vote_results_table = pd.DataFrame(svm_vote_results, columns=columns)\n",
    "n_splits, n_repeats = 5, 15\n",
    "N = n_splits * n_repeats\n",
    "for metric in metrics:\n",
    "    se = svm_vote_results_table[f'{metric}_std'] / np.sqrt(N)\n",
    "    svm_vote_results_table[f'{metric}_ci_lower'] = svm_vote_results_table[f'{metric}_mean'] - 1.96 * se\n",
    "    svm_vote_results_table[f'{metric}_ci_lower'] = svm_vote_results_table[f'{metric}_mean'] + 1.96 * se\n",
    "print(svm_vote_results_table)"
   ]
  },
  {
   "cell_type": "markdown",
   "id": "e9e8ff16-5a53-43d6-9605-d588b14ee166",
   "metadata": {},
   "source": [
    "## Visually Assessing Model Accuracies - Initial Look"
   ]
  },
  {
   "cell_type": "code",
   "execution_count": 27,
   "id": "0f990131-4403-4a08-ade9-bc995f19e295",
   "metadata": {},
   "outputs": [
    {
     "data": {
      "image/png": "[encoded data removed]",
      "text/plain": [
       "<Figure size 1200x600 with 1 Axes>"
      ]
     },
     "metadata": {},
     "output_type": "display_data"
    }
   ],
   "source": [
    "all_results_table = pd.concat([results_table, xgb_results_table, svm_vote_results_table], ignore_index=True)\n",
    "all_results_table['Subset'] = all_results_table['Model'].str.split('-').str[-1]\n",
    "palette = {'F': 'tab:orange', 'M': 'tab:blue', 'All': 'tab:green'}\n",
    "plt.figure(figsize=(12,6))\n",
    "plt.plot(all_results_table['Model'], all_results_table['Accuracy_mean'], color='gray')\n",
    "sns.scatterplot(data=all_results_table, x='Model', y='Accuracy_mean', hue='Subset', palette=palette, s=100)\n",
    "plt.xticks(rotation=90, ha='right')\n",
    "plt.ylabel('Accuracy Score')\n",
    "plt.title('Model Accuracy Comparison')\n",
    "plt.grid(True)\n",
    "plt.tight_layout()\n",
    "plt.legend(title='Subset')\n",
    "plt.show()"
   ]
  },
  {
   "cell_type": "markdown",
   "id": "1cf6e22c-77e0-4d34-81cf-10843d7b48f7",
   "metadata": {},
   "source": [
    "## t-tests"
   ]
  },
  {
   "cell_type": "code",
   "execution_count": 29,
   "id": "1d250877-3e41-4d39-91e3-05ac7dd8de1c",
   "metadata": {},
   "outputs": [],
   "source": [
    "from statistics import mean, stdev, NormalDist, StatisticsError\n",
    "from math import sqrt\n",
    "\n",
    "from statistics import mean, stdev, NormalDist, StatisticsError\n",
    "from math import sqrt\n"
   ]
  },
  {
   "cell_type": "code",
   "execution_count": 30,
   "id": "07ff6e9c-f777-4218-a957-2e5292eb9d8a",
   "metadata": {},
   "outputs": [],
   "source": [
    "# Use paired t-tests to compare model performance on per-fold metrics\n",
    "import pandas as pd\n",
    "from itertools import combinations\n",
    "metric = \"roc_auc\"\n",
    "all_fold_tables = []\n",
    "for results in (results_folds, xgb_fold_results, svm_vote_fold_results):\n",
    "    for model_name, fold_df in results.items():\n",
    "        df = fold_df.copy()\n",
    "        df[\"model\"] = model_name\n",
    "        all_fold_tables.append(df)\n",
    "\n",
    "fold_metrics = pd.concat(all_fold_tables, ignore_index=True)\n",
    "parts = fold_metrics[\"model\"].str.split(\"-\", expand=True)\n",
    "fold_metrics[\"selection\"] = parts[0]\n",
    "fold_metrics[\"algorithm\"] = parts[1]\n",
    "fold_metrics[\"sex\"] = parts[2]\n",
    "\n",
    "\n",
    "#p_value = ttest_rel(baseline_fold_metrics, sex_specific_fold_metrics).pvalue"
   ]
  },
  {
   "cell_type": "code",
   "execution_count": 31,
   "id": "c1b2643d-08b8-4c15-9259-b13b2d52131a",
   "metadata": {},
   "outputs": [
    {
     "name": "stdout",
     "output_type": "stream",
     "text": [
      "LR-M: p-value=0.8329\n",
      "LR-F: p-value=0.0437\n",
      "RF-M: p-value=0.0930\n",
      "RF-F: p-value=0.0026\n",
      "XGB-M: p-value=0.6001\n",
      "XGB-F: p-value=0.1605\n",
      "SVM-M: p-value=0.0326\n",
      "SVM-F: p-value=0.5522\n",
      "VOTE-M: p-value=0.0687\n",
      "VOTE-F: p-value=0.4512\n"
     ]
    }
   ],
   "source": [
    "# collect p-values for Holm-Bonferroni correction\n",
    "\n",
    "p_values = []\n",
    "comparisons = []\n",
    "\n",
    "for alg in fold_metrics[\"algorithm\"].unique():\n",
    "    for sex in [\"M\", \"F\"]:\n",
    "        baseline_df = fold_metrics[\n",
    "            (fold_metrics[\"selection\"] == \"Gen\") &\n",
    "            (fold_metrics[\"algorithm\"] == alg) &\n",
    "            (fold_metrics[\"sex\"] == sex)\n",
    "        ][[\"repeat\", \"fold\", metric]]\n",
    "        specific_group = \"Male\" if sex == \"M\" else \"Female\"\n",
    "        specific_df = fold_metrics[\n",
    "            (fold_metrics[\"selection\"] == specific_group) &\n",
    "            (fold_metrics[\"algorithm\"] == alg) &\n",
    "            (fold_metrics[\"sex\"] == sex)\n",
    "        ][[\"repeat\", \"fold\", metric]]\n",
    "        merged = baseline_df.merge(specific_df, on=[\"repeat\", \"fold\"], suffixes=(\"_base\", \"_spec\"))\n",
    "        if not merged.empty:\n",
    "            p_value = ttest_rel(merged[f\"{metric}_base\"], merged[f\"{metric}_spec\"]).pvalue\n",
    "            print(f\"{alg}-{sex}: p-value={p_value:.4f}\")\n",
    "\n"
   ]
  },
  {
   "cell_type": "code",
   "execution_count": 32,
   "id": "9e343ef5-b9d6-4771-9db6-dd274908a8cc",
   "metadata": {},
   "outputs": [],
   "source": [
    "#### TODO\n",
    "#from scipy.stats import ttest_rel\n",
    "#import pandas as pd\n",
    "\n",
    "# Extract AUC scores for each model from the earlier results\n",
    "# Define model pairs to compare\n",
    "# Perform t-tests\n",
    "# Bonferroni correction\n",
    "\n",
    "# Evaluate all models with cross validation??"
   ]
  }
 ],
 "metadata": {
  "kernelspec": {
   "display_name": "Python (pymc_env)",
   "language": "python",
   "name": "pymc_env"
  },
  "language_info": {
   "codemirror_mode": {
    "name": "ipython",
    "version": 3
   },
   "file_extension": ".py",
   "mimetype": "text/x-python",
   "name": "python",
   "nbconvert_exporter": "python",
   "pygments_lexer": "ipython3",
   "version": "3.10.16"
  }
 },
 "nbformat": 4,
 "nbformat_minor": 5
}
