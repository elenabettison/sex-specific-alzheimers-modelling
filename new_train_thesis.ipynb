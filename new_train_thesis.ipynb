{
 "cells": [
  {
   "cell_type": "markdown",
   "id": "c071deca-c05e-42db-816d-310c2f9c3737",
   "metadata": {},
   "source": [
    "# Sex-Specific Alzheimer's Disease Modelling Experimentations"
   ]
  },
  {
   "cell_type": "markdown",
   "id": "95f7b7cc-ff22-48c4-8066-206ac908783a",
   "metadata": {},
   "source": [
    "## Data Set-up"
   ]
  },
  {
   "cell_type": "code",
   "execution_count": 4,
   "id": "7f7cdf5b-5163-4cc6-9788-c58bce00e581",
   "metadata": {},
   "outputs": [],
   "source": [
    "# === Load and clean data ===\n",
    "import pandas as pd\n",
    "import numpy as np\n",
    "from sklearn.svm import SVC\n",
    "from sklearn.model_selection import train_test_split\n",
    "from sklearn.linear_model import LogisticRegression\n",
    "from sklearn.preprocessing import StandardScaler\n",
    "from sklearn.ensemble import RandomForestClassifier, VotingClassifier\n",
    "from sklearn.model_selection import RepeatedStratifiedKFold\n",
    "from sklearn.model_selection import StratifiedGroupKFold\n",
    "from sklearn.metrics import accuracy_score, f1_score, precision_score, recall_score, roc_auc_score, balanced_accuracy_score\n",
    "from sklearn.pipeline import Pipeline\n",
    "from xgboost import XGBClassifier\n",
    "import matplotlib.pyplot as plt\n",
    "import seaborn as sns\n",
    "from scipy.stats import ttest_rel\n",
    "from scipy import stats\n",
    "import random\n"
   ]
  },
  {
   "cell_type": "code",
   "execution_count": 5,
   "id": "ee5dcc13-d1ba-4046-9b2c-b7241ecc32a7",
   "metadata": {},
   "outputs": [],
   "source": [
    "# Set random seed\n",
    "RANDOM_SEED = 42\n",
    "np.random.seed(RANDOM_SEED)\n",
    "random.seed(RANDOM_SEED)"
   ]
  },
  {
   "cell_type": "code",
   "execution_count": 6,
   "id": "5dea7543-8ca4-42d3-8549-1dbe5410404d",
   "metadata": {},
   "outputs": [],
   "source": [
    "# Load OASIS dataset\n",
    "df = pd.read_csv(\"oasis_longitudinal.csv\")"
   ]
  },
  {
   "cell_type": "markdown",
   "id": "cfa17443-1f98-4b36-9a10-b1ba6a50e549",
   "metadata": {},
   "source": [
    "## Initial Data Exploration and Cleaning"
   ]
  },
  {
   "cell_type": "code",
   "execution_count": 8,
   "id": "a37e2751-85f2-4788-9f5e-53f24c94daec",
   "metadata": {},
   "outputs": [
    {
     "name": "stdout",
     "output_type": "stream",
     "text": [
      "<class 'pandas.core.frame.DataFrame'>\n",
      "RangeIndex: 373 entries, 0 to 372\n",
      "Data columns (total 15 columns):\n",
      " #   Column      Non-Null Count  Dtype  \n",
      "---  ------      --------------  -----  \n",
      " 0   Subject ID  373 non-null    object \n",
      " 1   MRI ID      373 non-null    object \n",
      " 2   Group       373 non-null    object \n",
      " 3   Visit       373 non-null    int64  \n",
      " 4   MR Delay    373 non-null    int64  \n",
      " 5   M/F         373 non-null    object \n",
      " 6   Hand        373 non-null    object \n",
      " 7   Age         373 non-null    int64  \n",
      " 8   EDUC        373 non-null    int64  \n",
      " 9   SES         354 non-null    float64\n",
      " 10  MMSE        371 non-null    float64\n",
      " 11  CDR         373 non-null    float64\n",
      " 12  eTIV        373 non-null    int64  \n",
      " 13  nWBV        373 non-null    float64\n",
      " 14  ASF         373 non-null    float64\n",
      "dtypes: float64(5), int64(5), object(5)\n",
      "memory usage: 43.8+ KB\n"
     ]
    }
   ],
   "source": [
    "# Display simple attributes\n",
    "df.head()\n",
    "df.shape\n",
    "df.info()"
   ]
  },
  {
   "cell_type": "code",
   "execution_count": 9,
   "id": "59ae937f-7f5c-4276-a4dc-9083e7d1b694",
   "metadata": {},
   "outputs": [
    {
     "data": {
      "text/plain": [
       "Subject ID     0\n",
       "MRI ID         0\n",
       "Group          0\n",
       "Visit          0\n",
       "MR Delay       0\n",
       "M/F            0\n",
       "Hand           0\n",
       "Age            0\n",
       "EDUC           0\n",
       "SES           19\n",
       "MMSE           2\n",
       "CDR            0\n",
       "eTIV           0\n",
       "nWBV           0\n",
       "ASF            0\n",
       "dtype: int64"
      ]
     },
     "execution_count": 9,
     "metadata": {},
     "output_type": "execute_result"
    }
   ],
   "source": [
    "# Check for missing values\n",
    "df.isnull().sum()"
   ]
  },
  {
   "cell_type": "code",
   "execution_count": 10,
   "id": "296761bc-1494-4f82-9872-8f7160962360",
   "metadata": {},
   "outputs": [
    {
     "data": {
      "text/plain": [
       "0"
      ]
     },
     "execution_count": 10,
     "metadata": {},
     "output_type": "execute_result"
    }
   ],
   "source": [
    "# Check for duplicates\n",
    "df.duplicated().sum()"
   ]
  },
  {
   "cell_type": "code",
   "execution_count": 11,
   "id": "f5b689c9-5f03-4d70-9ec2-b09c179561ae",
   "metadata": {},
   "outputs": [],
   "source": [
    "# Fill missing SES and MMSE values\n",
    "df['SES'] = df['SES'].fillna(df['SES'].median())\n",
    "df['MMSE'] = df['MMSE'].fillna(df['MMSE'].mean())"
   ]
  },
  {
   "cell_type": "code",
   "execution_count": 12,
   "id": "d5713ea5-ba81-49c6-88b2-295ccad1928a",
   "metadata": {},
   "outputs": [],
   "source": [
    "# Convert labels to binary classification: demented = 1, nondemented = 0\n",
    "df['Group'] = df['Group'].replace(\"Converted\", \"Demented\")\n",
    "df['Group'] = df['Group'].map({\"Demented\": 1, \"Nondemented\": 0})"
   ]
  },
  {
   "cell_type": "code",
   "execution_count": 13,
   "id": "5ea231f3-353b-44b8-b7c7-a26592fb9889",
   "metadata": {},
   "outputs": [],
   "source": [
    "# Define features and dropping missing values\n",
    "my_features = ['Age', 'EDUC', 'SES', 'MMSE', 'CDR', 'eTIV', 'nWBV', 'ASF']\n",
    "df_clean = df.dropna(subset=my_features + ['Group', 'M/F'])"
   ]
  },
  {
   "cell_type": "markdown",
   "id": "8222a268-b78c-4ff4-b27d-e2856ca1da79",
   "metadata": {},
   "source": [
    "## Repeated Train/Test Evaluation Function"
   ]
  },
  {
   "cell_type": "code",
   "execution_count": 15,
   "id": "98d15d34-080b-49b3-8209-1c4025fda294",
   "metadata": {},
   "outputs": [],
   "source": [
    "\n",
    "# === REPEATED TRAIN/TEST EVALUATION ===\n",
    "\n",
    "def repeated_evaluation(model, X, y, label, sex=None, sex_filter=None, groups=None, n_splits=5, n_repeats=5):\n",
    "    fold_metrics = []\n",
    "    for repeat in range(n_repeats):\n",
    "        sgkf = StratifiedGroupKFold(n_splits=n_splits, shuffle=True, random_state=RANDOM_SEED + repeat)\n",
    "        for fold, (train_idx, test_idx) in enumerate(sgkf.split(X, y, groups)):\n",
    "            X_train, X_test = X.iloc[train_idx], X.iloc[test_idx]\n",
    "            y_train, y_test = y.iloc[train_idx], y.iloc[test_idx]\n",
    "            scaler = StandardScaler() \n",
    "            X_train_scaled = scaler.fit_transform(X_train) \n",
    "            X_test_scaled = scaler.transform(X_test)\n",
    "            model.fit(X_train_scaled, y_train)\n",
    "            y_pred = model.predict(X_test_scaled)\n",
    "            y_proba = model.predict_proba(X_test_scaled) [:, 1]\n",
    "        if sex is not None and sex_filter is not None:\n",
    "            test_sex = sex.iloc[test_idx]\n",
    "            mask = test_sex == sex_filter\n",
    "            if not mask.any():\n",
    "                continue\n",
    "            y_test = y_test[mask]\n",
    "            y_pred = y_pred[mask]\n",
    "            y_proba = y_proba[mask]\n",
    "\n",
    "        fold_metrics.append({\n",
    "            'repeat': repeat,\n",
    "            'fold': fold,\n",
    "            'accuracy': accuracy_score(y_test, y_pred),\n",
    "            'balanced_accuracy': balanced_accuracy_score(y_test, y_pred),\n",
    "            'f1': f1_score(y_test, y_pred),\n",
    "            'precision': precision_score(y_test, y_pred),\n",
    "            'recall': recall_score(y_test, y_pred),\n",
    "            'roc_auc': roc_auc_score(y_test, y_proba)\n",
    "        })\n",
    "\n",
    "    metrics_df = pd.DataFrame(fold_metrics)\n",
    "    metrics = metrics_df[['accuracy', 'balanced_accuracy','f1', 'precision', 'recall', 'roc_auc']]\n",
    "    means = metrics.mean()\n",
    "    stds = metrics.std()\n",
    "    summary = [\n",
    "        label,\n",
    "        means['accuracy'], stds['accuracy'],\n",
    "        means['balanced_accuracy'], stds['balanced_accuracy'],\n",
    "        means['f1'], stds['f1'],\n",
    "        means['precision'], stds['precision'],\n",
    "        means['recall'], stds['recall'],\n",
    "        means['roc_auc'], stds['roc_auc']\n",
    "    ]\n",
    "   \n",
    "    return summary, metrics_df"
   ]
  },
  {
   "cell_type": "code",
   "execution_count": 16,
   "id": "ff68efce-8d76-4afc-b3c5-7239b0ef30c2",
   "metadata": {},
   "outputs": [],
   "source": [
    "\n",
    "X_all = df_clean[my_features]\n",
    "y_all = df_clean['Group']\n",
    "sex_all = df_clean['M/F']\n",
    "groups_all = df_clean['Subject ID']"
   ]
  },
  {
   "cell_type": "code",
   "execution_count": null,
   "id": "afc928a0-83ce-47ec-9b8e-e43f1a9332d7",
   "metadata": {},
   "outputs": [],
   "source": []
  },
  {
   "cell_type": "markdown",
   "id": "2dd39d1c-e200-4b5a-9644-ca58c6fd173e",
   "metadata": {},
   "source": [
    "## Logistic Regression and Random Forest Classifier Models"
   ]
  },
  {
   "cell_type": "code",
   "execution_count": 18,
   "id": "beeae0a5-a338-484a-92f0-d5a65668ab9c",
   "metadata": {},
   "outputs": [],
   "source": [
    "\n",
    "# === General models ===\n",
    "LR_RF_results = []\n",
    "results_folds = {}\n",
    "\n",
    "summary, folds = repeated_evaluation(LogisticRegression(max_iter=1000), X_all, y_all, \"Gen-LR-All\", groups=groups_all)\n",
    "LR_RF_results.append(summary)\n",
    "results_folds[\"Gen-LR-All\"] = folds\n",
    "summary, folds = repeated_evaluation(RandomForestClassifier(n_estimators=100, random_state=42), X_all, y_all, \"Gen-RF-All\", groups=groups_all)\n",
    "LR_RF_results.append(summary)\n",
    "results_folds[\"Gen-RF-All\"] = folds\n",
    "summary, folds = repeated_evaluation(LogisticRegression(max_iter=1000), X_all, y_all, \"Gen-LR-M\", sex=sex_all, sex_filter='M', groups=groups_all)\n",
    "LR_RF_results.append(summary)\n",
    "results_folds[\"Gen-LR-M\"] = folds\n",
    "summary, folds = repeated_evaluation(LogisticRegression(max_iter=1000), X_all, y_all, \"Gen-LR-F\", sex=sex_all, sex_filter='F', groups=groups_all)\n",
    "LR_RF_results.append(summary)\n",
    "results_folds[\"Gen-LR-F\"] = folds\n",
    "summary, folds = repeated_evaluation(RandomForestClassifier(n_estimators=100, random_state=42), X_all, y_all, \"Gen-RF-M\", sex=sex_all, sex_filter='M', groups=groups_all)\n",
    "LR_RF_results.append(summary)\n",
    "results_folds[\"Gen-RF-M\"] = folds\n",
    "summary, fold = repeated_evaluation(RandomForestClassifier(n_estimators=100, random_state=42), X_all, y_all, \"Gen-RF-F\", sex=sex_all, sex_filter='F', groups=groups_all)\n",
    "LR_RF_results.append(summary)\n",
    "results_folds[\"Gen-RF-F\"] = folds\n"
   ]
  },
  {
   "cell_type": "code",
   "execution_count": 19,
   "id": "5d954c20-d3a9-4d14-8d34-8cfa090414be",
   "metadata": {},
   "outputs": [],
   "source": [
    "\n",
    "# === Sex specific models ===\n",
    "\n",
    "df_male = df_clean[df_clean['M/F'] == 'M']\n",
    "df_female = df_clean[df_clean['M/F'] == 'F']\n",
    "groups_f = df_female['Subject ID']\n",
    "groups_m = df_male['Subject ID']\n",
    "\n",
    "X_m, y_m = df_male[my_features], df_male['Group']\n",
    "\n",
    "summary, folds = repeated_evaluation(LogisticRegression(max_iter=1000), X_m, y_m, \"Male-LR-M\", groups=groups_m)\n",
    "LR_RF_results.append(summary)\n",
    "results_folds[\"Male-LR-M\"] = folds\n",
    "summary, folds = repeated_evaluation(RandomForestClassifier(n_estimators=100, random_state=42), X_m, y_m, \"Male-RF-M\", groups=groups_m)\n",
    "LR_RF_results.append(summary)\n",
    "results_folds[\"Male-RF-M\"] = folds\n",
    "\n",
    "X_f, y_f = df_female[my_features], df_female['Group']\n",
    "\n",
    "summary, folds = repeated_evaluation(LogisticRegression(max_iter=1000), X_f, y_f, \"Female-LR-F\", groups=groups_f)\n",
    "LR_RF_results.append(summary)\n",
    "results_folds[\"Female-LR-F\"] = folds\n",
    "summary, folds = repeated_evaluation(RandomForestClassifier(n_estimators=100, random_state=42), X_f, y_f, \"Female-RF-F\", groups=groups_f)\n",
    "LR_RF_results.append(summary)\n",
    "results_folds[\"Female-RF-F\"] = folds"
   ]
  },
  {
   "cell_type": "code",
   "execution_count": 20,
   "id": "4cb015c7-5b91-4e73-afc5-5d00f3aaa52d",
   "metadata": {},
   "outputs": [
    {
     "name": "stdout",
     "output_type": "stream",
     "text": [
      "         Model  Accuracy_mean  Accuracy_std  BalancedAccuracy_mean  \\\n",
      "0   Gen-LR-All       0.940433      0.015127               0.940335   \n",
      "1   Gen-RF-All       0.945530      0.017214               0.944307   \n",
      "2     Gen-LR-M       0.965453      0.013011               0.969613   \n",
      "3     Gen-LR-F       0.918739      0.027483               0.877570   \n",
      "4     Gen-RF-M       0.960190      0.014124               0.959613   \n",
      "5     Gen-RF-F       0.932655      0.032698               0.895509   \n",
      "6    Male-LR-M       0.970289      0.038332               0.976267   \n",
      "7    Male-RF-M       0.930390      0.047504               0.928843   \n",
      "8  Female-LR-F       0.959723      0.039251               0.931656   \n",
      "9  Female-RF-F       0.936847      0.030709               0.912172   \n",
      "\n",
      "   BalancedAccuracy_std   F1_mean    F1_std  Precision_mean  Precision_std  \\\n",
      "0              0.015590  0.935406  0.018655        0.986406       0.018655   \n",
      "1              0.019026  0.941044  0.022994        0.981644       0.017308   \n",
      "2              0.017722  0.973939  0.010982        0.982213       0.024365   \n",
      "3              0.043055  0.858285  0.056212        1.000000       0.000000   \n",
      "4              0.022379  0.970433  0.010631        0.975071       0.023047   \n",
      "5              0.060020  0.879259  0.075704        1.000000       0.000000   \n",
      "6              0.028191  0.976566  0.029948        0.990476       0.021296   \n",
      "7              0.051543  0.944774  0.038695        0.932308       0.084510   \n",
      "8              0.069919  0.921754  0.081457        1.000000       0.000000   \n",
      "9              0.059340  0.891209  0.069142        0.934303       0.038056   \n",
      "\n",
      "   Recall_mean  ...  BalancedAccuracy_ci_lower  BalancedAccuracy_ci_upper  \\\n",
      "0     0.889599  ...                   0.934224                   0.946447   \n",
      "1     0.903995  ...                   0.936849                   0.951765   \n",
      "2     0.966375  ...                   0.962666                   0.976560   \n",
      "3     0.755141  ...                   0.860693                   0.894448   \n",
      "4     0.966375  ...                   0.950840                   0.968385   \n",
      "5     0.791017  ...                   0.871981                   0.919036   \n",
      "6     0.965035  ...                   0.965217                   0.987318   \n",
      "7     0.965035  ...                   0.908638                   0.949048   \n",
      "8     0.863312  ...                   0.904247                   0.959064   \n",
      "9     0.863312  ...                   0.888911                   0.935433   \n",
      "\n",
      "   F1_ci_lower  F1_ci_upper  Precision_ci_lower  Precision_ci_upper  \\\n",
      "0     0.928093     0.942719            0.979093            0.993718   \n",
      "1     0.932030     0.950057            0.974859            0.988428   \n",
      "2     0.969635     0.978244            0.972662            0.991765   \n",
      "3     0.836250     0.880320            1.000000            1.000000   \n",
      "4     0.966266     0.974600            0.966036            0.984105   \n",
      "5     0.849583     0.908935            1.000000            1.000000   \n",
      "6     0.964827     0.988306            0.982128            0.998824   \n",
      "7     0.929606     0.959943            0.899180            0.965436   \n",
      "8     0.889823     0.953686            1.000000            1.000000   \n",
      "9     0.864105     0.918313            0.919385            0.949221   \n",
      "\n",
      "   Recall_ci_lower  Recall_ci_upper  AUC_ci_lower  AUC_ci_upper  \n",
      "0         0.880479         0.898719      0.965663      0.977882  \n",
      "1         0.891110         0.916879      0.950971      0.968775  \n",
      "2         0.958862         0.973887      0.990799      0.997952  \n",
      "3         0.721386         0.788895      0.939990      0.968801  \n",
      "4         0.958862         0.973887      0.967789      0.981919  \n",
      "5         0.743962         0.838073      0.914792      0.951387  \n",
      "6         0.941876         0.988194      0.979529      0.998653  \n",
      "7         0.941876         0.988194      0.963310      0.990565  \n",
      "8         0.808495         0.918128      0.911194      0.962134  \n",
      "9         0.808495         0.918128      0.925953      0.965770  \n",
      "\n",
      "[10 rows x 25 columns]\n"
     ]
    }
   ],
   "source": [
    "\n",
    "# === Results Table ===\n",
    "columns =['Model', 'Accuracy_mean', 'Accuracy_std', 'BalancedAccuracy_mean', 'BalancedAccuracy_std', 'F1_mean', 'F1_std', 'Precision_mean', 'Precision_std', 'Recall_mean', 'Recall_std', 'AUC_mean', 'AUC_std']\n",
    "results_table = pd.DataFrame(LR_RF_results, columns=columns)\n",
    "n_splits, n_repeats = 5, 5\n",
    "metrics = ['Accuracy', 'BalancedAccuracy', 'F1', 'Precision', 'Recall', 'AUC']\n",
    "N = n_splits * n_repeats\n",
    "for metric in metrics:\n",
    "    se = results_table[f'{metric}_std'] / np.sqrt(N)\n",
    "    results_table[f'{metric}_ci_lower'] = results_table[f'{metric}_mean'] - 1.96 * se\n",
    "    results_table[f'{metric}_ci_upper'] = results_table[f'{metric}_mean'] + 1.96 * se\n",
    "print(results_table)\n"
   ]
  },
  {
   "cell_type": "code",
   "execution_count": null,
   "id": "b25f73ae-bbd7-4f40-b0a8-3a4c3e58af8e",
   "metadata": {},
   "outputs": [],
   "source": []
  },
  {
   "cell_type": "markdown",
   "id": "9d1ea2d3-703a-45d2-bcbc-cf74309ab0f4",
   "metadata": {},
   "source": [
    "## XGBOOST models"
   ]
  },
  {
   "cell_type": "code",
   "execution_count": 22,
   "id": "40d9a554-db5e-4640-a43e-d171a81223ec",
   "metadata": {},
   "outputs": [],
   "source": [
    "xgb_results = []\n",
    "xgb_fold_results = {}\n",
    "xgb_model = XGBClassifier(eval_metric='logloss', random_state=RANDOM_SEED)\n",
    "\n",
    "summary, folds = repeated_evaluation(xgb_model, X_all, y_all, 'Gen-XGB-All', groups=groups_all)\n",
    "xgb_results.append(summary)\n",
    "xgb_fold_results['Gen-XGB-All'] = folds\n",
    "summary, folds = repeated_evaluation(xgb_model, X_all, y_all, 'Gen-XGB-M', sex=sex_all, sex_filter='M', groups=groups_all)\n",
    "xgb_results.append(summary)\n",
    "xgb_fold_results['Gen-XGB-M'] = folds\n",
    "summary, folds = repeated_evaluation(xgb_model, X_all, y_all, 'Gen-XGB-F', sex=sex_all, sex_filter='F', groups=groups_all)\n",
    "xgb_results.append(summary)\n",
    "xgb_fold_results['Gen-XGB-F'] = folds\n",
    "\n",
    "summary, folds = repeated_evaluation(xgb_model, X_m, y_m, 'Male-XGB-M', groups=groups_m)\n",
    "xgb_results.append(summary)                  \n",
    "xgb_fold_results['Male-XGB-M'] = folds\n",
    "summary, folds = repeated_evaluation(xgb_model, X_f, y_f, 'Female-XGB-F', groups=groups_f)\n",
    "xgb_results.append(summary)                  \n",
    "xgb_fold_results['Female-XGB-F'] = folds\n"
   ]
  },
  {
   "cell_type": "code",
   "execution_count": 23,
   "id": "b79068ae-d5ea-4aa6-84f3-7fff9779ebbc",
   "metadata": {},
   "outputs": [
    {
     "name": "stdout",
     "output_type": "stream",
     "text": [
      "          Model  Accuracy_mean  Accuracy_std  BalancedAccuracy_mean  \\\n",
      "0   Gen-XGB-All       0.940637      0.033243               0.941552   \n",
      "1     Gen-XGB-M       0.947964      0.037605               0.944228   \n",
      "2     Gen-XGB-F       0.932364      0.053914               0.902044   \n",
      "3    Male-XGB-M       0.958673      0.035301               0.963351   \n",
      "4  Female-XGB-F       0.913392      0.032533               0.882451   \n",
      "\n",
      "   BalancedAccuracy_std   F1_mean    F1_std  Precision_mean  Precision_std  \\\n",
      "0              0.036253  0.934190  0.044696        0.956288       0.054158   \n",
      "1              0.050807  0.961388  0.028790        0.957609       0.051041   \n",
      "2              0.084930  0.875929  0.115393        0.949206       0.070452   \n",
      "3              0.028810  0.966515  0.027974        0.971292       0.041575   \n",
      "4              0.033924  0.867011  0.028357        0.913621       0.088210   \n",
      "\n",
      "   Recall_mean  ...  BalancedAccuracy_ci_lower  BalancedAccuracy_ci_upper  \\\n",
      "0     0.913946  ...                   0.927341                   0.955763   \n",
      "1     0.966375  ...                   0.924312                   0.964145   \n",
      "2     0.817803  ...                   0.868752                   0.935337   \n",
      "3     0.965035  ...                   0.952057                   0.974644   \n",
      "4     0.843312  ...                   0.869153                   0.895750   \n",
      "\n",
      "   F1_ci_lower  F1_ci_upper  Precision_ci_lower  Precision_ci_upper  \\\n",
      "0     0.916670     0.951711            0.935058            0.977518   \n",
      "1     0.950102     0.972674            0.937601            0.977617   \n",
      "2     0.830695     0.921163            0.921589            0.976823   \n",
      "3     0.955549     0.977481            0.954995            0.987589   \n",
      "4     0.855895     0.878127            0.879042            0.948199   \n",
      "\n",
      "   Recall_ci_lower  Recall_ci_upper  AUC_ci_lower  AUC_ci_upper  \n",
      "0         0.895763         0.932128      0.941105      0.958869  \n",
      "1         0.958862         0.973887      0.967119      0.981191  \n",
      "2         0.757964         0.877642      0.883157      0.932824  \n",
      "3         0.941876         0.988194      0.960503      0.992924  \n",
      "4         0.795751         0.890872      0.873336      0.932515  \n",
      "\n",
      "[5 rows x 25 columns]\n"
     ]
    }
   ],
   "source": [
    "xgb_results_table = pd.DataFrame(xgb_results, columns=columns)\n",
    "n_splits, n_repeats = 5, 5\n",
    "N = n_splits * n_repeats\n",
    "for metric in metrics:\n",
    "    se = xgb_results_table[f'{metric}_std'] / np.sqrt(N)\n",
    "    xgb_results_table[f'{metric}_ci_lower'] = xgb_results_table[f'{metric}_mean'] - 1.96 * se\n",
    "    xgb_results_table[f'{metric}_ci_upper'] = xgb_results_table[f'{metric}_mean'] + 1.96 * se\n",
    "print(xgb_results_table)"
   ]
  },
  {
   "cell_type": "markdown",
   "id": "a5e96ef7-9266-4dab-a887-14096db08033",
   "metadata": {},
   "source": [
    "## Support Vector Machine and Voting Classifier Models "
   ]
  },
  {
   "cell_type": "code",
   "execution_count": 25,
   "id": "ebc0afe2-139f-4cbd-aa88-36435e124a2b",
   "metadata": {},
   "outputs": [],
   "source": [
    "svm_model = SVC(kernel='rbf', probability=True, class_weight='balanced', random_state=RANDOM_SEED)\n",
    "\n",
    "svm_vote_results = []\n",
    "svm_vote_fold_results = {}\n",
    "\n",
    "# === SVM general models ===\n",
    "summary, folds = repeated_evaluation(svm_model, X_all, y_all, 'Gen-SVM-All', groups=groups_all)\n",
    "svm_vote_results.append(summary)\n",
    "svm_vote_fold_results['Gen-SVM-All'] = folds\n",
    "summary, folds = repeated_evaluation(svm_model, X_all, y_all, 'Gen-SVM-M', sex=sex_all, sex_filter='M', groups=groups_all)\n",
    "svm_vote_results.append(summary)\n",
    "svm_vote_fold_results['Gen-SVM-M'] = folds\n",
    "summary, folds = repeated_evaluation(svm_model, X_all, y_all, 'Gen-SVM-F', sex=sex_all, sex_filter='F', groups=groups_all)\n",
    "svm_vote_results.append(summary)\n",
    "svm_vote_fold_results['Gen-SVM-F'] = folds\n",
    "\n",
    "# === SVM sex-specific models ===\n",
    "summary, folds = repeated_evaluation(svm_model, X_m, y_m, 'Male-SVM-M', groups=groups_m)\n",
    "svm_vote_results.append(summary)\n",
    "svm_vote_fold_results['Male-SVM-M'] = folds\n",
    "\n",
    "summary, folds = repeated_evaluation(svm_model, X_f, y_f, 'Female-SVM-F', groups=groups_f)\n",
    "svm_vote_results.append(summary)\n",
    "svm_vote_fold_results['Female-SVM-F'] = folds"
   ]
  },
  {
   "cell_type": "code",
   "execution_count": 26,
   "id": "9b7a16b2-ba34-4965-98b0-0e3ab686ee29",
   "metadata": {},
   "outputs": [],
   "source": [
    "# === Voting Classifier Set-up ===\n",
    "\n",
    "voting_estimators =[\n",
    "    ('lr', LogisticRegression(max_iter=1000)),\n",
    "    ('rf', RandomForestClassifier(n_estimators=100, random_state=RANDOM_SEED)),\n",
    "    ('svm', SVC(kernel='rbf', probability=True, class_weight='balanced', random_state=RANDOM_SEED)),\n",
    "]\n",
    "voting_clf = VotingClassifier(estimators=voting_estimators, voting='soft')\n",
    "\n",
    "    "
   ]
  },
  {
   "cell_type": "code",
   "execution_count": 27,
   "id": "e57656fc-88b2-410e-8bf7-c9548acdf61f",
   "metadata": {},
   "outputs": [],
   "source": [
    "# === VC general models ===\n",
    "\n",
    "summary, folds = repeated_evaluation(voting_clf, X_all, y_all, 'Gen-VOTE-All', groups=groups_all)\n",
    "svm_vote_results.append(summary)\n",
    "svm_vote_fold_results['Gen-VOTE-All'] = folds\n",
    "summary, folds = repeated_evaluation(voting_clf, X_all, y_all, 'Gen-VOTE-M', sex=sex_all, sex_filter='M', groups=groups_all)\n",
    "svm_vote_results.append(summary)\n",
    "svm_vote_fold_results['Gen-VOTE-M'] = folds\n",
    "summary, folds = repeated_evaluation(voting_clf, X_all, y_all, 'Gen-VOTE-F', sex=sex_all, sex_filter='F', groups=groups_all)\n",
    "svm_vote_results.append(summary)\n",
    "svm_vote_fold_results['Gen-VOTE-F'] = folds\n",
    "                                         \n",
    "# === VC sex-specific models\n",
    "summary, folds = repeated_evaluation(voting_clf, X_m, y_m, 'Male-VOTE-M',  groups=groups_m)\n",
    "svm_vote_results.append(summary)\n",
    "svm_vote_fold_results['Male-VOTE-M'] = folds\n",
    "summary, folds = repeated_evaluation(voting_clf, X_f, y_f, 'Female-VOTE-F', groups=groups_f)\n",
    "svm_vote_results.append(summary)\n",
    "svm_vote_fold_results['Female-VOTE-F'] = folds\n"
   ]
  },
  {
   "cell_type": "code",
   "execution_count": 28,
   "id": "db6d4d0a-fb6c-42cf-a40a-12187d2f3e84",
   "metadata": {},
   "outputs": [
    {
     "name": "stdout",
     "output_type": "stream",
     "text": [
      "           Model  Accuracy_mean  Accuracy_std  BalancedAccuracy_mean  \\\n",
      "0    Gen-SVM-All       0.937801      0.017447               0.937954   \n",
      "1      Gen-SVM-M       0.965453      0.013011               0.969613   \n",
      "2      Gen-SVM-F       0.913333      0.035556               0.873570   \n",
      "3     Male-SVM-M       0.969595      0.054160               0.977972   \n",
      "4   Female-SVM-F       0.954845      0.034183               0.921656   \n",
      "5   Gen-VOTE-All       0.940433      0.015127               0.940335   \n",
      "6     Gen-VOTE-M       0.965453      0.013011               0.969613   \n",
      "7     Gen-VOTE-F       0.918739      0.027483               0.877570   \n",
      "8    Male-VOTE-M       0.975845      0.040627               0.982517   \n",
      "9  Female-VOTE-F       0.954845      0.034183               0.928430   \n",
      "\n",
      "   BalancedAccuracy_std   F1_mean    F1_std  Precision_mean  Precision_std  \\\n",
      "0              0.018364  0.932609  0.021757        0.980357       0.028516   \n",
      "1              0.017722  0.973939  0.010982        0.982213       0.024365   \n",
      "2              0.048745  0.850666  0.067529        0.977778       0.049690   \n",
      "3              0.039396  0.976078  0.043368        1.000000       0.000000   \n",
      "4              0.060664  0.911228  0.071625        1.000000       0.000000   \n",
      "5              0.015590  0.935406  0.018655        0.986406       0.018655   \n",
      "6              0.017722  0.973939  0.010982        0.982213       0.024365   \n",
      "7              0.043055  0.858285  0.056212        1.000000       0.000000   \n",
      "8              0.029540  0.981444  0.031689        1.000000       0.000000   \n",
      "9              0.066254  0.912231  0.072290        0.981818       0.040656   \n",
      "\n",
      "   Recall_mean  Recall_std  AUC_mean   AUC_std  Accuracy_ci_lower  \\\n",
      "0     0.889599    0.023265  0.956426  0.017748           0.944640   \n",
      "1     0.966375    0.019165  0.981814  0.011661           0.970553   \n",
      "2     0.755141    0.086109  0.917437  0.039065           0.927271   \n",
      "3     0.955944    0.078792  0.990210  0.019994           0.990825   \n",
      "4     0.843312    0.121328  0.917543  0.083326           0.968245   \n",
      "5     0.889599    0.023265  0.964243  0.019383           0.946363   \n",
      "6     0.966375    0.019165  0.981719  0.014207           0.970553   \n",
      "7     0.755141    0.086109  0.938823  0.042326           0.929512   \n",
      "8     0.965035    0.059080  0.988531  0.016619           0.991770   \n",
      "9     0.863312    0.139839  0.926891  0.070326           0.968245   \n",
      "\n",
      "   BalancedAccuracy_ci_lower  F1_ci_lower  Precision_ci_lower  \\\n",
      "0                   0.945153     0.941137            0.991535   \n",
      "1                   0.976560     0.978244            0.991765   \n",
      "2                   0.892678     0.877137            0.997256   \n",
      "3                   0.993415     0.993079            1.000000   \n",
      "4                   0.945436     0.939305            1.000000   \n",
      "5                   0.946447     0.942719            0.993718   \n",
      "6                   0.976560     0.978244            0.991765   \n",
      "7                   0.894448     0.880320            1.000000   \n",
      "8                   0.994097     0.993866            1.000000   \n",
      "9                   0.954402     0.940568            0.997755   \n",
      "\n",
      "   Recall_ci_lower  AUC_ci_lower  \n",
      "0         0.898719      0.963383  \n",
      "1         0.973887      0.986385  \n",
      "2         0.788895      0.932751  \n",
      "3         0.986830      0.998048  \n",
      "4         0.890872      0.950207  \n",
      "5         0.898719      0.971841  \n",
      "6         0.973887      0.987288  \n",
      "7         0.788895      0.955414  \n",
      "8         0.988194      0.995046  \n",
      "9         0.918128      0.954459  \n"
     ]
    }
   ],
   "source": [
    "# === SVM and VC results ===\n",
    "\n",
    "svm_vote_results_table = pd.DataFrame(svm_vote_results, columns=columns)\n",
    "n_splits, n_repeats = 5, 5\n",
    "N = n_splits * n_repeats\n",
    "for metric in metrics:\n",
    "    se = svm_vote_results_table[f'{metric}_std'] / np.sqrt(N)\n",
    "    svm_vote_results_table[f'{metric}_ci_lower'] = svm_vote_results_table[f'{metric}_mean'] - 1.96 * se\n",
    "    svm_vote_results_table[f'{metric}_ci_lower'] = svm_vote_results_table[f'{metric}_mean'] + 1.96 * se\n",
    "print(svm_vote_results_table)"
   ]
  },
  {
   "cell_type": "markdown",
   "id": "e9e8ff16-5a53-43d6-9605-d588b14ee166",
   "metadata": {},
   "source": [
    "## Visually Assessing Model Accuracies - Initial Look"
   ]
  },
  {
   "cell_type": "code",
   "execution_count": 30,
   "id": "0f990131-4403-4a08-ade9-bc995f19e295",
   "metadata": {},
   "outputs": [
    {
     "data": {
      "image/png": "[encoded data removed]",
      "text/plain": [
       "<Figure size 1200x600 with 1 Axes>"
      ]
     },
     "metadata": {},
     "output_type": "display_data"
    }
   ],
   "source": [
    "all_results_table = pd.concat([results_table, xgb_results_table, svm_vote_results_table], ignore_index=True)\n",
    "all_results_table['Subset'] = all_results_table['Model'].str.split('-').str[-1]\n",
    "palette = {'F': 'tab:orange', 'M': 'tab:blue', 'All': 'tab:green'}\n",
    "plt.figure(figsize=(12,6))\n",
    "plt.plot(all_results_table['Model'], all_results_table['Accuracy_mean'], color='gray')\n",
    "sns.scatterplot(data=all_results_table, x='Model', y='Accuracy_mean', hue='Subset', palette=palette, s=100)\n",
    "plt.xticks(rotation=90, ha='right')\n",
    "plt.ylabel('Accuracy Score')\n",
    "plt.title('Model Accuracy Comparison')\n",
    "plt.grid(True)\n",
    "plt.tight_layout()\n",
    "plt.legend(title='Subset')\n",
    "plt.show()"
   ]
  },
  {
   "cell_type": "markdown",
   "id": "1cf6e22c-77e0-4d34-81cf-10843d7b48f7",
   "metadata": {},
   "source": [
    "## t-tests"
   ]
  },
  {
   "cell_type": "code",
   "execution_count": 32,
   "id": "1d250877-3e41-4d39-91e3-05ac7dd8de1c",
   "metadata": {},
   "outputs": [],
   "source": [
    "from statistics import mean, stdev, NormalDist, StatisticsError\n",
    "from math import sqrt\n",
    "\n",
    "from statistics import mean, stdev, NormalDist, StatisticsError\n",
    "from math import sqrt\n"
   ]
  },
  {
   "cell_type": "code",
   "execution_count": 33,
   "id": "07ff6e9c-f777-4218-a957-2e5292eb9d8a",
   "metadata": {},
   "outputs": [],
   "source": [
    "# Report mean balanced accuracy for each model\n",
    "metric = \"balanced_accuracy\"\n",
    "all_fold_tables = []\n",
    "for results in (results_folds, xgb_fold_results, svm_vote_fold_results):\n",
    "    for model_name, fold_df in results.items():\n",
    "        df = fold_df.copy()\n",
    "        df['Model'] = model_name\n",
    "        all_fold_tables.append(df)\n",
    "\n",
    "fold_metrics = pd.concat(all_fold_tables, ignore_index=True)\n"
   ]
  },
  {
   "cell_type": "code",
   "execution_count": 34,
   "id": "c1b2643d-08b8-4c15-9259-b13b2d52131a",
   "metadata": {},
   "outputs": [
    {
     "name": "stdout",
     "output_type": "stream",
     "text": [
      "Female-LR-F: 0.9317 ± 0.0699\n",
      "Female-RF-F: 0.9122 ± 0.0593\n",
      "Female-SVM-F: 0.9217 ± 0.0607\n",
      "Female-VOTE-F: 0.9284 ± 0.0663\n",
      "Female-XGB-F: 0.8825 ± 0.0339\n",
      "Gen-LR-All: 0.9403 ± 0.0156\n",
      "Gen-LR-F: 0.8776 ± 0.0431\n",
      "Gen-LR-M: 0.9696 ± 0.0177\n",
      "Gen-RF-All: 0.9443 ± 0.0190\n",
      "Gen-RF-F: 0.9596 ± 0.0224\n",
      "Gen-RF-M: 0.9596 ± 0.0224\n",
      "Gen-SVM-All: 0.9380 ± 0.0184\n",
      "Gen-SVM-F: 0.8736 ± 0.0487\n",
      "Gen-SVM-M: 0.9696 ± 0.0177\n",
      "Gen-VOTE-All: 0.9403 ± 0.0156\n",
      "Gen-VOTE-F: 0.8776 ± 0.0431\n",
      "Gen-VOTE-M: 0.9696 ± 0.0177\n",
      "Gen-XGB-All: 0.9416 ± 0.0363\n",
      "Gen-XGB-F: 0.9020 ± 0.0849\n",
      "Gen-XGB-M: 0.9442 ± 0.0508\n",
      "Male-LR-M: 0.9763 ± 0.0282\n",
      "Male-RF-M: 0.9288 ± 0.0515\n",
      "Male-SVM-M: 0.9780 ± 0.0394\n",
      "Male-VOTE-M: 0.9825 ± 0.0295\n",
      "Male-XGB-M: 0.9634 ± 0.0288\n"
     ]
    }
   ],
   "source": [
    "summary = fold_metrics.groupby('Model')[metric].agg(['mean', 'std'])\n",
    "for model_name, row in summary.iterrows():\n",
    "    print(f\"{model_name}: {row['mean']:.4f} ± {row['std']:.4f}\")"
   ]
  },
  {
   "cell_type": "code",
   "execution_count": null,
   "id": "0661b962-51df-4e99-99f6-1fc06bbe1b1a",
   "metadata": {},
   "outputs": [],
   "source": []
  },
  {
   "cell_type": "code",
   "execution_count": null,
   "id": "def9301b-92f7-44d8-bd64-beaf7a7e3cab",
   "metadata": {},
   "outputs": [],
   "source": []
  },
  {
   "cell_type": "code",
   "execution_count": 35,
   "id": "9e343ef5-b9d6-4771-9db6-dd274908a8cc",
   "metadata": {},
   "outputs": [],
   "source": [
    "#### TODO\n",
    "#from scipy.stats import ttest_rel\n",
    "#import pandas as pd\n",
    "\n",
    "# Extract AUC scores for each model from the earlier results\n",
    "# Define model pairs to compare\n",
    "# Perform t-tests\n",
    "# Bonferroni correction\n",
    "\n",
    "# Evaluate all models with cross validation??"
   ]
  }
 ],
 "metadata": {
  "kernelspec": {
   "display_name": "Python (pymc_env)",
   "language": "python",
   "name": "pymc_env"
  },
  "language_info": {
   "codemirror_mode": {
    "name": "ipython",
    "version": 3
   },
   "file_extension": ".py",
   "mimetype": "text/x-python",
   "name": "python",
   "nbconvert_exporter": "python",
   "pygments_lexer": "ipython3",
   "version": "3.10.16"
  }
 },
 "nbformat": 4,
 "nbformat_minor": 5
}
