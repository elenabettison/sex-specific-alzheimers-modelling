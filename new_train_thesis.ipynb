{
 "cells": [
  {
   "cell_type": "markdown",
   "id": "c071deca-c05e-42db-816d-310c2f9c3737",
   "metadata": {},
   "source": [
    "# Sex-Specific Alzheimer's Disease Modelling Experimentations"
   ]
  },
  {
   "cell_type": "markdown",
   "id": "95f7b7cc-ff22-48c4-8066-206ac908783a",
   "metadata": {},
   "source": [
    "## Set-up and Cleaning"
   ]
  },
  {
   "cell_type": "code",
   "execution_count": 30,
   "id": "7f7cdf5b-5163-4cc6-9788-c58bce00e581",
   "metadata": {},
   "outputs": [],
   "source": [
    "# === Load and clean data ===\n",
    "import pandas as pd\n",
    "import numpy as np\n",
    "from sklearn.svm import SVC\n",
    "from sklearn.model_selection import train_test_split\n",
    "from sklearn.linear_model import LogisticRegression\n",
    "from sklearn.preprocessing import StandardScaler\n",
    "from sklearn.ensemble import RandomForestClassifier, VotingClassifier\n",
    "from sklearn.model_selection import RepeatedStratifiedKFold\n",
    "from sklearn.model_selection import StratifiedGroupKFold\n",
    "from sklearn.metrics import accuracy_score, f1_score, precision_score, recall_score, roc_auc_score\n",
    "from sklearn.pipeline import Pipeline\n",
    "from xgboost import XGBClassifier\n",
    "import matplotlib.pyplot as plt\n",
    "import seaborn as sns\n",
    "from scipy.stats import ttest_rel\n",
    "from scipy import stats\n",
    "\n",
    "#p_value = ttest_rel(baseline_fold_metrics, sex_specific_fold_metrics).pvalue\n",
    "\n",
    "\n"
   ]
  },
  {
   "cell_type": "code",
   "execution_count": 31,
   "id": "5dea7543-8ca4-42d3-8549-1dbe5410404d",
   "metadata": {},
   "outputs": [
    {
     "name": "stdout",
     "output_type": "stream",
     "text": [
      "    Subject ID         MRI ID        Group  Visit  MR Delay M/F Hand  Age  \\\n",
      "0    OAS2_0001  OAS2_0001_MR1  Nondemented      1         0   M    R   87   \n",
      "1    OAS2_0001  OAS2_0001_MR2  Nondemented      2       457   M    R   88   \n",
      "2    OAS2_0002  OAS2_0002_MR1     Demented      1         0   M    R   75   \n",
      "3    OAS2_0002  OAS2_0002_MR2     Demented      2       560   M    R   76   \n",
      "4    OAS2_0002  OAS2_0002_MR3     Demented      3      1895   M    R   80   \n",
      "..         ...            ...          ...    ...       ...  ..  ...  ...   \n",
      "368  OAS2_0185  OAS2_0185_MR2     Demented      2       842   M    R   82   \n",
      "369  OAS2_0185  OAS2_0185_MR3     Demented      3      2297   M    R   86   \n",
      "370  OAS2_0186  OAS2_0186_MR1  Nondemented      1         0   F    R   61   \n",
      "371  OAS2_0186  OAS2_0186_MR2  Nondemented      2       763   F    R   63   \n",
      "372  OAS2_0186  OAS2_0186_MR3  Nondemented      3      1608   F    R   65   \n",
      "\n",
      "     EDUC  SES  MMSE  CDR  eTIV   nWBV    ASF  \n",
      "0      14  2.0  27.0  0.0  1987  0.696  0.883  \n",
      "1      14  2.0  30.0  0.0  2004  0.681  0.876  \n",
      "2      12  NaN  23.0  0.5  1678  0.736  1.046  \n",
      "3      12  NaN  28.0  0.5  1738  0.713  1.010  \n",
      "4      12  NaN  22.0  0.5  1698  0.701  1.034  \n",
      "..    ...  ...   ...  ...   ...    ...    ...  \n",
      "368    16  1.0  28.0  0.5  1693  0.694  1.037  \n",
      "369    16  1.0  26.0  0.5  1688  0.675  1.040  \n",
      "370    13  2.0  30.0  0.0  1319  0.801  1.331  \n",
      "371    13  2.0  30.0  0.0  1327  0.796  1.323  \n",
      "372    13  2.0  30.0  0.0  1333  0.801  1.317  \n",
      "\n",
      "[373 rows x 15 columns]\n"
     ]
    }
   ],
   "source": [
    "# Load OASIS dataset\n",
    "df = pd.read_csv(\"oasis_longitudinal.csv\")\n",
    "print(df)"
   ]
  },
  {
   "cell_type": "code",
   "execution_count": 32,
   "id": "f5b689c9-5f03-4d70-9ec2-b09c179561ae",
   "metadata": {},
   "outputs": [],
   "source": [
    "# Fill missing SES and MMSE values\n",
    "df['SES'] = df['SES'].fillna(df['SES'].median())\n",
    "df['MMSE'] = df['MMSE'].fillna(df['MMSE'].mean())"
   ]
  },
  {
   "cell_type": "code",
   "execution_count": 33,
   "id": "d5713ea5-ba81-49c6-88b2-295ccad1928a",
   "metadata": {},
   "outputs": [],
   "source": [
    "# Convert labels to binary classification: demented = 1, nondemented = 0\n",
    "df['Group'] = df['Group'].replace(\"Converted\", \"Demented\")\n",
    "df['Group'] = df['Group'].map({\"Demented\": 1, \"Nondemented\": 0})"
   ]
  },
  {
   "cell_type": "code",
   "execution_count": 34,
   "id": "5ea231f3-353b-44b8-b7c7-a26592fb9889",
   "metadata": {},
   "outputs": [],
   "source": [
    "# Define features and dropping missing values\n",
    "my_features = ['Age', 'EDUC', 'SES', 'MMSE', 'CDR', 'eTIV', 'nWBV', 'ASF']\n",
    "df_clean = df.dropna(subset=my_features + ['Group', 'M/F'])"
   ]
  },
  {
   "cell_type": "markdown",
   "id": "8222a268-b78c-4ff4-b27d-e2856ca1da79",
   "metadata": {},
   "source": [
    "## Repeated Train/Test Evaluation Function"
   ]
  },
  {
   "cell_type": "code",
   "execution_count": 74,
   "id": "98d15d34-080b-49b3-8209-1c4025fda294",
   "metadata": {},
   "outputs": [],
   "source": [
    "\n",
    "# === REPEATED TRAIN/TEST EVALUATION ===\n",
    "\n",
    "def repeated_evaluation(model, X, y, label, splits, sex=None, sex_filter=None):\n",
    "    fold_metrics = []\n",
    "    for repeat, fold, train_idx, test_idx in splits:\n",
    "            X_train, X_test = X.iloc[train_idx], X.iloc[test_idx]\n",
    "            y_train, y_test = y.iloc[train_idx], y.iloc[test_idx]\n",
    "            if len(train_idx) == 0 or len(test_idx) == 0:\n",
    "                continue\n",
    "            scaler = StandardScaler() \n",
    "            X_train_scaled = scaler.fit_transform(X_train) \n",
    "            X_test_scaled = scaler.transform(X_test)\n",
    "            model.fit(X_train_scaled, y_train)\n",
    "            y_pred = model.predict(X_test_scaled)\n",
    "            y_proba = model.predict_proba(X_test_scaled)[:, 1]\n",
    "            if sex is not None and sex_filter is not None:\n",
    "                test_sex = sex.iloc[test_idx]\n",
    "                mask = test_sex == sex_filter\n",
    "                if not mask.any():\n",
    "                    continue\n",
    "                y_test = y_test[mask]\n",
    "                y_pred = y_pred[mask]\n",
    "                y_proba = y_proba[mask]\n",
    "\n",
    "            fold_metrics.append({\n",
    "                'repeat': repeat,\n",
    "                'fold': fold,\n",
    "                'accuracy': accuracy_score(y_test, y_pred),\n",
    "                'f1': f1_score(y_test, y_pred),\n",
    "                'precision': precision_score(y_test, y_pred),\n",
    "                'recall': recall_score(y_test, y_pred),\n",
    "                'roc_auc': roc_auc_score(y_test, y_proba)\n",
    "            })\n",
    "\n",
    "    metrics_df = pd.DataFrame(fold_metrics)\n",
    "    metrics = metrics_df[['accuracy', 'f1', 'precision', 'recall', 'roc_auc']]\n",
    "    means = metrics.mean()\n",
    "    stds = metrics.std()\n",
    "    summary = [\n",
    "        label,\n",
    "        means['accuracy'], stds['accuracy'],\n",
    "        means['f1'], stds['f1'],\n",
    "        means['precision'], stds['precision'],\n",
    "        means['recall'], stds['recall'],\n",
    "        means['roc_auc'], stds['roc_auc']\n",
    "    ]\n",
    "   \n",
    "    return summary, metrics_df"
   ]
  },
  {
   "cell_type": "code",
   "execution_count": 76,
   "id": "ff68efce-8d76-4afc-b3c5-7239b0ef30c2",
   "metadata": {},
   "outputs": [],
   "source": [
    "\n",
    "X_all = df_clean[my_features]\n",
    "y_all = df_clean['Group']\n",
    "sex_all = df_clean['M/F']\n",
    "groups_all = df_clean['Subject ID']"
   ]
  },
  {
   "cell_type": "code",
   "execution_count": 112,
   "id": "afc928a0-83ce-47ec-9b8e-e43f1a9332d7",
   "metadata": {},
   "outputs": [],
   "source": [
    "# Compute cross-validation splits\n",
    "splits_all = []\n",
    "for repeat in range(10):\n",
    "    sgkf = StratifiedGroupKFold(n_splits=5, shuffle=True, random_state=42 + repeat)\n",
    "    for fold, (train_idx, test_idx) in enumerate(sgkf.split(X_all, y_all, groups_all)):\n",
    "        splits_all.append((repeat, fold, train_idx, test_idx))\n",
    "male_idx = np.where(sex_all == 'M')[0]\n",
    "female_idx = np.where(sex_all == 'F')[0]\n",
    "splits_m, splits_f = [], []\n",
    "for repeat, fold, train_idx, test_idx in splits_all:\n",
    "    m_train = np.intersect1d(train_idx, male_idx)\n",
    "    m_test = np.intersect1d(test_idx, male_idx)\n",
    "    if len(m_train) and len(m_test):\n",
    "        splits_m.append((repeat, fold, m_train, m_test))\n",
    "    f_train = np.intersect1d(train_idx, female_idx)\n",
    "    f_test = np.intersect1d(test_idx, female_idx)\n",
    "    if len(f_train) and len(f_test):\n",
    "        splits_f.append((repeat, fold, f_train, f_test))"
   ]
  },
  {
   "cell_type": "markdown",
   "id": "2dd39d1c-e200-4b5a-9644-ca58c6fd173e",
   "metadata": {},
   "source": [
    "## Logistic Regression and Random Forest Classifier Models"
   ]
  },
  {
   "cell_type": "code",
   "execution_count": 160,
   "id": "beeae0a5-a338-484a-92f0-d5a65668ab9c",
   "metadata": {},
   "outputs": [],
   "source": [
    "\n",
    "# === General models ===\n",
    "LR_RF_results = []\n",
    "results_folds = {}\n",
    "\n",
    "summary, folds = repeated_evaluation(LogisticRegression(max_iter=1000), X_all, y_all, \"Gen-LR-All\", splits=splits_all)\n",
    "LR_RF_results.append(summary)\n",
    "results_folds[\"Gen-LR-All\"] = folds\n",
    "summary, folds = repeated_evaluation(RandomForestClassifier(n_estimators=100, random_state=42), X_all, y_all, \"Gen-RF-All\", splits=splits_all)\n",
    "LR_RF_results.append(summary)\n",
    "results_folds[\"Gen-RF-All\"] = folds\n",
    "summary, folds = repeated_evaluation(LogisticRegression(max_iter=1000), X_all, y_all, \"Gen-LR-M\", sex=sex_all, sex_filter='M', splits=splits_all)\n",
    "LR_RF_results.append(summary)\n",
    "results_folds[\"Gen-LR-M\"] = folds\n",
    "summary, folds = repeated_evaluation(LogisticRegression(max_iter=1000), X_all, y_all, \"Gen-LR-F\", sex=sex_all, sex_filter='F', splits=splits_all)\n",
    "LR_RF_results.append(summary)\n",
    "results_folds[\"Gen-LR-F\"] = folds\n",
    "summary, folds = repeated_evaluation(RandomForestClassifier(n_estimators=100, random_state=42), X_all, y_all, \"Gen-RF-M\", sex=sex_all, sex_filter='M', splits=splits_all)\n",
    "LR_RF_results.append(summary)\n",
    "results_folds[\"Gen-RF-M\"] = folds\n",
    "summary, fold = repeated_evaluation(RandomForestClassifier(n_estimators=100, random_state=42), X_all, y_all, \"Gen-RF-F\", sex=sex_all, sex_filter='F', splits=splits_all)\n",
    "LR_RF_results.append(summary)\n",
    "results_folds[\"Gen-RF-F\"] = folds\n"
   ]
  },
  {
   "cell_type": "code",
   "execution_count": 162,
   "id": "5d954c20-d3a9-4d14-8d34-8cfa090414be",
   "metadata": {},
   "outputs": [
    {
     "name": "stdout",
     "output_type": "stream",
     "text": [
      "[['Gen-LR-All', 0.9458487301308749, 0.024046794373722837, 0.9414147031959316, 0.025454254220303306, 0.985503693275588, 0.019580943948181072, 0.9019579935986697, 0.04027441574551384, 0.9653424800977366, 0.024435197265698882], ['Gen-RF-All', 0.9412535764595588, 0.027908200114201455, 0.9366503828716449, 0.030967216062858793, 0.9716642761911334, 0.037147940674653684, 0.9057427343834104, 0.04487916675468154, 0.954692145057681, 0.02218288806687476], ['Gen-LR-M', 0.9569956201460791, 0.0325516717914216, 0.9623695073046145, 0.03187844906199922, 0.9758637491417812, 0.043963347051868724, 0.9520142019649, 0.04981364906856828, 0.9859614154248085, 0.018082623542802566], ['Gen-LR-F', 0.938012723460527, 0.0382785278063002, 0.9139812356374197, 0.05155022561226739, 0.9958362573099415, 0.017490326887021634, 0.8488341501680443, 0.0876261495659675, 0.9509013718585062, 0.04421377123443878], ['Gen-RF-M', 0.9496725993565756, 0.036688990478653816, 0.9555819110012709, 0.035053647545824816, 0.9672139322919642, 0.052962746993738104, 0.9480142019649, 0.05375573302671951, 0.970285375852351, 0.030645156140474198], ['Gen-RF-F', 0.9352388954978968, 0.03773001246093275, 0.9120958142202911, 0.048849445808733946, 0.9763653054891445, 0.048199815227579955, 0.8615889876900442, 0.08466237121663704, 0.9392170695933654, 0.04123056824209502], ['Male-LR-M', 0.9322453025161515, 0.05080523774591282, 0.938227764616212, 0.05619641679897734, 0.9556820448811295, 0.07183247220359976, 0.9265595201732617, 0.07569251747104164, 0.9860867509438687, 0.02119107689535115], ['Male-RF-M', 0.9044706906168304, 0.07874232184798938, 0.9161250374163957, 0.08004199774660634, 0.9097956549091964, 0.13166392719603504, 0.9383676858779748, 0.05959625066154083, 0.9641371922763377, 0.030332449943885287], ['Female-LR-F', 0.9423218683041793, 0.03811251309365109, 0.9204789728555737, 0.050000176752784085, 0.9986666666666667, 0.00942809041582063, 0.8573803428216539, 0.08482930289417615, 0.9424720622528007, 0.04490512922307439], ['Female-RF-F', 0.9240831366876828, 0.045464956463971515, 0.8974846324848516, 0.057195581044463484, 0.9579377953824044, 0.06191504075181091, 0.8498341501680443, 0.08675620865664646, 0.9352656289252043, 0.042644069839356216]]\n"
     ]
    }
   ],
   "source": [
    "\n",
    "# === Sex specific models ===\n",
    "\n",
    "df_male = df_clean[df_clean['M/F'] == 'M']\n",
    "df_female = df_clean[df_clean['M/F'] == 'F']\n",
    "groups_f = df_female['Subject ID']\n",
    "groups_m = df_male['Subject ID']\n",
    "\n",
    "X_m, y_m = df_male[my_features], df_male['Group']\n",
    "\n",
    "summary, folds = repeated_evaluation(LogisticRegression(max_iter=1000), X_all, y_all, \"Male-LR-M\", splits=splits_m)\n",
    "LR_RF_results.append(summary)\n",
    "results_folds[\"Male-LR-M\"] = folds\n",
    "summary, folds = repeated_evaluation(RandomForestClassifier(n_estimators=100, random_state=42), X_all, y_all, \"Male-RF-M\", splits=splits_m)\n",
    "LR_RF_results.append(summary)\n",
    "results_folds[\"Male-RF-M\"] = folds\n",
    "\n",
    "X_f, y_f = df_female[my_features], df_female['Group']\n",
    "\n",
    "summary, folds = repeated_evaluation(LogisticRegression(max_iter=1000), X_all, y_all, \"Female-LR-F\", splits=splits_f)\n",
    "LR_RF_results.append(summary)\n",
    "results_folds[\"Female-LR-F\"] = folds\n",
    "summary, folds = repeated_evaluation(RandomForestClassifier(n_estimators=100, random_state=42), X_all, y_all, \"Female-RF-F\", splits=splits_f)\n",
    "LR_RF_results.append(summary)\n",
    "results_folds[\"Female-RF-F\"] = folds\n",
    "\n"
   ]
  },
  {
   "cell_type": "code",
   "execution_count": 163,
   "id": "4cb015c7-5b91-4e73-afc5-5d00f3aaa52d",
   "metadata": {},
   "outputs": [
    {
     "name": "stdout",
     "output_type": "stream",
     "text": [
      "         Model  Accuracy_mean  Accuracy_std   F1_mean    F1_std  \\\n",
      "0   Gen-LR-All       0.945849      0.024047  0.941415  0.025454   \n",
      "1   Gen-RF-All       0.941254      0.027908  0.936650  0.030967   \n",
      "2     Gen-LR-M       0.956996      0.032552  0.962370  0.031878   \n",
      "3     Gen-LR-F       0.938013      0.038279  0.913981  0.051550   \n",
      "4     Gen-RF-M       0.949673      0.036689  0.955582  0.035054   \n",
      "5     Gen-RF-F       0.935239      0.037730  0.912096  0.048849   \n",
      "6    Male-LR-M       0.932245      0.050805  0.938228  0.056196   \n",
      "7    Male-RF-M       0.904471      0.078742  0.916125  0.080042   \n",
      "8  Female-LR-F       0.942322      0.038113  0.920479  0.050000   \n",
      "9  Female-RF-F       0.924083      0.045465  0.897485  0.057196   \n",
      "\n",
      "   Precision_mean  Precision_std  Recall_mean  Recall_std  AUC_mean  ...  \\\n",
      "0        0.985504       0.019581     0.901958    0.040274  0.965342  ...   \n",
      "1        0.971664       0.037148     0.905743    0.044879  0.954692  ...   \n",
      "2        0.975864       0.043963     0.952014    0.049814  0.985961  ...   \n",
      "3        0.995836       0.017490     0.848834    0.087626  0.950901  ...   \n",
      "4        0.967214       0.052963     0.948014    0.053756  0.970285  ...   \n",
      "5        0.976365       0.048200     0.861589    0.084662  0.939217  ...   \n",
      "6        0.955682       0.071832     0.926560    0.075693  0.986087  ...   \n",
      "7        0.909796       0.131664     0.938368    0.059596  0.964137  ...   \n",
      "8        0.998667       0.009428     0.857380    0.084829  0.942472  ...   \n",
      "9        0.957938       0.061915     0.849834    0.086756  0.935266  ...   \n",
      "\n",
      "   Accuracy_ci_lower  Accuracy_ci_upper  F1_ci_lower  F1_ci_upper  \\\n",
      "0           0.939183           0.952514     0.934359     0.948470   \n",
      "1           0.933518           0.948989     0.928067     0.945234   \n",
      "2           0.947973           0.966018     0.953533     0.971206   \n",
      "3           0.927402           0.948623     0.899692     0.928270   \n",
      "4           0.939503           0.959842     0.945866     0.965298   \n",
      "5           0.924781           0.945697     0.898555     0.925636   \n",
      "6           0.918163           0.946328     0.922651     0.953805   \n",
      "7           0.882644           0.926297     0.893939     0.938312   \n",
      "8           0.931758           0.952886     0.906620     0.934338   \n",
      "9           0.911481           0.936685     0.881631     0.913338   \n",
      "\n",
      "   Precision_ci_lower  Precision_ci_upper  Recall_ci_lower  Recall_ci_upper  \\\n",
      "0            0.980076            0.990931         0.890794         0.913121   \n",
      "1            0.961367            0.981961         0.893303         0.918183   \n",
      "2            0.963678            0.988050         0.938207         0.965822   \n",
      "3            0.990988            1.000684         0.824545         0.873123   \n",
      "4            0.952533            0.981894         0.933114         0.962915   \n",
      "5            0.963005            0.989726         0.838122         0.885056   \n",
      "6            0.935771            0.975593         0.905579         0.947540   \n",
      "7            0.873300            0.946291         0.921848         0.954887   \n",
      "8            0.996053            1.001280         0.833867         0.880894   \n",
      "9            0.940776            0.975100         0.825787         0.873882   \n",
      "\n",
      "   AUC_ci_lower  AUC_ci_upper  \n",
      "0      0.958569      0.972116  \n",
      "1      0.948543      0.960841  \n",
      "2      0.980949      0.990974  \n",
      "3      0.938646      0.963157  \n",
      "4      0.961791      0.978780  \n",
      "5      0.927789      0.950646  \n",
      "6      0.980213      0.991961  \n",
      "7      0.955729      0.972545  \n",
      "8      0.930025      0.954919  \n",
      "9      0.923445      0.947086  \n",
      "\n",
      "[10 rows x 21 columns]\n"
     ]
    }
   ],
   "source": [
    "\n",
    "# === Results Table ===\n",
    "columns =['Model', 'Accuracy_mean', 'Accuracy_std', 'F1_mean', 'F1_std', 'Precision_mean', 'Precision_std', 'Recall_mean', 'Recall_std', 'AUC_mean', 'AUC_std']\n",
    "results_table = pd.DataFrame(LR_RF_results, columns=columns)\n",
    "n_splits, n_repeats = 5, 10\n",
    "metrics = ['Accuracy', 'F1', 'Precision', 'Recall', 'AUC']\n",
    "N = n_splits * n_repeats\n",
    "for metric in metrics:\n",
    "    se = results_table[f'{metric}_std'] / np.sqrt(N)\n",
    "    results_table[f'{metric}_ci_lower'] = results_table[f'{metric}_mean'] - 1.96 * se\n",
    "    results_table[f'{metric}_ci_upper'] = results_table[f'{metric}_mean'] + 1.96 * se\n",
    "print(results_table)\n"
   ]
  },
  {
   "cell_type": "code",
   "execution_count": null,
   "id": "b25f73ae-bbd7-4f40-b0a8-3a4c3e58af8e",
   "metadata": {},
   "outputs": [],
   "source": []
  },
  {
   "cell_type": "markdown",
   "id": "9d1ea2d3-703a-45d2-bcbc-cf74309ab0f4",
   "metadata": {},
   "source": [
    "## XGBOOST models"
   ]
  },
  {
   "cell_type": "code",
   "execution_count": 141,
   "id": "40d9a554-db5e-4640-a43e-d171a81223ec",
   "metadata": {},
   "outputs": [],
   "source": [
    "xgb_results = []\n",
    "xgb_fold_results = {}\n",
    "xgb_model = XGBClassifier(eval_metric='logloss')\n",
    "\n",
    "summary, folds = repeated_evaluation(xgb_model, X_all, y_all, 'Gen-XGB-All', splits=splits_all)\n",
    "xgb_results.append(summary)\n",
    "xgb_fold_results['Gen-XGB-All'] = folds\n",
    "summary, folds = repeated_evaluation(xgb_model, X_all, y_all, 'Gen-XGB-M', sex=sex_all, sex_filter='M', splits=splits_all)\n",
    "xgb_results.append(summary)\n",
    "xgb_fold_results['Gen-XGB-M'] = folds\n",
    "summary, folds = repeated_evaluation(xgb_model, X_all, y_all, 'Gen-XGB-F', sex=sex_all, sex_filter='F', splits=splits_all)\n",
    "xgb_results.append(summary)\n",
    "xgb_fold_results['Gen-XGB-F'] = folds\n",
    "\n",
    "summary, folds = repeated_evaluation(xgb_model, X_all, y_all, 'Male-XGB-M', splits=splits_m)\n",
    "xgb_results.append(summary)                  \n",
    "xgb_fold_results['Male-XGB-M'] = folds\n",
    "summary, folds = repeated_evaluation(xgb_model, X_all, y_all, 'Female-XGB-F', splits=splits_f)\n",
    "xgb_results.append(summary)                  \n",
    "xgb_fold_results['Female-XGB-F'] = folds\n",
    "\n"
   ]
  },
  {
   "cell_type": "code",
   "execution_count": 142,
   "id": "b79068ae-d5ea-4aa6-84f3-7fff9779ebbc",
   "metadata": {},
   "outputs": [
    {
     "name": "stdout",
     "output_type": "stream",
     "text": [
      "          Model  Accuracy_mean  Accuracy_std   F1_mean    F1_std  \\\n",
      "0   Gen-XGB-All       0.925807      0.030101  0.920984  0.035147   \n",
      "1     Gen-XGB-M       0.935688      0.040942  0.943874  0.040916   \n",
      "2     Gen-XGB-F       0.916833      0.046690  0.888927  0.063663   \n",
      "3    Male-XGB-M       0.929069      0.053137  0.937740  0.056147   \n",
      "4  Female-XGB-F       0.910122      0.047390  0.879808  0.064017   \n",
      "\n",
      "   Precision_mean  Precision_std  Recall_mean  Recall_std  AUC_mean  ...  \\\n",
      "0        0.934531       0.052771     0.909904    0.040279  0.950111  ...   \n",
      "1        0.941116       0.072496     0.952014    0.049814  0.971000  ...   \n",
      "2        0.922630       0.084022     0.864915    0.085355  0.928614  ...   \n",
      "3        0.928028       0.100508     0.957370    0.047511  0.971003  ...   \n",
      "4        0.918178       0.094091     0.853782    0.087907  0.936096  ...   \n",
      "\n",
      "   Accuracy_ci_lower  Accuracy_ci_upper  F1_ci_lower  F1_ci_upper  \\\n",
      "0           0.917464           0.934151     0.911242     0.930726   \n",
      "1           0.924339           0.947037     0.932533     0.955215   \n",
      "2           0.903892           0.929775     0.871280     0.906573   \n",
      "3           0.914340           0.943798     0.922176     0.953303   \n",
      "4           0.896987           0.923258     0.862064     0.897553   \n",
      "\n",
      "   Precision_ci_lower  Precision_ci_upper  Recall_ci_lower  Recall_ci_upper  \\\n",
      "0            0.919904            0.949158         0.898739         0.921069   \n",
      "1            0.921021            0.961211         0.938207         0.965822   \n",
      "2            0.899340            0.945920         0.841256         0.888574   \n",
      "3            0.900168            0.955887         0.944201         0.970539   \n",
      "4            0.892097            0.944259         0.829415         0.878148   \n",
      "\n",
      "   AUC_ci_lower  AUC_ci_upper  \n",
      "0      0.944043      0.956180  \n",
      "1      0.963264      0.978735  \n",
      "2      0.915502      0.941725  \n",
      "3      0.962823      0.979182  \n",
      "4      0.924046      0.948146  \n",
      "\n",
      "[5 rows x 21 columns]\n"
     ]
    }
   ],
   "source": [
    "xgb_results_table = pd.DataFrame(xgb_results, columns=columns)\n",
    "n_splits, n_repeats = 5, 10\n",
    "N = n_splits * n_repeats\n",
    "for metric in metrics:\n",
    "    se = xgb_results_table[f'{metric}_std'] / np.sqrt(N)\n",
    "    xgb_results_table[f'{metric}_ci_lower'] = xgb_results_table[f'{metric}_mean'] - 1.96 * se\n",
    "    xgb_results_table[f'{metric}_ci_upper'] = xgb_results_table[f'{metric}_mean'] + 1.96 * se\n",
    "print(xgb_results_table)"
   ]
  },
  {
   "cell_type": "markdown",
   "id": "a5e96ef7-9266-4dab-a887-14096db08033",
   "metadata": {},
   "source": [
    "## Support Vector Machine and Voting Classifier Models "
   ]
  },
  {
   "cell_type": "code",
   "execution_count": 144,
   "id": "ebc0afe2-139f-4cbd-aa88-36435e124a2b",
   "metadata": {},
   "outputs": [],
   "source": [
    "svm_vote_results = []\n",
    "svm_vote_fold_results = {}\n",
    "svm_model = SVC(kernel='rbf', probability=True, class_weight='balanced', random_state=42)\n",
    "\n",
    "# === SVM general models ===\n",
    "summary, folds = repeated_evaluation(svm_model, X_all, y_all, 'Gen-SVM-All', splits=splits_all)\n",
    "svm_vote_results.append(summary)\n",
    "svm_vote_fold_results['Gen-SVM-All'] = folds\n",
    "summary, folds = repeated_evaluation(svm_model, X_all, y_all, 'Gen-SVM-M', sex=sex_all, sex_filter='M', splits=splits_all)\n",
    "svm_vote_results.append(summary)\n",
    "svm_vote_fold_results['Gen-SVM-M'] = folds\n",
    "summary, folds = repeated_evaluation(svm_model, X_all, y_all, 'Gen-SVM-F', sex=sex_all, sex_filter='F', splits=splits_all)\n",
    "svm_vote_results.append(summary)\n",
    "svm_vote_fold_results['Gen-SVM-F'] = folds\n",
    "\n",
    "# === SVM sex-specific models ===\n",
    "summary, folds = repeated_evaluation(svm_model, X_all, y_all, 'Male-SVM-M', splits=splits_m)\n",
    "svm_vote_results.append(summary)\n",
    "svm_vote_fold_results['Male-SVM-M'] = folds\n",
    "\n",
    "summary, folds = repeated_evaluation(svm_model, X_all, y_all, 'Female-SVM-F', splits=splits_f)\n",
    "svm_vote_results.append(summary)\n",
    "svm_vote_fold_results['Female-SVM-F'] = folds"
   ]
  },
  {
   "cell_type": "code",
   "execution_count": 145,
   "id": "9b7a16b2-ba34-4965-98b0-0e3ab686ee29",
   "metadata": {},
   "outputs": [],
   "source": [
    "# === Voting Classifier Set-up ===\n",
    "\n",
    "voting_estimators =[\n",
    "    ('lr', LogisticRegression(max_iter=1000)),\n",
    "    ('rf', RandomForestClassifier(n_estimators=100, random_state=42)),\n",
    "    ('svm', SVC(kernel='rbf', probability=True, class_weight='balanced', random_state=42)),\n",
    "]\n",
    "voting_clf = VotingClassifier(estimators=voting_estimators, voting='soft')\n",
    "\n",
    "    "
   ]
  },
  {
   "cell_type": "code",
   "execution_count": 146,
   "id": "e57656fc-88b2-410e-8bf7-c9548acdf61f",
   "metadata": {},
   "outputs": [],
   "source": [
    "# === VC general models ===\n",
    "summary, folds = repeated_evaluation(voting_clf, X_all, y_all, 'Gen-VOTE-All', splits=splits_all)\n",
    "svm_vote_results.append(summary)\n",
    "svm_vote_fold_results['Gen-VOTE-All'] = folds\n",
    "summary, folds = repeated_evaluation(voting_clf, X_all, y_all, 'Gen-VOTE-M', sex=sex_all, sex_filter='M', splits=splits_all)\n",
    "svm_vote_results.append(summary)\n",
    "svm_vote_fold_results['Gen-VOTE-M'] = folds\n",
    "summary, folds = repeated_evaluation(voting_clf, X_all, y_all, 'Gen-VOTE-F', sex=sex_all, sex_filter='F', splits=splits_all)\n",
    "svm_vote_results.append(summary)\n",
    "svm_vote_fold_results['Gen-VOTE-F'] = folds\n",
    "                                         \n",
    "# === VC sex-specific models\n",
    "summary, folds = repeated_evaluation(voting_clf, X_all, y_all, 'Male-VOTE-M',  splits=splits_m)\n",
    "svm_vote_results.append(summary)\n",
    "svm_vote_fold_results['Male-VOTE-M'] = folds\n",
    "summary, folds = repeated_evaluation(voting_clf, X_all, y_all, 'Female-VOTE-F', splits=splits_f)\n",
    "svm_vote_results.append(summary)\n",
    "svm_vote_fold_results['Female-VOTE-F'] = folds\n"
   ]
  },
  {
   "cell_type": "code",
   "execution_count": 147,
   "id": "db6d4d0a-fb6c-42cf-a40a-12187d2f3e84",
   "metadata": {},
   "outputs": [
    {
     "name": "stdout",
     "output_type": "stream",
     "text": [
      "           Model  Accuracy_mean  Accuracy_std   F1_mean    F1_std  \\\n",
      "0    Gen-SVM-All       0.943727      0.025161  0.938950  0.027891   \n",
      "1      Gen-SVM-M       0.954979      0.032180  0.960785  0.031423   \n",
      "2      Gen-SVM-F       0.935660      0.040588  0.911520  0.053866   \n",
      "3     Male-SVM-M       0.936610      0.047538  0.941443  0.058436   \n",
      "4   Female-SVM-F       0.932660      0.043660  0.908069  0.054528   \n",
      "5   Gen-VOTE-All       0.945560      0.023964  0.941190  0.025386   \n",
      "6     Gen-VOTE-M       0.956996      0.032552  0.962370  0.031878   \n",
      "7     Gen-VOTE-F       0.937487      0.037615  0.913624  0.049872   \n",
      "8    Male-VOTE-M       0.934439      0.052968  0.939056  0.063275   \n",
      "9  Female-VOTE-F       0.934538      0.040095  0.910539  0.052267   \n",
      "\n",
      "   Precision_mean  Precision_std  Recall_mean  Recall_std  AUC_mean   AUC_std  \\\n",
      "0        0.982883       0.026414     0.899747    0.041275  0.941727  0.027419   \n",
      "1        0.975833       0.043974     0.948992    0.049606  0.956867  0.044621   \n",
      "2        0.991222       0.029141     0.847782    0.087379  0.928008  0.047747   \n",
      "3        0.956211       0.095494     0.936652    0.059292  0.973792  0.029430   \n",
      "4        0.986506       0.036875     0.845782    0.088465  0.923636  0.048742   \n",
      "5        0.985804       0.021438     0.901402    0.040648  0.956102  0.022824   \n",
      "6        0.975864       0.043963     0.952014    0.049814  0.971428  0.025458   \n",
      "7        0.997000       0.021213     0.847782    0.087379  0.940270  0.042872   \n",
      "8        0.948960       0.101754     0.938586    0.057122  0.978865  0.020409   \n",
      "9        0.977284       0.046740     0.857113    0.084212  0.934858  0.043534   \n",
      "\n",
      "   Accuracy_ci_lower  F1_ci_lower  Precision_ci_lower  Recall_ci_lower  \\\n",
      "0           0.950702     0.946681            0.990204         0.911188   \n",
      "1           0.963899     0.969495            0.988022         0.962742   \n",
      "2           0.946910     0.926451            0.999300         0.872002   \n",
      "3           0.949787     0.957641            0.982680         0.953087   \n",
      "4           0.944762     0.923183            0.996727         0.870303   \n",
      "5           0.952202     0.948227            0.991746         0.912670   \n",
      "6           0.966018     0.971206            0.988050         0.965822   \n",
      "7           0.947913     0.927448            1.002880         0.872002   \n",
      "8           0.949121     0.956595            0.977165         0.954420   \n",
      "9           0.945652     0.925026            0.990240         0.880455   \n",
      "\n",
      "   AUC_ci_lower  \n",
      "0      0.949327  \n",
      "1      0.969236  \n",
      "2      0.941242  \n",
      "3      0.981950  \n",
      "4      0.937147  \n",
      "5      0.962429  \n",
      "6      0.978485  \n",
      "7      0.952154  \n",
      "8      0.984522  \n",
      "9      0.946925  \n"
     ]
    }
   ],
   "source": [
    "# === SVM and VC results ===\n",
    "\n",
    "svm_vote_results_table = pd.DataFrame(svm_vote_results, columns=columns)\n",
    "n_splits, n_repeats = 5, 10\n",
    "N = n_splits * n_repeats\n",
    "for metric in metrics:\n",
    "    se = svm_vote_results_table[f'{metric}_std'] / np.sqrt(N)\n",
    "    svm_vote_results_table[f'{metric}_ci_lower'] = svm_vote_results_table[f'{metric}_mean'] - 1.96 * se\n",
    "    svm_vote_results_table[f'{metric}_ci_lower'] = svm_vote_results_table[f'{metric}_mean'] + 1.96 * se\n",
    "print(svm_vote_results_table)"
   ]
  },
  {
   "cell_type": "markdown",
   "id": "e9e8ff16-5a53-43d6-9605-d588b14ee166",
   "metadata": {},
   "source": [
    "## Visually Assessing Model Accuracies - Initial Look"
   ]
  },
  {
   "cell_type": "code",
   "execution_count": 166,
   "id": "0f990131-4403-4a08-ade9-bc995f19e295",
   "metadata": {},
   "outputs": [
    {
     "data": {
      "image/png": "[encoded data removed]",
      "text/plain": [
       "<Figure size 1200x600 with 1 Axes>"
      ]
     },
     "metadata": {},
     "output_type": "display_data"
    }
   ],
   "source": [
    "all_results_table = pd.concat([results_table, xgb_results_table, svm_vote_results_table], ignore_index=True)\n",
    "all_results_table['Subset'] = all_results_table['Model'].str.split('-').str[-1]\n",
    "palette = {'F': 'tab:orange', 'M': 'tab:blue', 'All': 'tab:green'}\n",
    "plt.figure(figsize=(12,6))\n",
    "plt.plot(all_results_table['Model'], all_results_table['Accuracy_mean'], color='gray')\n",
    "sns.scatterplot(data=all_results_table, x='Model', y='Accuracy_mean', hue='Subset', palette=palette, s=100)\n",
    "plt.xticks(rotation=90, ha='right')\n",
    "plt.ylabel('Accuracy Score')\n",
    "plt.title('Model Accuracy Comparison')\n",
    "plt.grid(True)\n",
    "plt.tight_layout()\n",
    "plt.legend(title='Subset')\n",
    "plt.show()"
   ]
  },
  {
   "cell_type": "markdown",
   "id": "1cf6e22c-77e0-4d34-81cf-10843d7b48f7",
   "metadata": {},
   "source": [
    "## t-tests"
   ]
  },
  {
   "cell_type": "code",
   "execution_count": 102,
   "id": "1d250877-3e41-4d39-91e3-05ac7dd8de1c",
   "metadata": {},
   "outputs": [],
   "source": [
    "from statistics import mean, stdev, NormalDist, StatisticsError\n",
    "from math import sqrt\n",
    "\n",
    "from statistics import mean, stdev, NormalDist, StatisticsError\n",
    "from math import sqrt\n"
   ]
  },
  {
   "cell_type": "code",
   "execution_count": 168,
   "id": "07ff6e9c-f777-4218-a957-2e5292eb9d8a",
   "metadata": {},
   "outputs": [
    {
     "name": "stdout",
     "output_type": "stream",
     "text": [
      "      repeat  fold  accuracy        f1  precision    recall   roc_auc  \\\n",
      "0          0     0  0.945946  0.925926   0.961538  0.892857  0.956522   \n",
      "1          0     1  0.985507  0.984615   1.000000  0.969697  0.991582   \n",
      "2          0     2  0.974026  0.967742   1.000000  0.937500  0.992361   \n",
      "3          0     3  0.907895  0.917647   0.975000  0.866667  0.941935   \n",
      "4          0     4  0.922078  0.928571   1.000000  0.866667  0.948611   \n",
      "...      ...   ...       ...       ...        ...       ...       ...   \n",
      "1245       9     0  0.938776  0.918919   1.000000  0.850000  0.886207   \n",
      "1246       9     1  0.948718  0.923077   1.000000  0.857143  0.945714   \n",
      "1247       9     2  0.960784  0.928571   1.000000  0.866667  0.968519   \n",
      "1248       9     3  0.903846  0.883721   0.950000  0.826087  0.892054   \n",
      "1249       9     4  0.954545  0.956522   1.000000  0.916667  0.916667   \n",
      "\n",
      "              model selection algorithm  sex  \n",
      "0        Gen-LR-All       Gen        LR  All  \n",
      "1        Gen-LR-All       Gen        LR  All  \n",
      "2        Gen-LR-All       Gen        LR  All  \n",
      "3        Gen-LR-All       Gen        LR  All  \n",
      "4        Gen-LR-All       Gen        LR  All  \n",
      "...             ...       ...       ...  ...  \n",
      "1245  Female-VOTE-F    Female      VOTE    F  \n",
      "1246  Female-VOTE-F    Female      VOTE    F  \n",
      "1247  Female-VOTE-F    Female      VOTE    F  \n",
      "1248  Female-VOTE-F    Female      VOTE    F  \n",
      "1249  Female-VOTE-F    Female      VOTE    F  \n",
      "\n",
      "[1250 rows x 11 columns]\n"
     ]
    }
   ],
   "source": [
    "# Use paired t-tests to compare model performance on per-fold metrics\n",
    "import pandas as pd\n",
    "from itertools import combinations\n",
    "metric = \"accuracy\"\n",
    "all_fold_tables = []\n",
    "for results in (results_folds, xgb_fold_results, svm_vote_fold_results):\n",
    "    for model_name, fold_df in results.items():\n",
    "        df = fold_df.copy()\n",
    "        df[\"model\"] = model_name\n",
    "        all_fold_tables.append(df)\n",
    "\n",
    "fold_metrics = pd.concat(all_fold_tables, ignore_index=True)\n",
    "parts = fold_metrics[\"model\"].str.split(\"-\", expand=True)\n",
    "fold_metrics[\"selection\"] = parts[0]\n",
    "fold_metrics[\"algorithm\"] = parts[1]\n",
    "fold_metrics[\"sex\"] = parts[2]\n",
    "\n",
    "\n",
    "#p_value = ttest_rel(baseline_fold_metrics, sex_specific_fold_metrics).pvalue\n",
    "\n",
    "\n",
    "print(fold_metrics)\n"
   ]
  },
  {
   "cell_type": "code",
   "execution_count": 106,
   "id": "c1b2643d-08b8-4c15-9259-b13b2d52131a",
   "metadata": {},
   "outputs": [
    {
     "name": "stdout",
     "output_type": "stream",
     "text": [
      "LR-M: p-value=0.0238\n",
      "LR-F: p-value=0.3059\n",
      "RF-M: p-value=0.0038\n",
      "RF-F: p-value=0.1793\n",
      "XGB-M: p-value=0.8699\n",
      "XGB-F: p-value=0.3169\n",
      "SVM-M: p-value=0.0475\n",
      "SVM-F: p-value=0.2602\n",
      "VOTE-M: p-value=0.0413\n",
      "VOTE-F: p-value=0.3117\n"
     ]
    }
   ],
   "source": [
    "# collect p-values for Holm-Bonferroni correction\n",
    "\n",
    "p_values = []\n",
    "comparisons = []\n",
    "\n",
    "for alg in fold_metrics[\"algorithm\"].unique():\n",
    "    for sex in [\"M\", \"F\"]:\n",
    "        baseline_df = fold_metrics[\n",
    "            (fold_metrics[\"selection\"] == \"Gen\") &\n",
    "            (fold_metrics[\"algorithm\"] == alg) &\n",
    "            (fold_metrics[\"sex\"] == sex)\n",
    "        ][[\"repeat\", \"fold\", metric]]\n",
    "        specific_group = \"Male\" if sex == \"M\" else \"Female\"\n",
    "        specific_df = fold_metrics[\n",
    "            (fold_metrics[\"selection\"] == specific_group) &\n",
    "            (fold_metrics[\"algorithm\"] == alg) &\n",
    "            (fold_metrics[\"sex\"] == sex)\n",
    "        ][[\"repeat\", \"fold\", metric]]\n",
    "        merged = baseline_df.merge(specific_df, on=[\"repeat\", \"fold\"], suffixes=(\"_base\", \"_spec\"))\n",
    "        if not merged.empty:\n",
    "            p_value = ttest_rel(merged[f\"{metric}_base\"], merged[f\"{metric}_spec\"]).pvalue\n",
    "            print(f\"{alg}-{sex}: p-value={p_value:.4f}\")\n",
    "\n"
   ]
  },
  {
   "cell_type": "code",
   "execution_count": null,
   "id": "9e343ef5-b9d6-4771-9db6-dd274908a8cc",
   "metadata": {},
   "outputs": [],
   "source": [
    "#### TODO\n",
    "#from scipy.stats import ttest_rel\n",
    "#import pandas as pd\n",
    "\n",
    "# Extract AUC scores for each model from the earlier results\n",
    "# Define model pairs to compare\n",
    "# Perform t-tests\n",
    "# Bonferroni correction\n",
    "\n",
    "# Evaluate all models with cross validation??"
   ]
  }
 ],
 "metadata": {
  "kernelspec": {
   "display_name": "Python (pymc_env)",
   "language": "python",
   "name": "pymc_env"
  },
  "language_info": {
   "codemirror_mode": {
    "name": "ipython",
    "version": 3
   },
   "file_extension": ".py",
   "mimetype": "text/x-python",
   "name": "python",
   "nbconvert_exporter": "python",
   "pygments_lexer": "ipython3",
   "version": "3.10.16"
  }
 },
 "nbformat": 4,
 "nbformat_minor": 5
}
