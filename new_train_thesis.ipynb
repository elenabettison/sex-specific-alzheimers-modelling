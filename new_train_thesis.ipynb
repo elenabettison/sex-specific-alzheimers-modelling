{
 "cells": [
  {
   "cell_type": "markdown",
   "id": "c071deca-c05e-42db-816d-310c2f9c3737",
   "metadata": {},
   "source": [
    "# Sex-Specific Alzheimer's Disease Modelling Experimentations"
   ]
  },
  {
   "cell_type": "markdown",
   "id": "95f7b7cc-ff22-48c4-8066-206ac908783a",
   "metadata": {},
   "source": [
    "## Data Set-up"
   ]
  },
  {
   "cell_type": "code",
   "execution_count": 4,
   "id": "7f7cdf5b-5163-4cc6-9788-c58bce00e581",
   "metadata": {},
   "outputs": [],
   "source": [
    "# === Load and clean data ===\n",
    "import pandas as pd\n",
    "import numpy as np\n",
    "from sklearn.svm import SVC\n",
    "from sklearn.model_selection import train_test_split\n",
    "from sklearn.linear_model import LogisticRegression\n",
    "from sklearn.preprocessing import StandardScaler\n",
    "from sklearn.ensemble import RandomForestClassifier, VotingClassifier\n",
    "from sklearn.model_selection import RepeatedStratifiedKFold\n",
    "from sklearn.model_selection import StratifiedGroupKFold\n",
    "from sklearn.metrics import accuracy_score, f1_score, precision_score, recall_score, roc_auc_score, balanced_accuracy_score\n",
    "from sklearn.pipeline import Pipeline\n",
    "from xgboost import XGBClassifier\n",
    "import matplotlib.pyplot as plt\n",
    "import seaborn as sns\n",
    "from scipy.stats import ttest_rel\n",
    "from scipy import stats\n",
    "import random\n",
    "\n",
    "from statistics import mean, stdev, NormalDist, StatisticsError\n",
    "from math import sqrt\n"
   ]
  },
  {
   "cell_type": "code",
   "execution_count": 5,
   "id": "ee5dcc13-d1ba-4046-9b2c-b7241ecc32a7",
   "metadata": {},
   "outputs": [],
   "source": [
    "# Set random seed\n",
    "RANDOM_SEED = 42\n",
    "np.random.seed(RANDOM_SEED)\n",
    "random.seed(RANDOM_SEED)"
   ]
  },
  {
   "cell_type": "code",
   "execution_count": 6,
   "id": "5dea7543-8ca4-42d3-8549-1dbe5410404d",
   "metadata": {},
   "outputs": [],
   "source": [
    "# Load OASIS dataset\n",
    "df = pd.read_csv(\"oasis_longitudinal.csv\")"
   ]
  },
  {
   "cell_type": "markdown",
   "id": "cfa17443-1f98-4b36-9a10-b1ba6a50e549",
   "metadata": {},
   "source": [
    "## Initial Data Exploration and Cleaning"
   ]
  },
  {
   "cell_type": "code",
   "execution_count": 8,
   "id": "a37e2751-85f2-4788-9f5e-53f24c94daec",
   "metadata": {},
   "outputs": [
    {
     "name": "stdout",
     "output_type": "stream",
     "text": [
      "<class 'pandas.core.frame.DataFrame'>\n",
      "RangeIndex: 373 entries, 0 to 372\n",
      "Data columns (total 15 columns):\n",
      " #   Column      Non-Null Count  Dtype  \n",
      "---  ------      --------------  -----  \n",
      " 0   Subject ID  373 non-null    object \n",
      " 1   MRI ID      373 non-null    object \n",
      " 2   Group       373 non-null    object \n",
      " 3   Visit       373 non-null    int64  \n",
      " 4   MR Delay    373 non-null    int64  \n",
      " 5   M/F         373 non-null    object \n",
      " 6   Hand        373 non-null    object \n",
      " 7   Age         373 non-null    int64  \n",
      " 8   EDUC        373 non-null    int64  \n",
      " 9   SES         354 non-null    float64\n",
      " 10  MMSE        371 non-null    float64\n",
      " 11  CDR         373 non-null    float64\n",
      " 12  eTIV        373 non-null    int64  \n",
      " 13  nWBV        373 non-null    float64\n",
      " 14  ASF         373 non-null    float64\n",
      "dtypes: float64(5), int64(5), object(5)\n",
      "memory usage: 43.8+ KB\n"
     ]
    }
   ],
   "source": [
    "# Display simple attributes\n",
    "df.head()\n",
    "df.shape\n",
    "df.info()\n"
   ]
  },
  {
   "cell_type": "code",
   "execution_count": 9,
   "id": "59ae937f-7f5c-4276-a4dc-9083e7d1b694",
   "metadata": {},
   "outputs": [
    {
     "data": {
      "text/plain": [
       "Subject ID     0\n",
       "MRI ID         0\n",
       "Group          0\n",
       "Visit          0\n",
       "MR Delay       0\n",
       "M/F            0\n",
       "Hand           0\n",
       "Age            0\n",
       "EDUC           0\n",
       "SES           19\n",
       "MMSE           2\n",
       "CDR            0\n",
       "eTIV           0\n",
       "nWBV           0\n",
       "ASF            0\n",
       "dtype: int64"
      ]
     },
     "execution_count": 9,
     "metadata": {},
     "output_type": "execute_result"
    }
   ],
   "source": [
    "# Check for missing values\n",
    "df.isnull().sum()"
   ]
  },
  {
   "cell_type": "code",
   "execution_count": 10,
   "id": "296761bc-1494-4f82-9872-8f7160962360",
   "metadata": {},
   "outputs": [
    {
     "data": {
      "text/plain": [
       "0"
      ]
     },
     "execution_count": 10,
     "metadata": {},
     "output_type": "execute_result"
    }
   ],
   "source": [
    "# Check for duplicates\n",
    "df.duplicated().sum()"
   ]
  },
  {
   "cell_type": "code",
   "execution_count": 11,
   "id": "f5b689c9-5f03-4d70-9ec2-b09c179561ae",
   "metadata": {},
   "outputs": [],
   "source": [
    "# Fill missing SES and MMSE values\n",
    "df['SES'] = df['SES'].fillna(df['SES'].median())\n",
    "df['MMSE'] = df['MMSE'].fillna(df['MMSE'].mean())"
   ]
  },
  {
   "cell_type": "code",
   "execution_count": 12,
   "id": "d5713ea5-ba81-49c6-88b2-295ccad1928a",
   "metadata": {},
   "outputs": [],
   "source": [
    "# Convert labels to binary classification: demented = 1, nondemented = 0\n",
    "df['Group'] = df['Group'].replace(\"Converted\", \"Demented\")\n",
    "df['Group'] = df['Group'].map({\"Demented\": 1, \"Nondemented\": 0})"
   ]
  },
  {
   "cell_type": "code",
   "execution_count": 13,
   "id": "5ea231f3-353b-44b8-b7c7-a26592fb9889",
   "metadata": {},
   "outputs": [],
   "source": [
    "# Define features and dropping missing values\n",
    "my_features = ['Age', 'EDUC', 'SES', 'MMSE', 'CDR', 'eTIV', 'nWBV', 'ASF']\n",
    "df_clean = df.dropna(subset=my_features + ['Group', 'M/F'])"
   ]
  },
  {
   "cell_type": "code",
   "execution_count": 14,
   "id": "accf85a4-ac5e-49f2-aa2e-f13c5e270768",
   "metadata": {},
   "outputs": [
    {
     "data": {
      "text/html": [
       "<div>\n",
       "<style scoped>\n",
       "    .dataframe tbody tr th:only-of-type {\n",
       "        vertical-align: middle;\n",
       "    }\n",
       "\n",
       "    .dataframe tbody tr th {\n",
       "        vertical-align: top;\n",
       "    }\n",
       "\n",
       "    .dataframe thead th {\n",
       "        text-align: right;\n",
       "    }\n",
       "</style>\n",
       "<table border=\"1\" class=\"dataframe\">\n",
       "  <thead>\n",
       "    <tr style=\"text-align: right;\">\n",
       "      <th>Group</th>\n",
       "      <th>0</th>\n",
       "      <th>1</th>\n",
       "    </tr>\n",
       "    <tr>\n",
       "      <th>M/F</th>\n",
       "      <th></th>\n",
       "      <th></th>\n",
       "    </tr>\n",
       "  </thead>\n",
       "  <tbody>\n",
       "    <tr>\n",
       "      <th>F</th>\n",
       "      <td>129</td>\n",
       "      <td>84</td>\n",
       "    </tr>\n",
       "    <tr>\n",
       "      <th>M</th>\n",
       "      <td>61</td>\n",
       "      <td>99</td>\n",
       "    </tr>\n",
       "  </tbody>\n",
       "</table>\n",
       "</div>"
      ],
      "text/plain": [
       "Group    0   1\n",
       "M/F           \n",
       "F      129  84\n",
       "M       61  99"
      ]
     },
     "execution_count": 14,
     "metadata": {},
     "output_type": "execute_result"
    }
   ],
   "source": [
    "pd.crosstab(df['M/F'], df['Group'])"
   ]
  },
  {
   "cell_type": "code",
   "execution_count": 15,
   "id": "e2cc2a88-0cfc-4d1a-893a-e93afed861e9",
   "metadata": {},
   "outputs": [
    {
     "data": {
      "image/png": "[encoded data removed]",
      "text/plain": [
       "<Figure size 640x480 with 1 Axes>"
      ]
     },
     "metadata": {},
     "output_type": "display_data"
    }
   ],
   "source": [
    "# Visualise sex distribution of data\n",
    "\n",
    "counts = df_clean['M/F'].value_counts()\n",
    "colours = ['tab:blue' if sex == 'M' else 'tab:orange' for sex in counts.index]\n",
    "ax = counts.plot(kind='bar', color=colours)\n",
    "for i, val in enumerate(counts):\n",
    "    ax.text(i, val + 0.5, str(val), ha='center', va='bottom', fontsize=12)\n",
    "ax.set_ylabel('Number of Visits', fontsize=12)\n",
    "ax.set_xlabel('Sex', fontsize=12)\n",
    "ax.set_title('Dataset Sex Distribution', fontsize=14)\n",
    "plt.tight_layout()\n",
    "plt.show()\n"
   ]
  },
  {
   "cell_type": "code",
   "execution_count": null,
   "id": "c6c8bbed-3f45-4589-90d4-f7640393eb8e",
   "metadata": {},
   "outputs": [],
   "source": []
  },
  {
   "cell_type": "code",
   "execution_count": null,
   "id": "ec7d5520-400e-40e1-a2af-ab62326bc844",
   "metadata": {},
   "outputs": [],
   "source": []
  },
  {
   "cell_type": "markdown",
   "id": "8222a268-b78c-4ff4-b27d-e2856ca1da79",
   "metadata": {},
   "source": [
    "## Repeated Train/Test Evaluation Function"
   ]
  },
  {
   "cell_type": "code",
   "execution_count": null,
   "id": "afc928a0-83ce-47ec-9b8e-e43f1a9332d7",
   "metadata": {},
   "outputs": [],
   "source": [
    "\n"
   ]
  },
  {
   "cell_type": "code",
   "execution_count": 17,
   "id": "98d15d34-080b-49b3-8209-1c4025fda294",
   "metadata": {},
   "outputs": [],
   "source": [
    "\n",
    "# === REPEATED TRAIN/TEST EVALUATION ===\n",
    "\n",
    "evaluation_outputs = {}\n",
    "\n",
    "def repeated_evaluation(model, X, y, label, sex=None, sex_filter=None, groups=None, n_splits=5, n_repeats=5):\n",
    "    fold_metrics = []\n",
    "    y_true_folds = []\n",
    "    y_proba_folds = []\n",
    "    for repeat in range(n_repeats):\n",
    "        sgkf = StratifiedGroupKFold(n_splits=n_splits, shuffle=True, random_state=RANDOM_SEED + repeat)\n",
    "        for fold, (train_idx, test_idx) in enumerate(sgkf.split(X, y, groups)):\n",
    "            X_train, X_test = X.iloc[train_idx], X.iloc[test_idx]\n",
    "            y_train, y_test = y.iloc[train_idx], y.iloc[test_idx]\n",
    "            scaler = StandardScaler() \n",
    "            X_train_scaled = scaler.fit_transform(X_train) \n",
    "            X_test_scaled = scaler.transform(X_test)\n",
    "            model.fit(X_train_scaled, y_train)\n",
    "            y_pred = model.predict(X_test_scaled)\n",
    "            y_proba = model.predict_proba(X_test_scaled)[:, 1]\n",
    "            if sex is not None and sex_filter is not None:\n",
    "                test_sex = sex.iloc[test_idx]\n",
    "                mask = test_sex == sex_filter\n",
    "                if not mask.any():\n",
    "                    continue\n",
    "                y_test = y_test[mask]\n",
    "                y_pred = y_pred[mask]\n",
    "                y_proba = y_proba[mask]\n",
    "            y_true_folds.append(y_test.values)\n",
    "            y_proba_folds.append(y_proba)\n",
    "            fold_metrics.append({\n",
    "                'repeat': repeat,\n",
    "                'fold': fold,\n",
    "                'accuracy': accuracy_score(y_test, y_pred),\n",
    "                'balanced_accuracy': balanced_accuracy_score(y_test, y_pred),\n",
    "                'f1': f1_score(y_test, y_pred),\n",
    "                'precision': precision_score(y_test, y_pred),\n",
    "                'recall': recall_score(y_test, y_pred),\n",
    "                'roc_auc': roc_auc_score(y_test, y_proba),\n",
    "                'y_true': y_test.values,\n",
    "                'y_proba': y_proba\n",
    "            })\n",
    "\n",
    "    metrics_df = pd.DataFrame(fold_metrics)\n",
    "    metrics_df.attrs['y_true_all'] = np.concatenate(y_true_folds)\n",
    "    metrics_df.attrs['y_proba_all'] = np.concatenate(y_proba_folds)\n",
    "    evaluation_outputs[label] = metrics_df\n",
    "    metrics = metrics_df[['accuracy', 'balanced_accuracy','f1', 'precision', 'recall', 'roc_auc']]\n",
    "    means = metrics.mean()\n",
    "    stds = metrics.std()\n",
    "    summary = [\n",
    "        label,\n",
    "        means['accuracy'], stds['accuracy'],\n",
    "        means['balanced_accuracy'], stds['balanced_accuracy'],\n",
    "        means['f1'], stds['f1'],\n",
    "        means['precision'], stds['precision'],\n",
    "        means['recall'], stds['recall'],\n",
    "        means['roc_auc'], stds['roc_auc']\n",
    "    ]\n",
    "   \n",
    "    return summary, metrics_df"
   ]
  },
  {
   "cell_type": "code",
   "execution_count": null,
   "id": "525bae0f-bac6-4921-8a5d-d8c5dd499ed2",
   "metadata": {},
   "outputs": [],
   "source": []
  },
  {
   "cell_type": "code",
   "execution_count": 18,
   "id": "ff68efce-8d76-4afc-b3c5-7239b0ef30c2",
   "metadata": {},
   "outputs": [],
   "source": [
    "\n",
    "X_all = df_clean[my_features]\n",
    "y_all = df_clean['Group']\n",
    "sex_all = df_clean['M/F']\n",
    "groups_all = df_clean['Subject ID']"
   ]
  },
  {
   "cell_type": "markdown",
   "id": "2dd39d1c-e200-4b5a-9644-ca58c6fd173e",
   "metadata": {},
   "source": [
    "## Logistic Regression and Random Forest Classifier Models"
   ]
  },
  {
   "cell_type": "code",
   "execution_count": 20,
   "id": "beeae0a5-a338-484a-92f0-d5a65668ab9c",
   "metadata": {},
   "outputs": [],
   "source": [
    "\n",
    "# === General LR models ===\n",
    "LR_RF_results = []\n",
    "results_folds = {}\n",
    "\n",
    "summary, folds = repeated_evaluation(LogisticRegression(max_iter=1000), X_all, y_all, \"Gen-LR-All\", groups=groups_all)\n",
    "LR_RF_results.append(summary)\n",
    "results_folds[\"Gen-LR-All\"] = folds\n",
    "summary, folds = repeated_evaluation(LogisticRegression(max_iter=1000), X_all, y_all, \"Gen-LR-M\", sex=sex_all, sex_filter='M', groups=groups_all)\n",
    "LR_RF_results.append(summary)\n",
    "results_folds[\"Gen-LR-M\"] = folds\n",
    "summary, folds = repeated_evaluation(LogisticRegression(max_iter=1000), X_all, y_all, \"Gen-LR-F\", sex=sex_all, sex_filter='F', groups=groups_all)\n",
    "LR_RF_results.append(summary)\n",
    "results_folds[\"Gen-LR-F\"] = folds\n"
   ]
  },
  {
   "cell_type": "code",
   "execution_count": 21,
   "id": "6c0b5cdd-8a09-40ee-bb20-aa9e5c30e23b",
   "metadata": {},
   "outputs": [],
   "source": [
    "# === General RF models ===\n",
    "\n",
    "summary, folds = repeated_evaluation(RandomForestClassifier(n_estimators=100, random_state=42), X_all, y_all, \"Gen-RF-All\", groups=groups_all)\n",
    "LR_RF_results.append(summary)\n",
    "results_folds[\"Gen-RF-All\"] = folds\n",
    "summary, folds = repeated_evaluation(RandomForestClassifier(n_estimators=100, random_state=42), X_all, y_all, \"Gen-RF-M\", sex=sex_all, sex_filter='M', groups=groups_all)\n",
    "LR_RF_results.append(summary)\n",
    "results_folds[\"Gen-RF-M\"] = folds\n",
    "summary, fold = repeated_evaluation(RandomForestClassifier(n_estimators=100, random_state=42), X_all, y_all, \"Gen-RF-F\", sex=sex_all, sex_filter='F', groups=groups_all)\n",
    "LR_RF_results.append(summary)\n",
    "results_folds[\"Gen-RF-F\"] = folds"
   ]
  },
  {
   "cell_type": "code",
   "execution_count": 22,
   "id": "5d954c20-d3a9-4d14-8d34-8cfa090414be",
   "metadata": {},
   "outputs": [],
   "source": [
    "\n",
    "# === Sex specific models ===\n",
    "\n",
    "df_male = df_clean[df_clean['M/F'] == 'M']\n",
    "df_female = df_clean[df_clean['M/F'] == 'F']\n",
    "groups_f = df_female['Subject ID']\n",
    "groups_m = df_male['Subject ID']\n",
    "\n",
    "X_m, y_m = df_male[my_features], df_male['Group']\n",
    "X_f, y_f = df_female[my_features], df_female['Group']\n",
    "\n",
    "\n",
    "summary, folds = repeated_evaluation(LogisticRegression(max_iter=1000), X_m, y_m, \"Male-LR-M\", groups=groups_m)\n",
    "LR_RF_results.append(summary)\n",
    "results_folds[\"Male-LR-M\"] = folds\n",
    "summary, folds = repeated_evaluation(LogisticRegression(max_iter=1000), X_f, y_f, \"Female-LR-F\", groups=groups_f)\n",
    "LR_RF_results.append(summary)\n",
    "results_folds[\"Female-LR-F\"] = folds\n",
    "\n",
    "\n",
    "summary, folds = repeated_evaluation(RandomForestClassifier(n_estimators=100, random_state=42), X_m, y_m, \"Male-RF-M\", groups=groups_m)\n",
    "LR_RF_results.append(summary)\n",
    "results_folds[\"Male-RF-M\"] = folds\n",
    "summary, folds = repeated_evaluation(RandomForestClassifier(n_estimators=100, random_state=42), X_f, y_f, \"Female-RF-F\", groups=groups_f)\n",
    "LR_RF_results.append(summary)\n",
    "results_folds[\"Female-RF-F\"] = folds"
   ]
  },
  {
   "cell_type": "code",
   "execution_count": 23,
   "id": "4cb015c7-5b91-4e73-afc5-5d00f3aaa52d",
   "metadata": {},
   "outputs": [
    {
     "name": "stdout",
     "output_type": "stream",
     "text": [
      "         Model  Accuracy_mean  Accuracy_std  BalancedAccuracy_mean  \\\n",
      "0   Gen-LR-All       0.945927      0.021990               0.945203   \n",
      "1     Gen-LR-M       0.956230      0.034544               0.959778   \n",
      "2     Gen-LR-F       0.936758      0.036278               0.920672   \n",
      "3   Gen-RF-All       0.936700      0.032105               0.936656   \n",
      "4     Gen-RF-M       0.942454      0.041098               0.947694   \n",
      "5     Gen-RF-F       0.930820      0.041843               0.916428   \n",
      "6    Male-LR-M       0.940504      0.056473               0.944560   \n",
      "7  Female-LR-F       0.941202      0.046862               0.926524   \n",
      "8    Male-RF-M       0.921182      0.047376               0.920360   \n",
      "9  Female-RF-F       0.925408      0.044427               0.912515   \n",
      "\n",
      "   BalancedAccuracy_std   F1_mean    F1_std  Precision_mean  Precision_std  \\\n",
      "0              0.019437  0.941873  0.021347        0.985003       0.016447   \n",
      "1              0.031670  0.961849  0.031498        0.977290       0.032631   \n",
      "2              0.045183  0.910120  0.055254        0.993895       0.022209   \n",
      "3              0.029355  0.931621  0.035378        0.965845       0.044896   \n",
      "4              0.036894  0.949057  0.036740        0.961591       0.052965   \n",
      "5              0.048432  0.904647  0.056916        0.970998       0.054762   \n",
      "6              0.060603  0.946952  0.057595        0.959769       0.078073   \n",
      "7              0.051491  0.917472  0.060525        1.000000       0.000000   \n",
      "8              0.054590  0.929455  0.064731        0.916352       0.108733   \n",
      "9              0.049970  0.895870  0.060828        0.958780       0.049216   \n",
      "\n",
      "   Recall_mean  ...  BalancedAccuracy_ci_lower  BalancedAccuracy_ci_upper  \\\n",
      "0     0.902982  ...                   0.937583                   0.952822   \n",
      "1     0.949365  ...                   0.947363                   0.972192   \n",
      "2     0.843675  ...                   0.902960                   0.938384   \n",
      "3     0.901622  ...                   0.925149                   0.948163   \n",
      "4     0.941365  ...                   0.933231                   0.962156   \n",
      "5     0.852745  ...                   0.897443                   0.935414   \n",
      "6     0.941103  ...                   0.920804                   0.968316   \n",
      "7     0.853048  ...                   0.906339                   0.946708   \n",
      "8     0.955109  ...                   0.898960                   0.941759   \n",
      "9     0.847866  ...                   0.892927                   0.932104   \n",
      "\n",
      "   F1_ci_lower  F1_ci_upper  Precision_ci_lower  Precision_ci_upper  \\\n",
      "0     0.933505     0.950241            0.978556            0.991450   \n",
      "1     0.949502     0.974196            0.964499            0.990082   \n",
      "2     0.888460     0.931779            0.985189            1.002601   \n",
      "3     0.917753     0.945490            0.948246            0.983444   \n",
      "4     0.934655     0.963460            0.940828            0.982353   \n",
      "5     0.882336     0.926958            0.949532            0.992465   \n",
      "6     0.924375     0.969530            0.929164            0.990373   \n",
      "7     0.893747     0.941198            1.000000            1.000000   \n",
      "8     0.904081     0.954830            0.873729            0.958976   \n",
      "9     0.872025     0.919714            0.939487            0.978072   \n",
      "\n",
      "   Recall_ci_lower  Recall_ci_upper  AUC_ci_lower  AUC_ci_upper  \n",
      "0         0.889541         0.916423      0.955078      0.975323  \n",
      "1         0.927266         0.971464      0.976092      0.993899  \n",
      "2         0.808669         0.878681      0.931554      0.967401  \n",
      "3         0.883542         0.919701      0.946825      0.962971  \n",
      "4         0.916778         0.965952      0.960719      0.984344  \n",
      "5         0.817808         0.887683      0.920111      0.953449  \n",
      "6         0.912640         0.969566      0.978483      0.995930  \n",
      "7         0.812679         0.893417      0.918363      0.955015  \n",
      "8         0.932536         0.977682      0.941302      0.983778  \n",
      "9         0.807127         0.888605      0.910810      0.952454  \n",
      "\n",
      "[10 rows x 25 columns]\n"
     ]
    }
   ],
   "source": [
    "\n",
    "# === Results Table ===\n",
    "columns =['Model', 'Accuracy_mean', 'Accuracy_std', 'BalancedAccuracy_mean', 'BalancedAccuracy_std', 'F1_mean', 'F1_std', 'Precision_mean', 'Precision_std', 'Recall_mean', 'Recall_std', 'AUC_mean', 'AUC_std']\n",
    "results_table = pd.DataFrame(LR_RF_results, columns=columns)\n",
    "n_splits, n_repeats = 5, 5\n",
    "metrics = ['Accuracy', 'BalancedAccuracy', 'F1', 'Precision', 'Recall', 'AUC']\n",
    "N = n_splits * n_repeats\n",
    "for metric in metrics:\n",
    "    se = results_table[f'{metric}_std'] / np.sqrt(N)\n",
    "    results_table[f'{metric}_ci_lower'] = results_table[f'{metric}_mean'] - 1.96 * se\n",
    "    results_table[f'{metric}_ci_upper'] = results_table[f'{metric}_mean'] + 1.96 * se\n",
    "print(results_table)\n"
   ]
  },
  {
   "cell_type": "code",
   "execution_count": null,
   "id": "b25f73ae-bbd7-4f40-b0a8-3a4c3e58af8e",
   "metadata": {},
   "outputs": [],
   "source": []
  },
  {
   "cell_type": "markdown",
   "id": "9d1ea2d3-703a-45d2-bcbc-cf74309ab0f4",
   "metadata": {},
   "source": [
    "## XGBOOST models"
   ]
  },
  {
   "cell_type": "code",
   "execution_count": 25,
   "id": "40d9a554-db5e-4640-a43e-d171a81223ec",
   "metadata": {},
   "outputs": [],
   "source": [
    "xgb_results = []\n",
    "xgb_fold_results = {}\n",
    "xgb_model = XGBClassifier(eval_metric='logloss', random_state=RANDOM_SEED)\n",
    "\n",
    "summary, folds = repeated_evaluation(xgb_model, X_all, y_all, 'Gen-XGB-All', groups=groups_all)\n",
    "xgb_results.append(summary)\n",
    "xgb_fold_results['Gen-XGB-All'] = folds\n",
    "summary, folds = repeated_evaluation(xgb_model, X_all, y_all, 'Gen-XGB-M', sex=sex_all, sex_filter='M', groups=groups_all)\n",
    "xgb_results.append(summary)\n",
    "xgb_fold_results['Gen-XGB-M'] = folds\n",
    "summary, folds = repeated_evaluation(xgb_model, X_all, y_all, 'Gen-XGB-F', sex=sex_all, sex_filter='F', groups=groups_all)\n",
    "xgb_results.append(summary)\n",
    "xgb_fold_results['Gen-XGB-F'] = folds\n",
    "\n",
    "summary, folds = repeated_evaluation(xgb_model, X_m, y_m, 'Male-XGB-M', groups=groups_m)\n",
    "xgb_results.append(summary)                  \n",
    "xgb_fold_results['Male-XGB-M'] = folds\n",
    "summary, folds = repeated_evaluation(xgb_model, X_f, y_f, 'Female-XGB-F', groups=groups_f)\n",
    "xgb_results.append(summary)                  \n",
    "xgb_fold_results['Female-XGB-F'] = folds\n"
   ]
  },
  {
   "cell_type": "code",
   "execution_count": 26,
   "id": "b79068ae-d5ea-4aa6-84f3-7fff9779ebbc",
   "metadata": {},
   "outputs": [
    {
     "name": "stdout",
     "output_type": "stream",
     "text": [
      "          Model  Accuracy_mean  Accuracy_std  BalancedAccuracy_mean  \\\n",
      "0   Gen-XGB-All       0.924207      0.032219               0.923985   \n",
      "1     Gen-XGB-M       0.932946      0.040311               0.932501   \n",
      "2     Gen-XGB-F       0.916102      0.051078               0.905260   \n",
      "3    Male-XGB-M       0.934569      0.041945               0.931787   \n",
      "4  Female-XGB-F       0.897126      0.048042               0.887686   \n",
      "\n",
      "   BalancedAccuracy_std   F1_mean    F1_std  Precision_mean  Precision_std  \\\n",
      "0              0.031405  0.918348  0.038928        0.931866       0.060328   \n",
      "1              0.039599  0.940016  0.043949        0.936216       0.072513   \n",
      "2              0.058145  0.883848  0.079170        0.921859       0.094487   \n",
      "3              0.052695  0.944242  0.038053        0.936750       0.064299   \n",
      "4              0.049068  0.861063  0.061203        0.889981       0.090041   \n",
      "\n",
      "   Recall_mean  ...  BalancedAccuracy_ci_lower  BalancedAccuracy_ci_upper  \\\n",
      "0     0.907490  ...                   0.911675                   0.936296   \n",
      "1     0.949365  ...                   0.916979                   0.948024   \n",
      "2     0.855436  ...                   0.882467                   0.928053   \n",
      "3     0.957144  ...                   0.911130                   0.952443   \n",
      "4     0.846366  ...                   0.868451                   0.906920   \n",
      "\n",
      "   F1_ci_lower  F1_ci_upper  Precision_ci_lower  Precision_ci_upper  \\\n",
      "0     0.903088     0.933607            0.908218            0.955515   \n",
      "1     0.922788     0.957244            0.907790            0.964641   \n",
      "2     0.852813     0.914883            0.884821            0.958898   \n",
      "3     0.929325     0.959159            0.911545            0.961955   \n",
      "4     0.837071     0.885054            0.854685            0.925277   \n",
      "\n",
      "   Recall_ci_lower  Recall_ci_upper  AUC_ci_lower  AUC_ci_upper  \n",
      "0         0.892217         0.922763      0.941587      0.957481  \n",
      "1         0.927266         0.971464      0.962941      0.984455  \n",
      "2         0.819049         0.891823      0.903971      0.943540  \n",
      "3         0.934959         0.979329      0.956143      0.983072  \n",
      "4         0.806676         0.886055      0.889352      0.941900  \n",
      "\n",
      "[5 rows x 25 columns]\n"
     ]
    }
   ],
   "source": [
    "xgb_results_table = pd.DataFrame(xgb_results, columns=columns)\n",
    "n_splits, n_repeats = 5, 5\n",
    "N = n_splits * n_repeats\n",
    "for metric in metrics:\n",
    "    se = xgb_results_table[f'{metric}_std'] / np.sqrt(N)\n",
    "    xgb_results_table[f'{metric}_ci_lower'] = xgb_results_table[f'{metric}_mean'] - 1.96 * se\n",
    "    xgb_results_table[f'{metric}_ci_upper'] = xgb_results_table[f'{metric}_mean'] + 1.96 * se\n",
    "print(xgb_results_table)"
   ]
  },
  {
   "cell_type": "markdown",
   "id": "a5e96ef7-9266-4dab-a887-14096db08033",
   "metadata": {},
   "source": [
    "## Support Vector Machine and Voting Classifier Models "
   ]
  },
  {
   "cell_type": "code",
   "execution_count": 28,
   "id": "ebc0afe2-139f-4cbd-aa88-36435e124a2b",
   "metadata": {},
   "outputs": [],
   "source": [
    "svm_model = SVC(kernel='rbf', probability=True, class_weight='balanced', random_state=RANDOM_SEED)\n",
    "\n",
    "svm_vote_results = []\n",
    "svm_vote_fold_results = {}\n",
    "\n",
    "# === SVM general models ===\n",
    "summary, folds = repeated_evaluation(svm_model, X_all, y_all, 'Gen-SVM-All', groups=groups_all)\n",
    "svm_vote_results.append(summary)\n",
    "svm_vote_fold_results['Gen-SVM-All'] = folds\n",
    "summary, folds = repeated_evaluation(svm_model, X_all, y_all, 'Gen-SVM-M', sex=sex_all, sex_filter='M', groups=groups_all)\n",
    "svm_vote_results.append(summary)\n",
    "svm_vote_fold_results['Gen-SVM-M'] = folds\n",
    "summary, folds = repeated_evaluation(svm_model, X_all, y_all, 'Gen-SVM-F', sex=sex_all, sex_filter='F', groups=groups_all)\n",
    "svm_vote_results.append(summary)\n",
    "svm_vote_fold_results['Gen-SVM-F'] = folds\n",
    "\n",
    "# === SVM sex-specific models ===\n",
    "summary, folds = repeated_evaluation(svm_model, X_m, y_m, 'Male-SVM-M', groups=groups_m)\n",
    "svm_vote_results.append(summary)\n",
    "svm_vote_fold_results['Male-SVM-M'] = folds\n",
    "\n",
    "summary, folds = repeated_evaluation(svm_model, X_f, y_f, 'Female-SVM-F', groups=groups_f)\n",
    "svm_vote_results.append(summary)\n",
    "svm_vote_fold_results['Female-SVM-F'] = folds"
   ]
  },
  {
   "cell_type": "code",
   "execution_count": 29,
   "id": "9b7a16b2-ba34-4965-98b0-0e3ab686ee29",
   "metadata": {},
   "outputs": [],
   "source": [
    "# === Voting Classifier Set-up ===\n",
    "\n",
    "voting_estimators =[\n",
    "    ('lr', LogisticRegression(max_iter=1000)),\n",
    "    ('rf', RandomForestClassifier(n_estimators=100, random_state=RANDOM_SEED)),\n",
    "    ('svm', SVC(kernel='rbf', probability=True, class_weight='balanced', random_state=RANDOM_SEED)),\n",
    "]\n",
    "voting_clf = VotingClassifier(estimators=voting_estimators, voting='soft')\n",
    "\n",
    "    "
   ]
  },
  {
   "cell_type": "code",
   "execution_count": 30,
   "id": "e57656fc-88b2-410e-8bf7-c9548acdf61f",
   "metadata": {},
   "outputs": [],
   "source": [
    "# === VC general models ===\n",
    "\n",
    "summary, folds = repeated_evaluation(voting_clf, X_all, y_all, 'Gen-VC-All', groups=groups_all)\n",
    "svm_vote_results.append(summary)\n",
    "svm_vote_fold_results['Gen-VC-All'] = folds\n",
    "summary, folds = repeated_evaluation(voting_clf, X_all, y_all, 'Gen-VC-M', sex=sex_all, sex_filter='M', groups=groups_all)\n",
    "svm_vote_results.append(summary)\n",
    "svm_vote_fold_results['Gen-VC-M'] = folds\n",
    "summary, folds = repeated_evaluation(voting_clf, X_all, y_all, 'Gen-VC-F', sex=sex_all, sex_filter='F', groups=groups_all)\n",
    "svm_vote_results.append(summary)\n",
    "svm_vote_fold_results['Gen-VC-F'] = folds\n",
    "                                         \n",
    "# === VC sex-specific models\n",
    "summary, folds = repeated_evaluation(voting_clf, X_m, y_m, 'Male-VC-M',  groups=groups_m)\n",
    "svm_vote_results.append(summary)\n",
    "svm_vote_fold_results['Male-VC-M'] = folds\n",
    "summary, folds = repeated_evaluation(voting_clf, X_f, y_f, 'Female-VC-F', groups=groups_f)\n",
    "svm_vote_results.append(summary)\n",
    "svm_vote_fold_results['Female-VC-F'] = folds\n"
   ]
  },
  {
   "cell_type": "code",
   "execution_count": 31,
   "id": "db6d4d0a-fb6c-42cf-a40a-12187d2f3e84",
   "metadata": {},
   "outputs": [
    {
     "name": "stdout",
     "output_type": "stream",
     "text": [
      "          Model  Accuracy_mean  Accuracy_std  BalancedAccuracy_mean  \\\n",
      "0   Gen-SVM-All       0.943812      0.023695               0.943356   \n",
      "1     Gen-SVM-M       0.955054      0.034536               0.958978   \n",
      "2     Gen-SVM-F       0.933638      0.040322               0.917485   \n",
      "3    Male-SVM-M       0.950382      0.045149               0.953238   \n",
      "4  Female-SVM-F       0.936436      0.046164               0.920418   \n",
      "5    Gen-VC-All       0.946460      0.022453               0.945650   \n",
      "6      Gen-VC-M       0.956230      0.034544               0.959778   \n",
      "7      Gen-VC-F       0.937446      0.035808               0.920785   \n",
      "8     Male-VC-M       0.949130      0.045062               0.951225   \n",
      "9   Female-VC-F       0.936505      0.045083               0.922259   \n",
      "\n",
      "   BalancedAccuracy_std   F1_mean    F1_std  Precision_mean  Precision_std  \\\n",
      "0              0.021427  0.939531  0.024260        0.982592       0.024459   \n",
      "1              0.032319  0.961033  0.031261        0.977229       0.032664   \n",
      "2              0.047511  0.907225  0.058327        0.989556       0.036582   \n",
      "3              0.050014  0.956745  0.042725        0.970749       0.060256   \n",
      "4              0.050297  0.909547  0.059912        0.993647       0.022777   \n",
      "5              0.019852  0.942504  0.022020        0.987705       0.015650   \n",
      "6              0.031670  0.961849  0.031498        0.977290       0.032631   \n",
      "7              0.044332  0.911506  0.053398        1.000000       0.000000   \n",
      "8              0.051107  0.954725  0.050538        0.960839       0.078728   \n",
      "9              0.050959  0.909549  0.058823        0.987203       0.030264   \n",
      "\n",
      "   Recall_mean  Recall_std  AUC_mean   AUC_std  Accuracy_ci_lower  \\\n",
      "0     0.900845    0.035707  0.942918  0.025436           0.953101   \n",
      "1     0.947765    0.055437  0.956343  0.050652           0.968592   \n",
      "2     0.841570    0.088665  0.925319  0.046138           0.949444   \n",
      "3     0.948267    0.065027  0.978494  0.024250           0.968081   \n",
      "4     0.843866    0.099663  0.915078  0.066802           0.954532   \n",
      "5     0.901871    0.035202  0.956398  0.021813           0.955262   \n",
      "6     0.949365    0.056374  0.971278  0.028068           0.969772   \n",
      "7     0.841570    0.088665  0.936603  0.044732           0.951483   \n",
      "8     0.954791    0.055958  0.978733  0.029597           0.966794   \n",
      "9     0.849971    0.104337  0.928102  0.054369           0.954177   \n",
      "\n",
      "   BalancedAccuracy_ci_lower  F1_ci_lower  Precision_ci_lower  \\\n",
      "0                   0.951756     0.949041            0.992180   \n",
      "1                   0.971647     0.973288            0.990033   \n",
      "2                   0.936109     0.930089            1.003896   \n",
      "3                   0.972843     0.973493            0.994370   \n",
      "4                   0.940134     0.933032            1.002576   \n",
      "5                   0.953431     0.951135            0.993839   \n",
      "6                   0.972192     0.974196            0.990082   \n",
      "7                   0.938163     0.932438            1.000000   \n",
      "8                   0.971259     0.974536            0.991700   \n",
      "9                   0.942235     0.932607            0.999067   \n",
      "\n",
      "   Recall_ci_lower  AUC_ci_lower  \n",
      "0         0.914842      0.952889  \n",
      "1         0.969496      0.976198  \n",
      "2         0.876327      0.943405  \n",
      "3         0.973758      0.988000  \n",
      "4         0.882934      0.941264  \n",
      "5         0.915670      0.964949  \n",
      "6         0.971464      0.982281  \n",
      "7         0.876327      0.954138  \n",
      "8         0.976727      0.990335  \n",
      "9         0.890871      0.949415  \n"
     ]
    }
   ],
   "source": [
    "# === SVM and VC results ===\n",
    "\n",
    "svm_vote_results_table = pd.DataFrame(svm_vote_results, columns=columns)\n",
    "n_splits, n_repeats = 5, 5\n",
    "N = n_splits * n_repeats\n",
    "for metric in metrics:\n",
    "    se = svm_vote_results_table[f'{metric}_std'] / np.sqrt(N)\n",
    "    svm_vote_results_table[f'{metric}_ci_lower'] = svm_vote_results_table[f'{metric}_mean'] - 1.96 * se\n",
    "    svm_vote_results_table[f'{metric}_ci_lower'] = svm_vote_results_table[f'{metric}_mean'] + 1.96 * se\n",
    "print(svm_vote_results_table)"
   ]
  },
  {
   "cell_type": "markdown",
   "id": "e9e8ff16-5a53-43d6-9605-d588b14ee166",
   "metadata": {},
   "source": [
    "## Visually Assessing Model Accuracies - Initial Look"
   ]
  },
  {
   "cell_type": "code",
   "execution_count": 33,
   "id": "0f990131-4403-4a08-ade9-bc995f19e295",
   "metadata": {},
   "outputs": [
    {
     "data": {
      "image/png": "[encoded data removed]",
      "text/plain": [
       "<Figure size 1200x600 with 1 Axes>"
      ]
     },
     "metadata": {},
     "output_type": "display_data"
    }
   ],
   "source": [
    "all_results_table = pd.concat([results_table, xgb_results_table, svm_vote_results_table], ignore_index=True)\n",
    "all_results_table['Subset'] = all_results_table['Model'].str.split('-').str[-1]\n",
    "palette = {'F': 'tab:orange', 'M': 'tab:blue', 'All': 'tab:green'}\n",
    "plt.figure(figsize=(12,6))\n",
    "plt.plot(all_results_table['Model'], all_results_table['Accuracy_mean'], color='gray')\n",
    "sns.scatterplot(data=all_results_table, x='Model', y='Accuracy_mean', hue='Subset', palette=palette, s=100)\n",
    "plt.xticks(rotation=90, ha='right')\n",
    "plt.ylabel('Accuracy Score')\n",
    "plt.title('Model Accuracy Comparison')\n",
    "plt.grid(True)\n",
    "plt.tight_layout()\n",
    "plt.legend(title='Subset')\n",
    "plt.show()"
   ]
  },
  {
   "cell_type": "code",
   "execution_count": 34,
   "id": "07ff6e9c-f777-4218-a957-2e5292eb9d8a",
   "metadata": {},
   "outputs": [
    {
     "ename": "ValueError",
     "evalue": "operands could not be broadcast together with shapes (800,) (1865,) ",
     "output_type": "error",
     "traceback": [
      "\u001b[0;31m---------------------------------------------------------------------------\u001b[0m",
      "\u001b[0;31mValueError\u001b[0m                                Traceback (most recent call last)",
      "\u001b[0;32m/var/folders/zg/6k0t2w0s2672ry3mp3lfb9yw0000gn/T/ipykernel_74462/4008976079.py\u001b[0m in \u001b[0;36m?\u001b[0;34m()\u001b[0m\n\u001b[1;32m      6\u001b[0m         \u001b[0mdf\u001b[0m \u001b[0;34m=\u001b[0m \u001b[0mfold_df\u001b[0m\u001b[0;34m.\u001b[0m\u001b[0mcopy\u001b[0m\u001b[0;34m(\u001b[0m\u001b[0;34m)\u001b[0m\u001b[0;34m\u001b[0m\u001b[0;34m\u001b[0m\u001b[0m\n\u001b[1;32m      7\u001b[0m         \u001b[0mdf\u001b[0m\u001b[0;34m[\u001b[0m\u001b[0;34m'Model'\u001b[0m\u001b[0;34m]\u001b[0m \u001b[0;34m=\u001b[0m \u001b[0mmodel_name\u001b[0m\u001b[0;34m\u001b[0m\u001b[0;34m\u001b[0m\u001b[0m\n\u001b[1;32m      8\u001b[0m         \u001b[0mall_fold_tables\u001b[0m\u001b[0;34m.\u001b[0m\u001b[0mappend\u001b[0m\u001b[0;34m(\u001b[0m\u001b[0mdf\u001b[0m\u001b[0;34m)\u001b[0m\u001b[0;34m\u001b[0m\u001b[0;34m\u001b[0m\u001b[0m\n\u001b[1;32m      9\u001b[0m \u001b[0;34m\u001b[0m\u001b[0m\n\u001b[0;32m---> 10\u001b[0;31m \u001b[0mfold_metrics\u001b[0m \u001b[0;34m=\u001b[0m \u001b[0mpd\u001b[0m\u001b[0;34m.\u001b[0m\u001b[0mconcat\u001b[0m\u001b[0;34m(\u001b[0m\u001b[0mall_fold_tables\u001b[0m\u001b[0;34m,\u001b[0m \u001b[0mignore_index\u001b[0m\u001b[0;34m=\u001b[0m\u001b[0;32mTrue\u001b[0m\u001b[0;34m)\u001b[0m\u001b[0;34m\u001b[0m\u001b[0;34m\u001b[0m\u001b[0m\n\u001b[0m",
      "\u001b[0;32m/opt/anaconda3/envs/pymc_env/lib/python3.10/site-packages/pandas/core/reshape/concat.py\u001b[0m in \u001b[0;36m?\u001b[0;34m(objs, axis, join, ignore_index, keys, levels, names, verify_integrity, sort, copy)\u001b[0m\n\u001b[1;32m    391\u001b[0m         \u001b[0mcopy\u001b[0m\u001b[0;34m=\u001b[0m\u001b[0mcopy\u001b[0m\u001b[0;34m,\u001b[0m\u001b[0;34m\u001b[0m\u001b[0;34m\u001b[0m\u001b[0m\n\u001b[1;32m    392\u001b[0m         \u001b[0msort\u001b[0m\u001b[0;34m=\u001b[0m\u001b[0msort\u001b[0m\u001b[0;34m,\u001b[0m\u001b[0;34m\u001b[0m\u001b[0;34m\u001b[0m\u001b[0m\n\u001b[1;32m    393\u001b[0m     )\n\u001b[1;32m    394\u001b[0m \u001b[0;34m\u001b[0m\u001b[0m\n\u001b[0;32m--> 395\u001b[0;31m     \u001b[0;32mreturn\u001b[0m \u001b[0mop\u001b[0m\u001b[0;34m.\u001b[0m\u001b[0mget_result\u001b[0m\u001b[0;34m(\u001b[0m\u001b[0;34m)\u001b[0m\u001b[0;34m\u001b[0m\u001b[0;34m\u001b[0m\u001b[0m\n\u001b[0m",
      "\u001b[0;32m/opt/anaconda3/envs/pymc_env/lib/python3.10/site-packages/pandas/core/reshape/concat.py\u001b[0m in \u001b[0;36m?\u001b[0;34m(self)\u001b[0m\n\u001b[1;32m    687\u001b[0m             \u001b[0;32mif\u001b[0m \u001b[0;32mnot\u001b[0m \u001b[0mself\u001b[0m\u001b[0;34m.\u001b[0m\u001b[0mcopy\u001b[0m \u001b[0;32mand\u001b[0m \u001b[0;32mnot\u001b[0m \u001b[0musing_copy_on_write\u001b[0m\u001b[0;34m(\u001b[0m\u001b[0;34m)\u001b[0m\u001b[0;34m:\u001b[0m\u001b[0;34m\u001b[0m\u001b[0;34m\u001b[0m\u001b[0m\n\u001b[1;32m    688\u001b[0m                 \u001b[0mnew_data\u001b[0m\u001b[0;34m.\u001b[0m\u001b[0m_consolidate_inplace\u001b[0m\u001b[0;34m(\u001b[0m\u001b[0;34m)\u001b[0m\u001b[0;34m\u001b[0m\u001b[0;34m\u001b[0m\u001b[0m\n\u001b[1;32m    689\u001b[0m \u001b[0;34m\u001b[0m\u001b[0m\n\u001b[1;32m    690\u001b[0m             \u001b[0mout\u001b[0m \u001b[0;34m=\u001b[0m \u001b[0msample\u001b[0m\u001b[0;34m.\u001b[0m\u001b[0m_constructor_from_mgr\u001b[0m\u001b[0;34m(\u001b[0m\u001b[0mnew_data\u001b[0m\u001b[0;34m,\u001b[0m \u001b[0maxes\u001b[0m\u001b[0;34m=\u001b[0m\u001b[0mnew_data\u001b[0m\u001b[0;34m.\u001b[0m\u001b[0maxes\u001b[0m\u001b[0;34m)\u001b[0m\u001b[0;34m\u001b[0m\u001b[0;34m\u001b[0m\u001b[0m\n\u001b[0;32m--> 691\u001b[0;31m             \u001b[0;32mreturn\u001b[0m \u001b[0mout\u001b[0m\u001b[0;34m.\u001b[0m\u001b[0m__finalize__\u001b[0m\u001b[0;34m(\u001b[0m\u001b[0mself\u001b[0m\u001b[0;34m,\u001b[0m \u001b[0mmethod\u001b[0m\u001b[0;34m=\u001b[0m\u001b[0;34m\"concat\"\u001b[0m\u001b[0;34m)\u001b[0m\u001b[0;34m\u001b[0m\u001b[0;34m\u001b[0m\u001b[0m\n\u001b[0m",
      "\u001b[0;32m/opt/anaconda3/envs/pymc_env/lib/python3.10/site-packages/pandas/core/generic.py\u001b[0m in \u001b[0;36m?\u001b[0;34m(self, other, method, **kwargs)\u001b[0m\n\u001b[1;32m   6269\u001b[0m             \u001b[0;31m# propagate attrs only if all concat arguments have the same attrs\u001b[0m\u001b[0;34m\u001b[0m\u001b[0;34m\u001b[0m\u001b[0m\n\u001b[1;32m   6270\u001b[0m             \u001b[0;32mif\u001b[0m \u001b[0mall\u001b[0m\u001b[0;34m(\u001b[0m\u001b[0mbool\u001b[0m\u001b[0;34m(\u001b[0m\u001b[0mobj\u001b[0m\u001b[0;34m.\u001b[0m\u001b[0mattrs\u001b[0m\u001b[0;34m)\u001b[0m \u001b[0;32mfor\u001b[0m \u001b[0mobj\u001b[0m \u001b[0;32min\u001b[0m \u001b[0mother\u001b[0m\u001b[0;34m.\u001b[0m\u001b[0mobjs\u001b[0m\u001b[0;34m)\u001b[0m\u001b[0;34m:\u001b[0m\u001b[0;34m\u001b[0m\u001b[0;34m\u001b[0m\u001b[0m\n\u001b[1;32m   6271\u001b[0m                 \u001b[0;31m# all concatenate arguments have non-empty attrs\u001b[0m\u001b[0;34m\u001b[0m\u001b[0;34m\u001b[0m\u001b[0m\n\u001b[1;32m   6272\u001b[0m                 \u001b[0mattrs\u001b[0m \u001b[0;34m=\u001b[0m \u001b[0mother\u001b[0m\u001b[0;34m.\u001b[0m\u001b[0mobjs\u001b[0m\u001b[0;34m[\u001b[0m\u001b[0;36m0\u001b[0m\u001b[0;34m]\u001b[0m\u001b[0;34m.\u001b[0m\u001b[0mattrs\u001b[0m\u001b[0;34m\u001b[0m\u001b[0;34m\u001b[0m\u001b[0m\n\u001b[0;32m-> 6273\u001b[0;31m                 \u001b[0mhave_same_attrs\u001b[0m \u001b[0;34m=\u001b[0m \u001b[0mall\u001b[0m\u001b[0;34m(\u001b[0m\u001b[0mobj\u001b[0m\u001b[0;34m.\u001b[0m\u001b[0mattrs\u001b[0m \u001b[0;34m==\u001b[0m \u001b[0mattrs\u001b[0m \u001b[0;32mfor\u001b[0m \u001b[0mobj\u001b[0m \u001b[0;32min\u001b[0m \u001b[0mother\u001b[0m\u001b[0;34m.\u001b[0m\u001b[0mobjs\u001b[0m\u001b[0;34m[\u001b[0m\u001b[0;36m1\u001b[0m\u001b[0;34m:\u001b[0m\u001b[0;34m]\u001b[0m\u001b[0;34m)\u001b[0m\u001b[0;34m\u001b[0m\u001b[0;34m\u001b[0m\u001b[0m\n\u001b[0m\u001b[1;32m   6274\u001b[0m                 \u001b[0;32mif\u001b[0m \u001b[0mhave_same_attrs\u001b[0m\u001b[0;34m:\u001b[0m\u001b[0;34m\u001b[0m\u001b[0;34m\u001b[0m\u001b[0m\n\u001b[1;32m   6275\u001b[0m                     \u001b[0mself\u001b[0m\u001b[0;34m.\u001b[0m\u001b[0mattrs\u001b[0m \u001b[0;34m=\u001b[0m \u001b[0mdeepcopy\u001b[0m\u001b[0;34m(\u001b[0m\u001b[0mattrs\u001b[0m\u001b[0;34m)\u001b[0m\u001b[0;34m\u001b[0m\u001b[0;34m\u001b[0m\u001b[0m\n\u001b[1;32m   6276\u001b[0m \u001b[0;34m\u001b[0m\u001b[0m\n",
      "\u001b[0;32m/opt/anaconda3/envs/pymc_env/lib/python3.10/site-packages/pandas/core/generic.py\u001b[0m in \u001b[0;36m?\u001b[0;34m(.0)\u001b[0m\n\u001b[0;32m-> 6273\u001b[0;31m     \u001b[0;32mdef\u001b[0m \u001b[0m__finalize__\u001b[0m\u001b[0;34m(\u001b[0m\u001b[0mself\u001b[0m\u001b[0;34m,\u001b[0m \u001b[0mother\u001b[0m\u001b[0;34m,\u001b[0m \u001b[0mmethod\u001b[0m\u001b[0;34m:\u001b[0m \u001b[0mstr\u001b[0m \u001b[0;34m|\u001b[0m \u001b[0;32mNone\u001b[0m \u001b[0;34m=\u001b[0m \u001b[0;32mNone\u001b[0m\u001b[0;34m,\u001b[0m \u001b[0;34m**\u001b[0m\u001b[0mkwargs\u001b[0m\u001b[0;34m)\u001b[0m \u001b[0;34m->\u001b[0m \u001b[0mSelf\u001b[0m\u001b[0;34m:\u001b[0m\u001b[0;34m\u001b[0m\u001b[0;34m\u001b[0m\u001b[0m\n\u001b[0m\u001b[1;32m   6274\u001b[0m         \"\"\"\n\u001b[1;32m   6275\u001b[0m         \u001b[0mPropagate\u001b[0m \u001b[0mmetadata\u001b[0m \u001b[0;32mfrom\u001b[0m \u001b[0mother\u001b[0m \u001b[0mto\u001b[0m \u001b[0mself\u001b[0m\u001b[0;34m.\u001b[0m\u001b[0;34m\u001b[0m\u001b[0;34m\u001b[0m\u001b[0m\n\u001b[1;32m   6276\u001b[0m \u001b[0;34m\u001b[0m\u001b[0m\n",
      "\u001b[0;31mValueError\u001b[0m: operands could not be broadcast together with shapes (800,) (1865,) "
     ]
    }
   ],
   "source": [
    "# Report mean balanced accuracy for each model\n",
    "metric = \"balanced_accuracy\"\n",
    "all_fold_tables = []\n",
    "for results in (results_folds, xgb_fold_results, svm_vote_fold_results):\n",
    "    for model_name, fold_df in results.items():\n",
    "        df = fold_df.copy()\n",
    "        df['Model'] = model_name\n",
    "        all_fold_tables.append(df)\n",
    "\n",
    "fold_metrics = pd.concat(all_fold_tables, ignore_index=True)\n"
   ]
  },
  {
   "cell_type": "code",
   "execution_count": null,
   "id": "1d250877-3e41-4d39-91e3-05ac7dd8de1c",
   "metadata": {},
   "outputs": [],
   "source": []
  },
  {
   "cell_type": "code",
   "execution_count": null,
   "id": "c1b2643d-08b8-4c15-9259-b13b2d52131a",
   "metadata": {},
   "outputs": [],
   "source": [
    "summary = fold_metrics.groupby('Model')[metric].agg(['mean', 'std'])\n",
    "for model_name, row in summary.iterrows():\n",
    "    print(f\"{model_name}: {row['mean']:.4f} ± {row['std']:.4f}\")"
   ]
  },
  {
   "cell_type": "code",
   "execution_count": null,
   "id": "0661b962-51df-4e99-99f6-1fc06bbe1b1a",
   "metadata": {},
   "outputs": [],
   "source": [
    "# Displaying Balanced Accuracy  \n",
    "\n",
    "all_results_table['Subset'] = all_results_table['Model'].str.split('-').str[-1]\n",
    "palette = {'F': 'tab:orange', 'M': 'tab:blue', 'All': 'tab:green'}\n",
    "plt.figure(figsize=(12,6))\n",
    "plt.plot(all_results_table['Model'], all_results_table['BalancedAccuracy_mean'], color='gray')\n",
    "sns.scatterplot(data=all_results_table, x='Model', y='BalancedAccuracy_mean', hue='Subset', palette=palette, s=100)\n",
    "plt.xticks(rotation=90, ha='right')\n",
    "plt.ylabel('Balanced Accuracy Score')\n",
    "plt.title('Model Balanced Accuracy Comparison')\n",
    "plt.grid(True)\n",
    "plt.tight_layout()\n",
    "plt.legend(title='Subset')\n",
    "plt.show()"
   ]
  },
  {
   "cell_type": "code",
   "execution_count": null,
   "id": "75e9f5f3-0c9c-4d79-9e22-74484fa93624",
   "metadata": {},
   "outputs": [],
   "source": []
  },
  {
   "cell_type": "code",
   "execution_count": 41,
   "id": "def9301b-92f7-44d8-bd64-beaf7a7e3cab",
   "metadata": {},
   "outputs": [],
   "source": [
    "# Evaluation of models\n",
    "\n",
    "import numpy as np\n",
    "import matplotlib.pyplot as plt\n",
    "from sklearn.metrics import roc_curve, auc, brier_score_loss\n",
    "from sklearn.calibration import calibration_curve\n",
    "from IPython.display import Image, display\n",
    "\n",
    "def plot_roc_auc(model_probs: dict[str, np.array], y_true: np.ndarray, save_path: str | None = None) -> dict[str, float]:\n",
    "    aucs: dict[str, float] = {}\n",
    "    plt.figure()\n",
    "    for name, prob in model_probs.items():\n",
    "        fpr, tpr, _ = roc_curve(y_true, prob)\n",
    "        model_auc = auc(fpr, tpr)\n",
    "        aucs[name] = model_auc\n",
    "        plt.plot(fpr, tpr, label=f'{name} (AUC={model_auc:.3f})')\n",
    "    plt.plot([0, 1], [0, 1], 'k--')\n",
    "    plt.xlabel('False Positive Rate')\n",
    "    plt.ylabel('True Positive Rate')\n",
    "    plt.title('ROC Curve')\n",
    "    plt.legend(loc='lower right')\n",
    "    if save_path:\n",
    "        plt.savefig(save_path, bbox_inches='tight')\n",
    "    plt.close()\n",
    "    return aucs\n",
    "\n",
    "def decision_curve(y_true: np.ndarray, prob: np.ndarray, thresholds: np.ndarray) -> tuple[np.ndarray, np.ndarray]:\n",
    "    y_true = np.asarray(y_true)\n",
    "    prob = np.asarray(prob)\n",
    "    n = len(y_true)\n",
    "    net_benefits = []\n",
    "    for thr in thresholds:\n",
    "        pred_pos = prob >= thr\n",
    "        tp = np.sum((pred_pos == 1) & (y_true == 1))\n",
    "        fp = np.sum((pred_pos == 1) & (y_true == 0))\n",
    "        net_benefit = (tp / n) - (fp / n) * (thr / (1 - thr))\n",
    "        net_benefits.append(net_benefit)\n",
    "    return np.asarray(thresholds), np.asarray(net_benefits)\n",
    "\n",
    "def plot_decision_curves(model_probs: dict[str, np.ndarray], y_true: np.ndarray, thresholds: np.ndarray | None = None, save_path: str | None = None) -> None:\n",
    "    if thresholds is None:\n",
    "        thresholds = np.linspace(0.01, 0.99, 99)\n",
    "    plt.figure()\n",
    "    for name, prob in model_probs.items():\n",
    "        thr, nb = decision_curve(y_true, prob, thresholds)\n",
    "        plt.plot(thr, nb, label=name)\n",
    "    plt.xlabel('Threshold Probability')\n",
    "    plt.ylabel('Net Benefit')\n",
    "    plt.title('Decision Curve')\n",
    "    plt.legend(loc='lower right')\n",
    "    if save_path:\n",
    "        plt.savefig(save_path, bbox_inches='tight')\n",
    "    plt.close()\n",
    "\n",
    "def reliability_diagram(y_true: np.ndarray, prob: np.ndarray, n_bins: int = 10) -> tuple[np.ndarray, np.ndarray, float]:\n",
    "    frac_pos, mean_pred = calibration_curve(y_true, prob, n_bins=n_bins)\n",
    "    brier = brier_score_loss(y_true, prob)\n",
    "    return mean_pred, frac_pos, brier\n",
    "\n",
    "\n",
    "def plot_reliability_curves(model_probs: dict[str, np.ndarray], y_true: np.ndarray, n_bins: int = 10, save_path: str | None = None) -> dict[str, float]:\n",
    "    briers: dict[str, float] = {}\n",
    "    plt.figure()\n",
    "    for name, prob in model_probs.items():\n",
    "        mean_pred, frac_pos, brier = reliability_diagram(y_true, prob, n_bins=n_bins)\n",
    "        briers[name] = brier\n",
    "        plt.plot(mean_pred, frac_pos, marker='o', label=f'{name} (Brier={brier:.3f})')\n",
    "    plt.plot([0, 1], [0, 1], 'k--')\n",
    "    plt.xlabel('Predicted Probability')\n",
    "    plt.ylabel('Fraction of Positives')\n",
    "    plt.title('Reliability Diagram')\n",
    "    plt.legend(loc='upper left')\n",
    "    if save_path:\n",
    "        plt.savefig(save_path, bbox_inches='tight')\n",
    "    plt.close()\n",
    "    return briers\n",
    "\n"
   ]
  },
  {
   "cell_type": "code",
   "execution_count": null,
   "id": "b77e488c-3618-4a33-b428-d44e71a2158c",
   "metadata": {},
   "outputs": [],
   "source": []
  },
  {
   "cell_type": "code",
   "execution_count": null,
   "id": "af4452f5-2222-445c-9eb3-baec188d648a",
   "metadata": {},
   "outputs": [],
   "source": []
  },
  {
   "cell_type": "code",
   "execution_count": null,
   "id": "3954bef0-634d-4e0b-8081-4ca1ebb26e81",
   "metadata": {},
   "outputs": [],
   "source": []
  },
  {
   "cell_type": "code",
   "execution_count": null,
   "id": "2abb4331-6ddb-4fda-bb59-167a53a05b28",
   "metadata": {},
   "outputs": [],
   "source": [
    "## Generate predictions of each model and sex subgroup \n",
    "\n"
   ]
  },
  {
   "cell_type": "code",
   "execution_count": null,
   "id": "a1eeeac8-60f1-4787-b35f-ea29e9fc4567",
   "metadata": {},
   "outputs": [],
   "source": []
  },
  {
   "cell_type": "code",
   "execution_count": 45,
   "id": "9e343ef5-b9d6-4771-9db6-dd274908a8cc",
   "metadata": {},
   "outputs": [],
   "source": [
    "\n",
    "# === GENERATE MODEL PLOTS ===\n",
    "\n",
    "for label, df in evaluation_outputs.items():\n",
    "    y_true = np.concatenate(df['y_true'].to_numpy())\n",
    "    y_proba = np.concatenate(df['y_proba'].to_numpy())\n",
    "    model_probs = {label: y_proba}\n",
    "    plot_roc_auc(model_probs, y_true)\n",
    "    plot_decision_curves(model_probs, y_true)\n",
    "    plot_reliability_curves(model_probs, y_true)\n",
    "\n",
    "    \n",
    "\n",
    "\n",
    "#### TODO\n",
    "#from scipy.stats import ttest_rel\n",
    "#import pandas as pd\n",
    "\n",
    "# Extract AUC scores for each model from the earlier results\n",
    "# Define model pairs to compare\n",
    "# Perform t-tests\n",
    "# Bonferroni correction\n",
    "\n",
    "# Evaluate all models with cross validation??"
   ]
  },
  {
   "cell_type": "code",
   "execution_count": null,
   "id": "6ad77370-c84b-4ac5-89f0-387d906c51ed",
   "metadata": {},
   "outputs": [],
   "source": []
  }
 ],
 "metadata": {
  "kernelspec": {
   "display_name": "Python (pymc_env)",
   "language": "python",
   "name": "pymc_env"
  },
  "language_info": {
   "codemirror_mode": {
    "name": "ipython",
    "version": 3
   },
   "file_extension": ".py",
   "mimetype": "text/x-python",
   "name": "python",
   "nbconvert_exporter": "python",
   "pygments_lexer": "ipython3",
   "version": "3.10.16"
  }
 },
 "nbformat": 4,
 "nbformat_minor": 5
}
