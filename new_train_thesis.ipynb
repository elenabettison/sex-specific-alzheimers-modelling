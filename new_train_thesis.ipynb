{
 "cells": [
  {
   "cell_type": "markdown",
   "id": "c071deca-c05e-42db-816d-310c2f9c3737",
   "metadata": {},
   "source": [
    "# Sex-Specific Alzheimer's Disease Modelling Experimentations"
   ]
  },
  {
   "cell_type": "markdown",
   "id": "95f7b7cc-ff22-48c4-8066-206ac908783a",
   "metadata": {},
   "source": [
    "## Set-up and Cleaning"
   ]
  },
  {
   "cell_type": "code",
   "execution_count": 307,
   "id": "7f7cdf5b-5163-4cc6-9788-c58bce00e581",
   "metadata": {},
   "outputs": [],
   "source": [
    "# === Load and clean data ===\n",
    "import pandas as pd\n",
    "import numpy as np\n",
    "from sklearn.svm import SVC\n",
    "from sklearn.model_selection import train_test_split\n",
    "from sklearn.linear_model import LogisticRegression\n",
    "from sklearn.preprocessing import StandardScaler\n",
    "from sklearn.ensemble import RandomForestClassifier, VotingClassifier\n",
    "from sklearn.model_selection import RepeatedStratifiedKFold\n",
    "from sklearn.model_selection import StratifiedGroupKFold\n",
    "from sklearn.metrics import accuracy_score, f1_score, precision_score, recall_score, roc_auc_score\n",
    "from sklearn.pipeline import Pipeline\n",
    "from xgboost import XGBClassifier\n",
    "import matplotlib.pyplot as plt\n",
    "import seaborn as sns\n",
    "from scipy.stats import ttest_rel\n",
    "from scipy import stats\n",
    "\n",
    "#p_value = ttest_rel(baseline_fold_metrics, sex_specific_fold_metrics).pvalue\n",
    "\n",
    "\n"
   ]
  },
  {
   "cell_type": "code",
   "execution_count": 308,
   "id": "5dea7543-8ca4-42d3-8549-1dbe5410404d",
   "metadata": {},
   "outputs": [
    {
     "name": "stdout",
     "output_type": "stream",
     "text": [
      "    Subject ID         MRI ID        Group  Visit  MR Delay M/F Hand  Age  \\\n",
      "0    OAS2_0001  OAS2_0001_MR1  Nondemented      1         0   M    R   87   \n",
      "1    OAS2_0001  OAS2_0001_MR2  Nondemented      2       457   M    R   88   \n",
      "2    OAS2_0002  OAS2_0002_MR1     Demented      1         0   M    R   75   \n",
      "3    OAS2_0002  OAS2_0002_MR2     Demented      2       560   M    R   76   \n",
      "4    OAS2_0002  OAS2_0002_MR3     Demented      3      1895   M    R   80   \n",
      "..         ...            ...          ...    ...       ...  ..  ...  ...   \n",
      "368  OAS2_0185  OAS2_0185_MR2     Demented      2       842   M    R   82   \n",
      "369  OAS2_0185  OAS2_0185_MR3     Demented      3      2297   M    R   86   \n",
      "370  OAS2_0186  OAS2_0186_MR1  Nondemented      1         0   F    R   61   \n",
      "371  OAS2_0186  OAS2_0186_MR2  Nondemented      2       763   F    R   63   \n",
      "372  OAS2_0186  OAS2_0186_MR3  Nondemented      3      1608   F    R   65   \n",
      "\n",
      "     EDUC  SES  MMSE  CDR  eTIV   nWBV    ASF  \n",
      "0      14  2.0  27.0  0.0  1987  0.696  0.883  \n",
      "1      14  2.0  30.0  0.0  2004  0.681  0.876  \n",
      "2      12  NaN  23.0  0.5  1678  0.736  1.046  \n",
      "3      12  NaN  28.0  0.5  1738  0.713  1.010  \n",
      "4      12  NaN  22.0  0.5  1698  0.701  1.034  \n",
      "..    ...  ...   ...  ...   ...    ...    ...  \n",
      "368    16  1.0  28.0  0.5  1693  0.694  1.037  \n",
      "369    16  1.0  26.0  0.5  1688  0.675  1.040  \n",
      "370    13  2.0  30.0  0.0  1319  0.801  1.331  \n",
      "371    13  2.0  30.0  0.0  1327  0.796  1.323  \n",
      "372    13  2.0  30.0  0.0  1333  0.801  1.317  \n",
      "\n",
      "[373 rows x 15 columns]\n"
     ]
    }
   ],
   "source": [
    "# Load OASIS dataset\n",
    "df = pd.read_csv(\"oasis_longitudinal.csv\")\n",
    "print(df)"
   ]
  },
  {
   "cell_type": "code",
   "execution_count": 309,
   "id": "f5b689c9-5f03-4d70-9ec2-b09c179561ae",
   "metadata": {},
   "outputs": [],
   "source": [
    "# Fill missing SES and MMSE values\n",
    "df['SES'] = df['SES'].fillna(df['SES'].median())\n",
    "df['MMSE'] = df['MMSE'].fillna(df['MMSE'].mean())"
   ]
  },
  {
   "cell_type": "code",
   "execution_count": 310,
   "id": "d5713ea5-ba81-49c6-88b2-295ccad1928a",
   "metadata": {},
   "outputs": [],
   "source": [
    "# Convert labels to binary classification: demented = 1, nondemented = 0\n",
    "df['Group'] = df['Group'].replace(\"Converted\", \"Demented\")\n",
    "df['Group'] = df['Group'].map({\"Demented\": 1, \"Nondemented\": 0})"
   ]
  },
  {
   "cell_type": "code",
   "execution_count": 311,
   "id": "5ea231f3-353b-44b8-b7c7-a26592fb9889",
   "metadata": {},
   "outputs": [],
   "source": [
    "# Define features and dropping missing values\n",
    "my_features = ['Age', 'EDUC', 'SES', 'MMSE', 'CDR', 'eTIV', 'nWBV', 'ASF']\n",
    "df_clean = df.dropna(subset=my_features + ['Group', 'M/F'])"
   ]
  },
  {
   "cell_type": "markdown",
   "id": "8222a268-b78c-4ff4-b27d-e2856ca1da79",
   "metadata": {},
   "source": [
    "## Repeated Train/Test Evaluation Function"
   ]
  },
  {
   "cell_type": "code",
   "execution_count": 313,
   "id": "98d15d34-080b-49b3-8209-1c4025fda294",
   "metadata": {},
   "outputs": [],
   "source": [
    "\n",
    "# === REPEATED TRAIN/TEST EVALUATION ===\n",
    "\n",
    "def repeated_evaluation(model, X, y, label, sex=None, sex_filter=None, groups=None, n_splits=5, n_repeats=5):\n",
    "    fold_metrics = []\n",
    "    for repeat in range(n_repeats):\n",
    "        sgkf = StratifiedGroupKFold(n_splits=n_splits, shuffle=True, random_state=42 + repeat)\n",
    "        for fold, (train_idx, test_idx) in enumerate(sgkf.split(X, y, groups)):\n",
    "            X_train, X_test = X.iloc[train_idx], X.iloc[test_idx]\n",
    "            y_train, y_test = y.iloc[train_idx], y.iloc[test_idx]\n",
    "            scaler = StandardScaler() \n",
    "            X_train_scaled = scaler.fit_transform(X_train) \n",
    "            X_test_scaled = scaler.transform(X_test)\n",
    "            model.fit(X_train_scaled, y_train)\n",
    "            y_pred = model.predict(X_test_scaled)\n",
    "            y_proba = model.predict_proba(X_test_scaled) [:, 1]\n",
    "        if sex is not None and sex_filter is not None:\n",
    "            test_sex = sex.iloc[test_idx]\n",
    "            mask = test_sex == sex_filter\n",
    "            if not mask.any():\n",
    "                continue\n",
    "            y_test = y_test[mask]\n",
    "            y_pred = y_pred[mask]\n",
    "            y_proba = y_proba[mask]\n",
    "\n",
    "        fold_metrics.append({\n",
    "            'repeat': repeat,\n",
    "            'fold': fold,\n",
    "            'accuracy': accuracy_score(y_test, y_pred),\n",
    "            'f1': f1_score(y_test, y_pred),\n",
    "            'precision': precision_score(y_test, y_pred),\n",
    "            'recall': recall_score(y_test, y_pred),\n",
    "            'roc_auc': roc_auc_score(y_test, y_proba)\n",
    "        })\n",
    "\n",
    "    metrics_df = pd.DataFrame(fold_metrics)\n",
    "    metrics = metrics_df[['accuracy', 'f1', 'precision', 'recall', 'roc_auc']]\n",
    "    means = metrics.mean()\n",
    "    stds = metrics.std()\n",
    "    summary = [\n",
    "        label,\n",
    "        means['accuracy'], stds['accuracy'],\n",
    "        means['f1'], stds['f1'],\n",
    "        means['precision'], stds['precision'],\n",
    "        means['recall'], stds['recall'],\n",
    "        means['roc_auc'], stds['roc_auc']\n",
    "    ]\n",
    "   \n",
    "    return summary, metrics_df"
   ]
  },
  {
   "cell_type": "code",
   "execution_count": 314,
   "id": "ff68efce-8d76-4afc-b3c5-7239b0ef30c2",
   "metadata": {},
   "outputs": [],
   "source": [
    "results = []\n",
    "results_folds = {}\n",
    "X_all = df_clean[my_features]\n",
    "y_all = df_clean['Group']\n",
    "sex_all = df_clean['M/F']\n",
    "groups_all = df_clean['Subject ID']"
   ]
  },
  {
   "cell_type": "markdown",
   "id": "2dd39d1c-e200-4b5a-9644-ca58c6fd173e",
   "metadata": {},
   "source": [
    "## Logistic Regression and Random Forest Classifier Models"
   ]
  },
  {
   "cell_type": "code",
   "execution_count": 316,
   "id": "beeae0a5-a338-484a-92f0-d5a65668ab9c",
   "metadata": {},
   "outputs": [],
   "source": [
    "\n",
    "# === General models ===\n",
    "\n",
    "summary, folds = repeated_evaluation(LogisticRegression(max_iter=1000), X_all, y_all, \"Gen-LR-All\", groups=groups_all)\n",
    "results.append(summary)\n",
    "results_folds[\"Gen-LR-All\"] = folds\n",
    "summary, folds = repeated_evaluation(RandomForestClassifier(n_estimators=100, random_state=42), X_all, y_all, \"Gen-RF-All\", groups=groups_all)\n",
    "results.append(summary)\n",
    "results_folds[\"Gen-RF-All\"] = folds\n",
    "summary, folds = repeated_evaluation(LogisticRegression(max_iter=1000), X_all, y_all, \"Gen-LR-M\", sex=sex_all, sex_filter='M', groups=groups_all)\n",
    "results.append\n",
    "results_folds[\"Gen-LR-M\"] = folds\n",
    "summary, folds = repeated_evaluation(LogisticRegression(max_iter=1000), X_all, y_all, \"Gen-LR-F\", sex=sex_all, sex_filter='F', groups=groups_all)\n",
    "results.append\n",
    "results_folds[\"Gen-LR-F\"] = folds\n",
    "summary, folds = repeated_evaluation(RandomForestClassifier(n_estimators=100, random_state=42), X_all, y_all, \"Gen-RF-M\", sex=sex_all, sex_filter='M', groups=groups_all)\n",
    "results.append\n",
    "results_folds[\"Gen-RF-M\"] = folds\n",
    "summary, fold = repeated_evaluation(RandomForestClassifier(n_estimators=100, random_state=42), X_all, y_all, \"Gen-RF-F\", sex=sex_all, sex_filter='F', groups=groups_all)\n",
    "results.append\n",
    "results_folds[\"Gen-RF-F\"] = folds\n"
   ]
  },
  {
   "cell_type": "code",
   "execution_count": 329,
   "id": "5d954c20-d3a9-4d14-8d34-8cfa090414be",
   "metadata": {},
   "outputs": [],
   "source": [
    "\n",
    "# === Sex specific models ===\n",
    "\n",
    "df_male = df_clean[df_clean['M/F'] == 'M']\n",
    "df_female = df_clean[df_clean['M/F'] == 'F']\n",
    "groups_f = df_female['Subject ID']\n",
    "groups_m = df_male['Subject ID']\n",
    "\n",
    "X_m, y_m = df_male[my_features], df_male['Group']\n",
    "\n",
    "summary, folds = repeated_evaluation(LogisticRegression(max_iter=1000), X_m, y_m, \"Male-LR-M\", groups=groups_m)\n",
    "results.append(summary)\n",
    "results_folds[\"Male-LR-M\"] = folds\n",
    "summary, folds = repeated_evaluation(RandomForestClassifier(n_estimators=100, random_state=42), X_m, y_m, \"Male-RF-M\", groups=groups_m)\n",
    "results.append(summary)\n",
    "results_folds[\"Male-RF-M\"] = folds\n",
    "\n",
    "X_f, y_f = df_female[my_features], df_female['Group']\n",
    "\n",
    "summary, folds = repeated_evaluation(LogisticRegression(max_iter=1000), X_f, y_f, \"Female-LR-F\", groups=groups_f)\n",
    "results.append(summary)\n",
    "results_folds[\"Female-LR-F\"] = folds\n",
    "summary, folds = repeated_evaluation(RandomForestClassifier(n_estimators=100, random_state=42), X_f, y_f, \"Female-RF-F\", groups=groups_f)\n",
    "results.append(summary)\n",
    "results_folds[\"Female-RF-F\"] = folds"
   ]
  },
  {
   "cell_type": "code",
   "execution_count": 330,
   "id": "4cb015c7-5b91-4e73-afc5-5d00f3aaa52d",
   "metadata": {},
   "outputs": [
    {
     "name": "stdout",
     "output_type": "stream",
     "text": [
      "         Model  Accuracy_mean  Accuracy_std   F1_mean    F1_std  \\\n",
      "0   Gen-LR-All       0.940433      0.015127  0.935406  0.018655   \n",
      "1   Gen-RF-All       0.945530      0.017214  0.941044  0.022994   \n",
      "2    Male-LR-M       0.970289      0.038332  0.976566  0.029948   \n",
      "3    Male-LR-M       0.970289      0.038332  0.976566  0.029948   \n",
      "4    Male-RF-M       0.930390      0.047504  0.944774  0.038695   \n",
      "5  Female-LR-F       0.959723      0.039251  0.921754  0.081457   \n",
      "6  Female-RF-F       0.936847      0.030709  0.891209  0.069142   \n",
      "\n",
      "   Precision_mean  Precision_std  Recall_mean  Recall_std  AUC_mean  ...  \\\n",
      "0        0.986406       0.018655     0.889599    0.023265  0.971773  ...   \n",
      "1        0.981644       0.017308     0.903995    0.032869  0.959873  ...   \n",
      "2        0.990476       0.021296     0.965035    0.059080  0.989091  ...   \n",
      "3        0.990476       0.021296     0.965035    0.059080  0.989091  ...   \n",
      "4        0.932308       0.084510     0.965035    0.059080  0.976938  ...   \n",
      "5        1.000000       0.000000     0.863312    0.139839  0.936664  ...   \n",
      "6        0.934303       0.038056     0.863312    0.139839  0.945862  ...   \n",
      "\n",
      "   Accuracy_ci_lower  Accuracy_ci_upper  F1_ci_lower  F1_ci_upper  \\\n",
      "0           0.934503           0.946363     0.928093     0.942719   \n",
      "1           0.938782           0.952278     0.932030     0.950057   \n",
      "2           0.955263           0.985315     0.964827     0.988306   \n",
      "3           0.955263           0.985315     0.964827     0.988306   \n",
      "4           0.911768           0.949012     0.929606     0.959943   \n",
      "5           0.944336           0.975109     0.889823     0.953686   \n",
      "6           0.924810           0.948885     0.864105     0.918313   \n",
      "\n",
      "   Precision_ci_lower  Precision_ci_upper  Recall_ci_lower  Recall_ci_upper  \\\n",
      "0            0.979093            0.993718         0.880479         0.898719   \n",
      "1            0.974859            0.988428         0.891110         0.916879   \n",
      "2            0.982128            0.998824         0.941876         0.988194   \n",
      "3            0.982128            0.998824         0.941876         0.988194   \n",
      "4            0.899180            0.965436         0.941876         0.988194   \n",
      "5            1.000000            1.000000         0.808495         0.918128   \n",
      "6            0.919385            0.949221         0.808495         0.918128   \n",
      "\n",
      "   AUC_ci_lower  AUC_ci_upper  \n",
      "0      0.965663      0.977882  \n",
      "1      0.950971      0.968775  \n",
      "2      0.979529      0.998653  \n",
      "3      0.979529      0.998653  \n",
      "4      0.963310      0.990565  \n",
      "5      0.911194      0.962134  \n",
      "6      0.925953      0.965770  \n",
      "\n",
      "[7 rows x 21 columns]\n"
     ]
    }
   ],
   "source": [
    "\n",
    "# === Results Table ===\n",
    "columns =['Model', 'Accuracy_mean', 'Accuracy_std', 'F1_mean', 'F1_std', 'Precision_mean', 'Precision_std', 'Recall_mean', 'Recall_std', 'AUC_mean', 'AUC_std']\n",
    "results_table = pd.DataFrame(results, columns=columns)\n",
    "n_splits, n_repeats = 5, 5\n",
    "metrics = ['Accuracy', 'F1', 'Precision', 'Recall', 'AUC']\n",
    "N = n_splits * n_repeats\n",
    "for metric in metrics:\n",
    "    se = results_table[f'{metric}_std'] / np.sqrt(N)\n",
    "    results_table[f'{metric}_ci_lower'] = results_table[f'{metric}_mean'] - 1.96 * se\n",
    "    results_table[f'{metric}_ci_upper'] = results_table[f'{metric}_mean'] + 1.96 * se\n",
    "print(results_table)\n"
   ]
  },
  {
   "cell_type": "code",
   "execution_count": null,
   "id": "b25f73ae-bbd7-4f40-b0a8-3a4c3e58af8e",
   "metadata": {},
   "outputs": [],
   "source": []
  },
  {
   "cell_type": "markdown",
   "id": "9d1ea2d3-703a-45d2-bcbc-cf74309ab0f4",
   "metadata": {},
   "source": [
    "## XGBOOST models"
   ]
  },
  {
   "cell_type": "code",
   "execution_count": 335,
   "id": "40d9a554-db5e-4640-a43e-d171a81223ec",
   "metadata": {},
   "outputs": [],
   "source": [
    "xgb_results = []\n",
    "xgb_fold_results = {}\n",
    "xgb_model = XGBClassifier(eval_metric='logloss')\n",
    "\n",
    "summary, folds = repeated_evaluation(xgb_model, X_all, y_all, 'Gen-XGB-All', groups=groups_all)\n",
    "xgb_results.append(summary)\n",
    "xgb_fold_results['Gen-XGB-All'] = folds\n",
    "summary, folds = repeated_evaluation(xgb_model, X_all, y_all, 'Gen-XGB-M', sex=sex_all, sex_filter='M', groups=groups_all)\n",
    "xgb_results.append(summary)\n",
    "xgb_fold_results['Gen-XGB-M'] = folds\n",
    "summary, folds = repeated_evaluation(xgb_model, X_all, y_all, 'Gen-XGB-F', sex=sex_all, sex_filter='F', groups=groups_all)\n",
    "xgb_results.append(summary)\n",
    "xgb_fold_results['Gen-XGB-F'] = folds\n",
    "\n",
    "summary, folds = repeated_evaluation(xgb_model, X_m, y_m, 'Male-XGB-M', groups=groups_m)\n",
    "xgb_results.append(summary)                  \n",
    "xgb_fold_results['Male-XGB-M'] = folds\n",
    "summary, folds = repeated_evaluation(xgb_model, X_f, y_f, 'Female-XGB-F', groups=groups_f)\n",
    "xgb_results.append(summary)                  \n",
    "xgb_fold_results['Female-XGB-F'] = folds\n",
    "\n"
   ]
  },
  {
   "cell_type": "code",
   "execution_count": 336,
   "id": "b79068ae-d5ea-4aa6-84f3-7fff9779ebbc",
   "metadata": {},
   "outputs": [
    {
     "name": "stdout",
     "output_type": "stream",
     "text": [
      "          Model  Accuracy_mean  Accuracy_std   F1_mean    F1_std  \\\n",
      "0   Gen-XGB-All       0.940637      0.033243  0.934190  0.044696   \n",
      "1     Gen-XGB-M       0.947964      0.037605  0.961388  0.028790   \n",
      "2     Gen-XGB-F       0.932364      0.053914  0.875929  0.115393   \n",
      "3    Male-XGB-M       0.958673      0.035301  0.966515  0.027974   \n",
      "4  Female-XGB-F       0.913392      0.032533  0.867011  0.028357   \n",
      "\n",
      "   Precision_mean  Precision_std  Recall_mean  Recall_std  AUC_mean  ...  \\\n",
      "0        0.956288       0.054158     0.913946    0.046383  0.949987  ...   \n",
      "1        0.957609       0.051041     0.966375    0.019165  0.974155  ...   \n",
      "2        0.949206       0.070452     0.817803    0.152650  0.907991  ...   \n",
      "3        0.971292       0.041575     0.965035    0.059080  0.976713  ...   \n",
      "4        0.913621       0.088210     0.843312    0.121328  0.902926  ...   \n",
      "\n",
      "   Accuracy_ci_lower  Accuracy_ci_upper  F1_ci_lower  F1_ci_upper  \\\n",
      "0           0.927606           0.953668     0.916670     0.951711   \n",
      "1           0.933223           0.962705     0.950102     0.972674   \n",
      "2           0.911230           0.953499     0.830695     0.921163   \n",
      "3           0.944835           0.972511     0.955549     0.977481   \n",
      "4           0.900639           0.926145     0.855895     0.878127   \n",
      "\n",
      "   Precision_ci_lower  Precision_ci_upper  Recall_ci_lower  Recall_ci_upper  \\\n",
      "0            0.935058            0.977518         0.895763         0.932128   \n",
      "1            0.937601            0.977617         0.958862         0.973887   \n",
      "2            0.921589            0.976823         0.757964         0.877642   \n",
      "3            0.954995            0.987589         0.941876         0.988194   \n",
      "4            0.879042            0.948199         0.795751         0.890872   \n",
      "\n",
      "   AUC_ci_lower  AUC_ci_upper  \n",
      "0      0.941105      0.958869  \n",
      "1      0.967119      0.981191  \n",
      "2      0.883157      0.932824  \n",
      "3      0.960503      0.992924  \n",
      "4      0.873336      0.932515  \n",
      "\n",
      "[5 rows x 21 columns]\n"
     ]
    }
   ],
   "source": [
    "xgb_results_table = pd.DataFrame(xgb_results, columns=columns)\n",
    "n_splits, n_repeats = 5, 5\n",
    "N = n_splits * n_repeats\n",
    "for metric in metrics:\n",
    "    se = xgb_results_table[f'{metric}_std'] / np.sqrt(N)\n",
    "    xgb_results_table[f'{metric}_ci_lower'] = xgb_results_table[f'{metric}_mean'] - 1.96 * se\n",
    "    xgb_results_table[f'{metric}_ci_upper'] = xgb_results_table[f'{metric}_mean'] + 1.96 * se\n",
    "print(xgb_results_table)"
   ]
  },
  {
   "cell_type": "markdown",
   "id": "a5e96ef7-9266-4dab-a887-14096db08033",
   "metadata": {},
   "source": [
    "## Support Vector Machine and Voting Classifier Models "
   ]
  },
  {
   "cell_type": "code",
   "execution_count": 338,
   "id": "ebc0afe2-139f-4cbd-aa88-36435e124a2b",
   "metadata": {},
   "outputs": [],
   "source": [
    "svm_vote_results = []\n",
    "svm_vote_fold_results = {}\n",
    "svm_model = SVC(kernel='rbf', probability=True, class_weight='balanced', random_state=42)\n",
    "\n",
    "# === SVM general models ===\n",
    "summary, folds = repeated_evaluation(svm_model, X_all, y_all, 'Gen-SVM-All', groups=groups_all)\n",
    "svm_vote_results.append(summary)\n",
    "svm_vote_fold_results['Gen-SVM-All'] = folds\n",
    "summary, folds = repeated_evaluation(svm_model, X_all, y_all, 'Gen-SVM-M', groups=groups_all)\n",
    "svm_vote_results.append(summary)\n",
    "svm_vote_fold_results['Gen-SVM-M'] = folds\n",
    "summary, folds = repeated_evaluation(svm_model, X_all, y_all, 'Gen-SVM-F', groups=groups_all)\n",
    "svm_vote_results.append(summary)\n",
    "svm_vote_fold_results['Gen-SVM-F'] = folds\n",
    "\n",
    "# === SVM sex-specific models ===\n",
    "summary, folds = repeated_evaluation(svm_model, X_m, y_m, 'Male-SVM-M', groups=groups_m)\n",
    "svm_vote_results.append(summary)\n",
    "svm_vote_fold_results['Male-SVM-M'] = folds\n",
    "\n",
    "summary, folds = repeated_evaluation(svm_model, X_f, y_f, 'Female-SVM-F', groups=groups_f)\n",
    "svm_vote_results.append(summary)\n",
    "svm_vote_fold_results['Female-SVM-F'] = folds"
   ]
  },
  {
   "cell_type": "code",
   "execution_count": 339,
   "id": "9b7a16b2-ba34-4965-98b0-0e3ab686ee29",
   "metadata": {},
   "outputs": [],
   "source": [
    "# === Voting Classifier Set-up ===\n",
    "\n",
    "voting_estimators =[\n",
    "    ('lr', LogisticRegression(max_iter=1000)),\n",
    "    ('rf', RandomForestClassifier(n_estimators=100, random_state=42)),\n",
    "    ('svm', SVC(kernel='rbf', probability=True, class_weight='balanced', random_state=42)),\n",
    "]\n",
    "voting_clf = VotingClassifier(estimators=voting_estimators, voting='soft')\n",
    "\n",
    "    "
   ]
  },
  {
   "cell_type": "code",
   "execution_count": 344,
   "id": "e57656fc-88b2-410e-8bf7-c9548acdf61f",
   "metadata": {},
   "outputs": [],
   "source": [
    "# === VC general models ===\n",
    "summary, folds = repeated_evaluation(voting_clf, X_all, y_all, 'Gen-VOTE-All', groups=groups_all)\n",
    "svm_vote_results.append(summary)\n",
    "svm_vote_fold_results['Gen-VOTE-All'] = folds\n",
    "summary, folds = repeated_evaluation(voting_clf, X_all, y_all, 'Gen-VOTE-M', sex=sex_all, sex_filter='M', groups=groups_all)\n",
    "svm_vote_results.append(summary)\n",
    "svm_vote_fold_results['Gen-VOTE-M'] = folds\n",
    "summary, folds = repeated_evaluation(voting_clf, X_all, y_all, 'Gen-VOTE-F', sex=sex_all, sex_filter='F', groups=groups_all)\n",
    "svm_vote_results.append(summary)\n",
    "svm_vote_fold_results['Gen-VOTE-F'] = folds\n",
    "                                         \n",
    "# === VC sex-specific models\n",
    "summary, folds = repeated_evaluation(voting_clf, X_m, y_m, 'Male-VOTE-M', groups=groups_m)\n",
    "svm_vote_results.append(summary)\n",
    "svm_vote_fold_results['Male-VOTE-M'] = folds\n",
    "summary, folds = repeated_evaluation(voting_clf, X_f, y_f, 'Female-VOTE-F', groups=groups_f)\n",
    "svm_vote_results.append(summary)\n",
    "svm_vote_fold_results['Female-VOTE-F'] = folds\n"
   ]
  },
  {
   "cell_type": "code",
   "execution_count": 345,
   "id": "db6d4d0a-fb6c-42cf-a40a-12187d2f3e84",
   "metadata": {},
   "outputs": [
    {
     "name": "stdout",
     "output_type": "stream",
     "text": [
      "           Model  Accuracy_mean  Accuracy_std   F1_mean    F1_std  \\\n",
      "0    Gen-SVM-All       0.937801      0.017447  0.932609  0.021757   \n",
      "1      Gen-SVM-M       0.937801      0.017447  0.932609  0.021757   \n",
      "2      Gen-SVM-F       0.937801      0.017447  0.932609  0.021757   \n",
      "3     Male-SVM-M       0.969595      0.054160  0.976078  0.043368   \n",
      "4   Female-SVM-F       0.954845      0.034183  0.911228  0.071625   \n",
      "5   Gen-VOTE-All       0.940433      0.015127  0.935406  0.018655   \n",
      "6     Gen-VOTE-M       0.965453      0.013011  0.973939  0.010982   \n",
      "7     Gen-VOTE-F       0.918739      0.027483  0.858285  0.056212   \n",
      "8    Male-VOTE-M       0.975845      0.040627  0.981444  0.031689   \n",
      "9  Female-VOTE-F       0.954845      0.034183  0.912231  0.072290   \n",
      "\n",
      "   Precision_mean  Precision_std  Recall_mean  Recall_std  AUC_mean   AUC_std  \\\n",
      "0        0.980357       0.028516     0.889599    0.023265  0.956426  0.017748   \n",
      "1        0.980357       0.028516     0.889599    0.023265  0.956426  0.017748   \n",
      "2        0.980357       0.028516     0.889599    0.023265  0.956426  0.017748   \n",
      "3        1.000000       0.000000     0.955944    0.078792  0.990210  0.019994   \n",
      "4        1.000000       0.000000     0.843312    0.121328  0.917543  0.083326   \n",
      "5        0.986406       0.018655     0.889599    0.023265  0.964243  0.019383   \n",
      "6        0.982213       0.024365     0.966375    0.019165  0.981719  0.014207   \n",
      "7        1.000000       0.000000     0.755141    0.086109  0.938823  0.042326   \n",
      "8        1.000000       0.000000     0.965035    0.059080  0.988531  0.016619   \n",
      "9        0.981818       0.040656     0.863312    0.139839  0.926891  0.070326   \n",
      "\n",
      "   Accuracy_ci_lower  F1_ci_lower  Precision_ci_lower  Recall_ci_lower  \\\n",
      "0           0.944640     0.941137            0.991535         0.898719   \n",
      "1           0.944640     0.941137            0.991535         0.898719   \n",
      "2           0.944640     0.941137            0.991535         0.898719   \n",
      "3           0.990825     0.993079            1.000000         0.986830   \n",
      "4           0.968245     0.939305            1.000000         0.890872   \n",
      "5           0.946363     0.942719            0.993718         0.898719   \n",
      "6           0.970553     0.978244            0.991765         0.973887   \n",
      "7           0.929512     0.880320            1.000000         0.788895   \n",
      "8           0.991770     0.993866            1.000000         0.988194   \n",
      "9           0.968245     0.940568            0.997755         0.918128   \n",
      "\n",
      "   AUC_ci_lower  \n",
      "0      0.963383  \n",
      "1      0.963383  \n",
      "2      0.963383  \n",
      "3      0.998048  \n",
      "4      0.950207  \n",
      "5      0.971841  \n",
      "6      0.987288  \n",
      "7      0.955414  \n",
      "8      0.995046  \n",
      "9      0.954459  \n"
     ]
    }
   ],
   "source": [
    "# === SVM and VC results ===\n",
    "\n",
    "svm_vote_results_table = pd.DataFrame(svm_vote_results, columns=columns)\n",
    "n_splits, n_repeats = 5, 5\n",
    "N = n_splits * n_repeats\n",
    "for metric in metrics:\n",
    "    se = svm_vote_results_table[f'{metric}_std'] / np.sqrt(N)\n",
    "    svm_vote_results_table[f'{metric}_ci_lower'] = svm_vote_results_table[f'{metric}_mean'] - 1.96 * se\n",
    "    svm_vote_results_table[f'{metric}_ci_lower'] = svm_vote_results_table[f'{metric}_mean'] + 1.96 * se\n",
    "print(svm_vote_results_table)"
   ]
  },
  {
   "cell_type": "markdown",
   "id": "e9e8ff16-5a53-43d6-9605-d588b14ee166",
   "metadata": {},
   "source": [
    "## Visually Assessing Model Accuracies - Initial Look"
   ]
  },
  {
   "cell_type": "code",
   "execution_count": 347,
   "id": "0f990131-4403-4a08-ade9-bc995f19e295",
   "metadata": {},
   "outputs": [
    {
     "data": {
      "image/png": "[encoded data removed]",
      "text/plain": [
       "<Figure size 1200x600 with 1 Axes>"
      ]
     },
     "metadata": {},
     "output_type": "display_data"
    }
   ],
   "source": [
    "all_results_table = pd.concat([results_table, xgb_results_table,svm_vote_results_table], ignore_index=True)\n",
    "all_results_table['Subset'] = all_results_table['Model'].str.split('-').str[-1]\n",
    "palette = {'F': 'tab:orange', 'M': 'tab:blue', 'All': 'tab:green'}\n",
    "plt.figure(figsize=(12,6))\n",
    "plt.plot(all_results_table['Model'], all_results_table['Accuracy_mean'], color='gray')\n",
    "sns.scatterplot(data=all_results_table, x='Model', y='Accuracy_mean', hue='Subset', palette=palette, s=100)\n",
    "plt.xticks(rotation=90, ha='right')\n",
    "plt.ylabel('Accuracy Score')\n",
    "plt.title('Model Accuracy Comparison')\n",
    "plt.grid(True)\n",
    "plt.tight_layout()\n",
    "plt.legend(title='Subset')\n",
    "plt.show()"
   ]
  },
  {
   "cell_type": "markdown",
   "id": "1cf6e22c-77e0-4d34-81cf-10843d7b48f7",
   "metadata": {},
   "source": [
    "## t-tests"
   ]
  },
  {
   "cell_type": "code",
   "execution_count": 371,
   "id": "1d250877-3e41-4d39-91e3-05ac7dd8de1c",
   "metadata": {},
   "outputs": [],
   "source": [
    "from statistics import mean, stdev, NormalDist, StatisticsError\n",
    "from math import sqrt\n",
    "class TTestResult:\n",
    "    def __init__(self, statistic, pvalue):\n",
    "        self.statistic = statistic\n",
    "        self.pvalue = pvalue\n",
    "\n",
    "def ttest(a, b):\n",
    "    if len(a) != len(b):\n",
    "        raise ValueError(\"diff length of input lists\")\n",
    "    if len(a) < 2:\n",
    "        raise ValueError(\"don't have two paired samples\")\n",
    "    diff = [x - y for x, y in zip(a,b)]\n",
    "    try:\n",
    "        sd = stdev(diff)\n",
    "    except StatisticsError:\n",
    "        sd = 0.0\n",
    "    if sd == 0:\n",
    "        return TTestResult(0.0, 1.0)\n",
    "    t = mean(diff) / (sd / sqrt(len(diff)))\n",
    "    p = 2 * (1 - NormalDist().cdf(abs(t)))\n",
    "    return TTestResult(t, p)\n",
    "\n",
    "    "
   ]
  },
  {
   "cell_type": "code",
   "execution_count": 373,
   "id": "07ff6e9c-f777-4218-a957-2e5292eb9d8a",
   "metadata": {},
   "outputs": [
    {
     "name": "stdout",
     "output_type": "stream",
     "text": [
      "     repeat  fold  accuracy        f1  precision    recall   roc_auc  \\\n",
      "0         0     4  0.922078  0.928571   1.000000  0.866667  0.948611   \n",
      "1         1     4  0.962500  0.957746   1.000000  0.918919  0.989315   \n",
      "2         2     4  0.936709  0.915254   0.964286  0.870968  0.976478   \n",
      "3         3     4  0.934211  0.923077   0.967742  0.882353  0.964986   \n",
      "4         4     4  0.946667  0.952381   1.000000  0.909091  0.979472   \n",
      "..      ...   ...       ...       ...        ...       ...       ...   \n",
      "120       0     4  0.914894  0.833333   1.000000  0.714286  0.859307   \n",
      "121       1     4  0.975610  0.952381   0.909091  1.000000  1.000000   \n",
      "122       2     4  0.930233  0.842105   1.000000  0.727273  0.860795   \n",
      "123       3     4  0.953488  0.933333   1.000000  0.875000  0.914352   \n",
      "124       4     4  1.000000  1.000000   1.000000  1.000000  1.000000   \n",
      "\n",
      "             model selection algorithm  sex  \n",
      "0       Gen-LR-All       Gen        LR  All  \n",
      "1       Gen-LR-All       Gen        LR  All  \n",
      "2       Gen-LR-All       Gen        LR  All  \n",
      "3       Gen-LR-All       Gen        LR  All  \n",
      "4       Gen-LR-All       Gen        LR  All  \n",
      "..             ...       ...       ...  ...  \n",
      "120  Female-VOTE-F    Female      VOTE    F  \n",
      "121  Female-VOTE-F    Female      VOTE    F  \n",
      "122  Female-VOTE-F    Female      VOTE    F  \n",
      "123  Female-VOTE-F    Female      VOTE    F  \n",
      "124  Female-VOTE-F    Female      VOTE    F  \n",
      "\n",
      "[125 rows x 11 columns]\n"
     ]
    }
   ],
   "source": [
    "# Use paired t-tests to compare model performance on per-fold metrics\n",
    "import pandas as pd\n",
    "from itertools import combinations\n",
    "metric = \"roc_auc\"\n",
    "all_fold_tables = []\n",
    "for results in (results_folds, xgb_fold_results, svm_vote_fold_results):\n",
    "    for model_name, fold_df in results.items():\n",
    "        df = fold_df.copy()\n",
    "        df[\"model\"] = model_name\n",
    "        all_fold_tables.append(df)\n",
    "\n",
    "fold_metrics = pd.concat(all_fold_tables, ignore_index=True)\n",
    "parts = fold_metrics[\"model\"].str.split(\"-\", expand=True)\n",
    "fold_metrics[\"selection\"] = parts[0]\n",
    "fold_metrics[\"algorithm\"] = parts[1]\n",
    "fold_metrics[\"sex\"] = parts[2]\n",
    "\n",
    "\n",
    "#p_value = ttest_rel(baseline_fold_metrics, sex_specific_fold_metrics).pvalue\n",
    "\n",
    "\n",
    "print(fold_metrics)"
   ]
  },
  {
   "cell_type": "code",
   "execution_count": 375,
   "id": "c1b2643d-08b8-4c15-9259-b13b2d52131a",
   "metadata": {},
   "outputs": [
    {
     "name": "stdout",
     "output_type": "stream",
     "text": [
      "LR-M: p-value=0.4632\n",
      "LR-F: p-value=0.5003\n",
      "RF-M: p-value=0.8500\n",
      "RF-F: p-value=0.1461\n",
      "XGB-M: p-value=0.8356\n",
      "XGB-F: p-value=0.8575\n",
      "SVM-M: p-value=0.0199\n",
      "SVM-F: p-value=0.2771\n",
      "VOTE-M: p-value=0.2838\n",
      "VOTE-F: p-value=0.5650\n"
     ]
    }
   ],
   "source": [
    "for alg in fold_metrics[\"algorithm\"].unique():\n",
    "    for sex in [\"M\", \"F\"]:\n",
    "        baseline_values = fold_metrics[\n",
    "            (fold_metrics[\"selection\"] == \"Gen\") &\n",
    "            (fold_metrics[\"algorithm\"] == alg) &\n",
    "            (fold_metrics[\"sex\"] == sex)\n",
    "        ][metric].tolist()\n",
    "        specific_group = \"Male\" if sex == \"M\" else \"Female\"\n",
    "        specific_vals = fold_metrics[\n",
    "            (fold_metrics[\"selection\"] == specific_group) &\n",
    "            (fold_metrics[\"algorithm\"] == alg) &\n",
    "            (fold_metrics[\"sex\"] == sex)\n",
    "        ][metric].tolist()\n",
    "        if baseline_values and specific_vals:\n",
    "            p_value = ttest(baseline_values, specific_vals).pvalue\n",
    "            print(f\"{alg}-{sex}: p-value={p_value:.4f}\")\n",
    "    "
   ]
  },
  {
   "cell_type": "code",
   "execution_count": null,
   "id": "9e343ef5-b9d6-4771-9db6-dd274908a8cc",
   "metadata": {},
   "outputs": [],
   "source": [
    "#### TODO\n",
    "#from scipy.stats import ttest_rel\n",
    "#import pandas as pd\n",
    "\n",
    "# Extract AUC scores for each model from the earlier results\n",
    "# Define model pairs to compare\n",
    "# Perform t-tests\n",
    "# Bonferroni correction\n",
    "\n",
    "# Evaluate all models with cross validation??"
   ]
  }
 ],
 "metadata": {
  "kernelspec": {
   "display_name": "Python (pymc_env)",
   "language": "python",
   "name": "pymc_env"
  },
  "language_info": {
   "codemirror_mode": {
    "name": "ipython",
    "version": 3
   },
   "file_extension": ".py",
   "mimetype": "text/x-python",
   "name": "python",
   "nbconvert_exporter": "python",
   "pygments_lexer": "ipython3",
   "version": "3.10.16"
  }
 },
 "nbformat": 4,
 "nbformat_minor": 5
}
