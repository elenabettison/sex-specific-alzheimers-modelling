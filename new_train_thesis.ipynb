{
 "cells": [
  {
   "cell_type": "code",
   "execution_count": null,
   "id": "721f3b9f-0898-4a3b-abc4-5ddaa2e503d5",
   "metadata": {},
   "outputs": [],
   "source": []
  },
  {
   "cell_type": "code",
   "execution_count": null,
   "id": "097022bd-efa3-4e8c-8528-6424a5126928",
   "metadata": {},
   "outputs": [],
   "source": [
    "\n"
   ]
  },
  {
   "cell_type": "code",
   "execution_count": 52,
   "id": "7f7cdf5b-5163-4cc6-9788-c58bce00e581",
   "metadata": {},
   "outputs": [],
   "source": [
    "# === Load and clean data ===\n",
    "import pandas as pd\n",
    "import numpy as np\n",
    "from sklearn.model_selection import train_test_split\n",
    "from sklearn.linear_model import LogisticRegression\n",
    "from sklearn.preprocessing import StandardScaler\n",
    "from sklearn.ensemble import RandomForestClassifier\n",
    "from sklearn.model_selection import RepeatedStratifiedKFold\n",
    "from sklearn.metrics import accuracy_score, f1_score, precision_score, recall_score, roc_auc_score\n",
    "import matplotlib.pyplot as plt\n",
    "import seaborn as sns\n",
    "\n",
    "\n",
    "\n",
    "\n"
   ]
  },
  {
   "cell_type": "code",
   "execution_count": 54,
   "id": "5dea7543-8ca4-42d3-8549-1dbe5410404d",
   "metadata": {},
   "outputs": [],
   "source": [
    "# Load OASIS dataset\n",
    "df = pd.read_csv(\"oasis_longitudinal.csv\")"
   ]
  },
  {
   "cell_type": "code",
   "execution_count": 56,
   "id": "f5b689c9-5f03-4d70-9ec2-b09c179561ae",
   "metadata": {},
   "outputs": [],
   "source": [
    "# Fill missing SES and MMSE values\n",
    "df['SES'] = df['SES'].fillna(df['SES'].median())\n",
    "df['MMSE'] = df['MMSE'].fillna(df['MMSE'].mean())"
   ]
  },
  {
   "cell_type": "code",
   "execution_count": 58,
   "id": "d5713ea5-ba81-49c6-88b2-295ccad1928a",
   "metadata": {},
   "outputs": [],
   "source": [
    "# Convert labels to binary classification: demented = 1, nondemented = 0\n",
    "df['Group'] = df['Group'].replace(\"Converted\", \"Demented\")\n",
    "df['Group'] = df['Group'].map({\"Demented\": 1, \"Nondemented\": 0})"
   ]
  },
  {
   "cell_type": "code",
   "execution_count": 60,
   "id": "5ea231f3-353b-44b8-b7c7-a26592fb9889",
   "metadata": {},
   "outputs": [],
   "source": [
    "# Define features and dropping missing values\n",
    "my_features = ['Age', 'EDUC', 'SES', 'MMSE', 'CDR', 'eTIV', 'nWBV', 'ASF']\n",
    "df_clean = df.dropna(subset=my_features + ['Group', 'M/F'])"
   ]
  },
  {
   "cell_type": "code",
   "execution_count": 80,
   "id": "98d15d34-080b-49b3-8209-1c4025fda294",
   "metadata": {},
   "outputs": [],
   "source": [
    "\n",
    "# === REPEATED TRAIN/TEST EVALUATION ===\n",
    "\n",
    "def repeated_evaluation(model, X, y, label, sex=None, sex_filter=None, n_splits=5, n_repeats=5):\n",
    "    rskf = RepeatedStratifiedKFold(n_splits=n_splits, n_repeats=n_repeats, random_state=42)\n",
    "    metrics = []\n",
    "    for train_idx, test_idx in rskf.split(X, y):\n",
    "        X_train, X_test = X.iloc[train_idx], X.iloc[test_idx]\n",
    "        y_train, y_test = y.iloc[train_idx], y.iloc[test_idx]\n",
    "        scaler = StandardScaler()\n",
    "        X_train_scaled = scaler.fit_transform(X_train)\n",
    "        X_test_scaled = scaler.transform(X_test)\n",
    "        model.fit(X_train_scaled, y_train)\n",
    "        y_pred = model.predict(X_test_scaled)\n",
    "        y_proba = model.predict_proba(X_test_scaled) [:, 1]\n",
    "\n",
    "        if sex is not None and sex_filter is not None:\n",
    "            test_sex = sex.iloc[test_idx]\n",
    "            mask = test_sex == sex_filter\n",
    "            if not mask.any():\n",
    "                continue\n",
    "            y_test = y_test[mask]\n",
    "            y_pred = y_pred[mask]\n",
    "            y_proba = y_proba[mask]\n",
    "        \n",
    "        metrics.append([\n",
    "            accuracy_score(y_test, y_pred),\n",
    "            f1_score(y_test, y_pred),\n",
    "            precision_score(y_test, y_pred),\n",
    "            recall_score(y_test, y_pred),\n",
    "            roc_auc_score(y_test, y_proba)\n",
    "\n",
    "        ])\n",
    "    metrics = np.array(metrics)\n",
    "    return[label,\n",
    "           metrics[:, 0].mean(),\n",
    "           metrics[:, 1].mean(),\n",
    "           metrics[:, 2].mean(),\n",
    "           metrics[:, 3].mean(),\n",
    "           metrics[:, 4].mean()\n",
    "          ]"
   ]
  },
  {
   "cell_type": "code",
   "execution_count": 82,
   "id": "beeae0a5-a338-484a-92f0-d5a65668ab9c",
   "metadata": {},
   "outputs": [],
   "source": [
    "\n",
    "results = []\n",
    "X_all = df_clean[my_features]\n",
    "y_all = df_clean['Group']\n",
    "sex_all = df_clean['M/F']\n",
    "results.append(repeated_evaluation(LogisticRegression(max_iter=1000), X_all, y_all, \"Gen-LR-All\"))\n",
    "results.append(repeated_evaluation(RandomForestClassifier(n_estimators=100, random_state=42), X_all, y_all, \"Gen-RF-All\"))\n",
    "results.append(repeated_evaluation(LogisticRegression(max_iter=1000), X_all, y_all, \"Gen-LR-M\", sex=sex_all, sex_filter='M'))\n",
    "results.append(repeated_evaluation(LogisticRegression(max_iter=1000), X_all, y_all, \"Gen-LR-F\", sex=sex_all, sex_filter='F'))\n",
    "results.append(repeated_evaluation(RandomForestClassifier(n_estimators=100, random_state=42), X_all, y_all, \"Gen-RF-M\", sex=sex_all, sex_filter='M'))\n",
    "results.append(repeated_evaluation(RandomForestClassifier(n_estimators=100, random_state=42), X_all, y_all, \"Gen-RF-F\", sex=sex_all, sex_filter='F'))\n",
    "   "
   ]
  },
  {
   "cell_type": "code",
   "execution_count": 83,
   "id": "5d954c20-d3a9-4d14-8d34-8cfa090414be",
   "metadata": {},
   "outputs": [],
   "source": [
    "\n",
    "# === Sex specific models ===\n",
    "df_male = df_clean[df_clean['M/F'] == 'M']\n",
    "X_m, y_m = df_male[my_features], df_male['Group']\n",
    "results.append(repeated_evaluation(LogisticRegression(max_iter=1000), X_m, y_m, \"Male-LR-M\"))\n",
    "results.append(repeated_evaluation(RandomForestClassifier(n_estimators=100, random_state=42), X_m, y_m, \"Male-RF-M\"))\n",
    "\n",
    "df_female = df_clean[df_clean['M/F'] == 'F']\n",
    "X_f, y_f = df_female[my_features], df_female['Group']\n",
    "results.append(repeated_evaluation(LogisticRegression(max_iter=1000), X_f, y_f, \"Female-LR-F\"))\n",
    "results.append(repeated_evaluation(RandomForestClassifier(n_estimators=100, random_state=42), X_f, y_f, \"Female-RF-F\"))\n"
   ]
  },
  {
   "cell_type": "code",
   "execution_count": 86,
   "id": "4cb015c7-5b91-4e73-afc5-5d00f3aaa52d",
   "metadata": {},
   "outputs": [
    {
     "name": "stdout",
     "output_type": "stream",
     "text": [
      "         Model  Accuracy        F1  Precision    Recall       AUC\n",
      "0   Gen-LR-All  0.946422  0.942416   0.988400  0.901772  0.966515\n",
      "1   Gen-RF-All  0.950710  0.948022   0.977572  0.921411  0.972922\n",
      "2     Gen-LR-M  0.957140  0.962788   0.979404  0.948691  0.985002\n",
      "3     Gen-LR-F  0.939134  0.912852   1.000000  0.843199  0.953064\n",
      "4     Gen-RF-M  0.959600  0.965441   0.971189  0.961010  0.982255\n",
      "5     Gen-RF-F  0.944635  0.922296   0.985149  0.871239  0.962767\n",
      "6    Male-LR-M  0.953750  0.961994   0.976217  0.949368  0.990381\n",
      "7    Male-RF-M  0.968750  0.974582   0.980417  0.969579  0.987573\n",
      "8  Female-LR-F  0.940819  0.917100   1.000000  0.849559  0.944749\n",
      "9  Female-RF-F  0.941728  0.921281   0.972023  0.878235  0.966439\n"
     ]
    }
   ],
   "source": [
    "\n",
    "# === Results Table ===\n",
    "\n",
    "columns =['Model', 'Accuracy', 'F1', 'Precision', 'Recall', 'AUC']\n",
    "results_table = pd.DataFrame(results, columns=columns)\n",
    "print(results_table)\n"
   ]
  },
  {
   "cell_type": "code",
   "execution_count": null,
   "id": "40d9a554-db5e-4640-a43e-d171a81223ec",
   "metadata": {},
   "outputs": [],
   "source": []
  },
  {
   "cell_type": "code",
   "execution_count": null,
   "id": "b79068ae-d5ea-4aa6-84f3-7fff9779ebbc",
   "metadata": {},
   "outputs": [],
   "source": []
  },
  {
   "cell_type": "code",
   "execution_count": null,
   "id": "f2d45616-7e98-441a-837b-0a06db43380f",
   "metadata": {},
   "outputs": [],
   "source": []
  },
  {
   "cell_type": "code",
   "execution_count": null,
   "id": "ebc0afe2-139f-4cbd-aa88-36435e124a2b",
   "metadata": {},
   "outputs": [],
   "source": []
  },
  {
   "cell_type": "code",
   "execution_count": null,
   "id": "9b7a16b2-ba34-4965-98b0-0e3ab686ee29",
   "metadata": {},
   "outputs": [],
   "source": []
  },
  {
   "cell_type": "code",
   "execution_count": null,
   "id": "9e343ef5-b9d6-4771-9db6-dd274908a8cc",
   "metadata": {},
   "outputs": [],
   "source": [
    "#### TODO\n",
    "#from scipy.stats import ttest_rel\n",
    "#import pandas as pd\n",
    "\n",
    "# Extract AUC scores for each model from the earlier results\n",
    "# Define model pairs to compare\n",
    "# Perform t-tests\n",
    "# Bonferroni correction\n",
    "\n",
    "# Evaluate all models with cross validation??"
   ]
  }
 ],
 "metadata": {
  "kernelspec": {
   "display_name": "Python (pymc_env)",
   "language": "python",
   "name": "pymc_env"
  },
  "language_info": {
   "codemirror_mode": {
    "name": "ipython",
    "version": 3
   },
   "file_extension": ".py",
   "mimetype": "text/x-python",
   "name": "python",
   "nbconvert_exporter": "python",
   "pygments_lexer": "ipython3",
   "version": "3.10.16"
  }
 },
 "nbformat": 4,
 "nbformat_minor": 5
}
